{
 "cells": [
  {
   "cell_type": "markdown",
   "metadata": {},
   "source": [
    "# Exécution d'un notebook Jupyter\n",
    "\n",
    "Un notebook Jupyter permet de combiner, dans un même document, des sections (cellules) en langue naturelle et des sections exécutables, écrites dans un langage de programmation. Les notebooks Jupyter ont pour extension `.ipynb` et peuvent être exportés dans d'autres formats, HTML notamment. L'exécution de ces notebooks nécessite une application web, Jupyter Notebook, qui est capable de les manipuler (création, modification) et de les exécuter. Jupyter Notebook peut être utilisés sur le web, notamment via le site mybinder.org, et en local, en installant l'application (via Anaconda par exemple).\n",
    "\n",
    "## Exécution sur la machine en local\n",
    "\n",
    "Jupyter Notebook est installé par défaut avec Anaconda. Il suffit alors de sélectionner Jupyter Notebook dans le menu Démarrer (sous Windows). Le lancement de Jupyter Notebook ouvre un navigateur web (Firefox par exemple) à l'adresse http://localhost:8888 \n",
    "\n",
    "Ce tableau de bord permet d'accéder à l'arborescence des fichiers sur la machine. Il suffit ensuite de naviguer dans cette arborescence pour accéder à un fichier .ipynb sauvegardé sur la machine et ainsi le visualiser et l'exécuter."
   ]
  }
 ],
 "metadata": {
  "kernelspec": {
   "display_name": "Python 3",
   "language": "python",
   "name": "python3"
  },
  "language_info": {
   "codemirror_mode": {
    "name": "ipython",
    "version": 3
   },
   "file_extension": ".py",
   "mimetype": "text/x-python",
   "name": "python",
   "nbconvert_exporter": "python",
   "pygments_lexer": "ipython3",
   "version": "3.7.4"
  }
 },
 "nbformat": 4,
 "nbformat_minor": 2
}
