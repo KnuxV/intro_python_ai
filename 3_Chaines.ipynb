{
 "cells": [
  {
   "cell_type": "markdown",
   "metadata": {},
   "source": [
    "# Strings\n",
    "\n",
    "## Table of Contents\n",
    "1. [Initializing Strings](#initialisation)\n",
    "1. [Special Characters](#caractères)\n",
    "1. [✏️ Exercise: Apostrophes](#ex_apostrophes)\n",
    "1. [String Concatenation](#concatenation)\n",
    "1. [Accessing Characters in a String](#accès)\n",
    "1. [✏️ Exercise: String Slices and Concatenations](#ex_tranches)\n",
    "1. [Inserting Values into a String](#insertion)\n",
    "1. [Strings vs. Numbers](#nombres)\n",
    "1. [✏️ Exercise: Singular Form of a Noun](#ex_singulier)\n",
    "1. [✏️ Exercise: Number Squared](#ex_carré)\n",
    "1. [✏️ Exercise: Present Tense Conjugation](#ex_present)\n",
    "1. [✏️ Exercise: Carbon Footprint of Coffee Cups](#ex_gobelet)\n",
    "\n",
    "In computational linguistics, we work primarily with textual data. It is therefore necessary to learn how to manipulate string variables that will be used to store texts.\n",
    "\n",
    "## 1. Initializing Strings\n",
    "\n",
    "Strings are surrounded by straight quotes, either single or double. The entire string must be on the same line. To enter text on multiple lines, you need to surround it with three apostrophes (''')"
   ]
  },
  {
   "cell_type": "code",
   "execution_count": null,
   "metadata": {},
   "outputs": [],
   "source": [
    "haiku = '''An old pond and\n",
    "A frog that jumps in,\n",
    "The sound of water.'''\n",
    "print(haiku)"
   ]
  },
  {
   "cell_type": "markdown",
   "metadata": {},
   "source": [
    "## 2. Special Characters\n",
    "\n",
    "Test the code below:"
   ]
  },
  {
   "cell_type": "code",
   "execution_count": null,
   "metadata": {},
   "outputs": [],
   "source": [
    "weather = 'It's nice today'"
   ]
  },
  {
   "cell_type": "markdown",
   "metadata": {},
   "source": [
    "The syntax error (`SyntaxError`) indicates that the instruction is not well-formed according to Python's syntax rules. In this case, there's a problem with closing the string. Python identifies the end of the string when it encounters the first apostrophe. However, the string doesn't end until after \"today\". In these cases, there are two solutions.\n",
    "\n",
    "The first solution is to surround the string with double quotes:"
   ]
  },
  {
   "cell_type": "code",
   "execution_count": null,
   "metadata": {},
   "outputs": [],
   "source": [
    "weather = \"It's nice today\""
   ]
  },
  {
   "cell_type": "markdown",
   "metadata": {},
   "source": [
    "The second solution is to \"escape\" the apostrophe in \"It's\" using the escape character `\\`:\n"
   ]
  },
  {
   "cell_type": "code",
   "execution_count": null,
   "metadata": {},
   "outputs": [],
   "source": [
    "weather = 'It\\'s nice today'"
   ]
  },
  {
   "cell_type": "markdown",
   "metadata": {},
   "source": [
    "## 3. ✏️ Exercise: Apostrophes\n",
    "Initialize the variable `quote` with the following text (without getting a syntax error, of course):\n",
    "\n",
    "> Little Tim said: \"If I would've known, I wouldn't have come!\""
   ]
  },
  {
   "cell_type": "code",
   "execution_count": null,
   "metadata": {},
   "outputs": [],
   "source": [
    "quote = "
   ]
  },
  {
   "cell_type": "markdown",
   "metadata": {},
   "source": [
    "## 4. String Concatenation\n",
    "Concatenation consists of \"gluing\" strings together, one after another. It is done using the `+` symbol:"
   ]
  },
  {
   "cell_type": "code",
   "execution_count": null,
   "metadata": {},
   "outputs": [
    {
     "name": "stdout",
     "output_type": "stream",
     "text": [
      "Hello Ada\n"
     ]
    }
   ],
   "source": [
    "greeting = \"Hello \" # See the space at the end of Hello ?\n",
    "first_name = \"Ada\"\n",
    "print(greeting + first_name)"
   ]
  },
  {
   "cell_type": "markdown",
   "metadata": {},
   "source": [
    "## 5. Accessing Characters in a String\n",
    "\n",
    "Each character in a string is associated with a position in the string. The first character is at position 0, the second character at position 1, and so on. Thus, to extract the fifth character from the word \"abracadabra\", we write:"
   ]
  },
  {
   "cell_type": "code",
   "execution_count": null,
   "metadata": {},
   "outputs": [],
   "source": [
    "word = \"abracadabra\"\n",
    "fifth_letter = word[4]\n",
    "print(fifth_letter)"
   ]
  },
  {
   "cell_type": "markdown",
   "metadata": {},
   "source": [
    "We can also use this method to extract a substring from a string:"
   ]
  },
  {
   "cell_type": "code",
   "execution_count": null,
   "metadata": {},
   "outputs": [],
   "source": [
    "word = \"abracadabra\"\n",
    "# Extract the first three characters\n",
    "first_three = word[0:3]\n",
    "print(\"First three\", first_three)\n",
    "# Extract the last three characters\n",
    "last_three = word[-3:]\n",
    "print(\"Last three\", last_three)\n",
    "# Extract from the second to the fifth character\n",
    "two_five = word[1:5]\n",
    "print(\"From 2nd to 5th character\", two_five)"
   ]
  },
  {
   "cell_type": "markdown",
   "metadata": {},
   "source": [
    "The image below illustrates the principle of substring extraction for the text \"Monty Python\" (Source: http://www.nltk.org/book/ch03.html):\n",
    "\n",
    "![string-slicing.png](http://www.nltk.org/images/string-slicing.png)"
   ]
  },
  {
   "cell_type": "markdown",
   "metadata": {},
   "source": [
    "## 6. ✏️ Exercise: String Slices and Concatenations\n",
    "Given the two words below, provide the code that displays the word \"singer\" using only substring extraction and concatenation (you are therefore not allowed to use quotes)."
   ]
  },
  {
   "cell_type": "code",
   "execution_count": null,
   "metadata": {},
   "outputs": [],
   "source": [
    "word1 = \"singing\"\n",
    "word2 = \"dancer\""
   ]
  },
  {
   "cell_type": "markdown",
   "metadata": {},
   "source": [
    "## 7. Inserting Values into a String\n",
    "\n",
    "To display text containing the value of one or more variables that are not strings (an integer or a real number), it is not possible to use the concatenation operator. In this case, we use formatted strings (_f-strings_), which allow you to include variables and even portions of code:"
   ]
  },
  {
   "cell_type": "code",
   "execution_count": null,
   "metadata": {},
   "outputs": [],
   "source": [
    "day = 17\n",
    "month = 9\n",
    "year = 2018\n",
    "print(f\"Today is {day}/{month}/{year}\")\n",
    "print(f\"Tomorrow will be {day+1}/{month}/{year}\")"
   ]
  },
  {
   "cell_type": "markdown",
   "metadata": {},
   "source": [
    "## 8. Strings vs. Numbers\n",
    "When you enter text from the keyboard, the result will be saved as a string, even if it's a number. Thus, entering 15 will be saved as '15'. This has repercussions on the operations that are possible and their results:"
   ]
  },
  {
   "cell_type": "code",
   "execution_count": 2,
   "metadata": {},
   "outputs": [
    {
     "name": "stdout",
     "output_type": "stream",
     "text": [
      "202020\n",
      "60\n"
     ]
    }
   ],
   "source": [
    "price = '20'\n",
    "quantity = 3\n",
    "print(price * quantity) # Displays 202020\n",
    "price = 20\n",
    "print(price * quantity) # Displays 60"
   ]
  },
  {
   "cell_type": "markdown",
   "metadata": {},
   "source": [
    "What operation is performed by `*` for strings? For numbers?\n",
    "\n",
    "It is possible to convert a string to a number and vice versa:"
   ]
  },
  {
   "cell_type": "code",
   "execution_count": null,
   "metadata": {},
   "outputs": [],
   "source": [
    "price = '50'\n",
    "price_converted = int(price)\n",
    "print(price * quantity) # Displays 505050\n",
    "print(price_converted * quantity) # Displays 150\n",
    "price_reconverted = str(price_converted)\n",
    "print(price_reconverted * quantity) # Displays 505050"
   ]
  },
  {
   "cell_type": "markdown",
   "metadata": {},
   "source": [
    "This is also possible with decimal numbers:"
   ]
  },
  {
   "cell_type": "code",
   "execution_count": null,
   "metadata": {},
   "outputs": [],
   "source": [
    "price = '15.5'\n",
    "price_converted = float(price)\n",
    "print(price_converted * quantity) # Displays 46.5"
   ]
  },
  {
   "cell_type": "markdown",
   "metadata": {},
   "source": [
    "## 9. ✏️ Exercise: Singular Form of a Noun\n",
    "\n",
    "Revisit the exercise seen at the beginning of class, which asks for a singular masculine noun and displays its plural. Transform the program so that it asks for a plural masculine noun ending in 's' and displays the singular, as follows:"
   ]
  },
  {
   "cell_type": "code",
   "execution_count": null,
   "metadata": {},
   "outputs": [],
   "source": [
    "# Exercice : singulier d'un nom"
   ]
  },
  {
   "cell_type": "markdown",
   "metadata": {},
   "source": [
    "## 10. ✏️ Exercise: Number Squared\n",
    "\n",
    "Write a program that asks the user to enter a number and displays the number squared:\n",
    "Expected output:\n",
    "```\n",
    "Input a number :\n",
    "3\n",
    "3 squared equals 9\n",
    "```"
   ]
  },
  {
   "cell_type": "code",
   "execution_count": null,
   "metadata": {},
   "outputs": [],
   "source": [
    "# Exercice : nombre au carré"
   ]
  },
  {
   "cell_type": "markdown",
   "metadata": {},
   "source": [
    "## 12. ✏️ Exercise: Carbon Footprint of Coffee Cups\n",
    "\n",
    "The price of a coffee bought from a coffee machine at the Patio cafeteria is 80 cents.\n",
    "Moreover, the coffees are distributed in disposable cardboard cups.\n",
    "According to [this article](https://www.linkedin.com/pulse/%C3%A9tude-de-cas-bilan-carbone-le-gobelet-fip-objets-publicitaires/?originalSubdomain=fr), a cardboard cup has a carbon footprint of approximately 0.007 kgCO2e. A reusable plastic cup has a carbon footprint of 0.06 kgCO2 (since the cup is reusable, this footprint is the same regardless of the number of uses).\n",
    "Finally, at the cafeteria, people who use their own cup get a 10-cent discount: the coffee then costs 70 cents.\n",
    "\n",
    "Write a program that asks for the number of coffees consumed per week.\n",
    "\n",
    "The program will then display a comparison between using disposable cardboard cups and using a reusable cup, according to the following criteria:\n",
    "- the total carbon footprint for one academic year (considering that an academic year has 28 weeks)\n",
    "- the total cost of coffee consumption for the year\n",
    "\n",
    "Example of program usage:\n",
    "```\n",
    "How many coffees do you consume per week? 7\n",
    "Carbon and financial footprint of your annual coffee consumption:\n",
    "Disposable cardboard cups: €156.80 and 1.37 kgCO2e\n",
    "Reusable plastic cup: €137.20 and 0.06 kgCO2e\n",
    "By using a reusable cup, you save €19.60 and 1.31 kgCO2e\n",
    "```"
   ]
  },
  {
   "cell_type": "code",
   "execution_count": null,
   "metadata": {},
   "outputs": [],
   "source": [
    "# Exercice : empreinte carbone des gobelets pour le café."
   ]
  }
 ],
 "metadata": {
  "kernelspec": {
   "display_name": "Python 3",
   "language": "python",
   "name": "python3"
  },
  "language_info": {
   "codemirror_mode": {
    "name": "ipython",
    "version": 3
   },
   "file_extension": ".py",
   "mimetype": "text/x-python",
   "name": "python",
   "nbconvert_exporter": "python",
   "pygments_lexer": "ipython3",
   "version": "3.13.7"
  }
 },
 "nbformat": 4,
 "nbformat_minor": 4
}
