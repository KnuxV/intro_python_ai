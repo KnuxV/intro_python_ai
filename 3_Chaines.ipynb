{
 "cells": [
  {
   "cell_type": "markdown",
   "metadata": {},
   "source": [
    "# Les chaînes de caractères\n",
    "\n",
    "## Sommaire\n",
    "1. [Initialisation des chaînes de caractères](#initialisation)\n",
    "1. [Les caractères spéciaux](#caractères)\n",
    "1. [✏️ Exercice : apostrophes](#ex_apostrophes)\n",
    "1. [Concaténation de chaînes de caractères](#concatenation)\n",
    "1. [Accès aux caractères d'une chaîne](#accès)\n",
    "1. [✏️ Exercice : tranches et concaténations de chaînes](#ex_tranches)\n",
    "1. [Insertion de valeurs dans une chaîne](#insertion)\n",
    "1. [Chaînes vs. nombres](#nombres)\n",
    "1. [✏️ Exercice : singulier d'un nom](#ex_singulier)\n",
    "1. [✏️ Exercice : nombre au carré](#ex_carré)\n",
    "1. [✏️ Exercice : conjugaison au présent de l'indicatif](#ex_present)\n",
    "1. [✏️ Exercice : impact carbone des gobelets pour le café](#ex_gobelet)\n",
    "\n",
    "En linguistique informatique, on travaille essentiellement sur des données textuelles. Il est donc nécessaire d'apprendre à manipuler les variables de type chaîne de caractères qui vont être utilisées pour stocker des textes.\n",
    "\n",
    "## 1. Initialisation des chaînes de caractères <a name=\"initialisation\"></a>\n",
    "\n",
    "Les chaînes de caractères sont entourées par des guillemets droits, simples ou doubles. Toute la chaîne doit se trouver sur la même ligne. Pour entrer des textes sur plusieurs lignes, il faut les entourer par trois apostrophes (''')"
   ]
  },
  {
   "cell_type": "code",
   "execution_count": null,
   "metadata": {},
   "outputs": [],
   "source": [
    "haiku = '''Un vieil étang et\n",
    "Une grenouille qui plonge,\n",
    "Le bruit de l'eau.'''\n",
    "print(haiku)"
   ]
  },
  {
   "cell_type": "markdown",
   "metadata": {},
   "source": [
    "## 2. Les caractères spéciaux <a name=\"caractères\"></a>\n",
    "\n",
    "Testez le code ci-dessous :"
   ]
  },
  {
   "cell_type": "code",
   "execution_count": null,
   "metadata": {},
   "outputs": [],
   "source": [
    "meteo = 'Il fait beau aujourd'hui'"
   ]
  },
  {
   "cell_type": "markdown",
   "metadata": {},
   "source": [
    "L'erreur de syntaxe (`SyntaxError`) indique que l'instruction n'est pas bien formée par rapport aux règles de syntaxe propres au langage Python. En l'occurrence, ici, il y a un problème avec la fermeture de la chaîne. Python identifie la fin de chaîne lorsqu'il rencontre la première apostrophe. Or la chaîne ne se termine qu'après \"hui\". Dans ces cas, il y a deux solutions.\n",
    "\n",
    "La première solution consiste à entourer la chaîne par des guillemets doubles :"
   ]
  },
  {
   "cell_type": "code",
   "execution_count": null,
   "metadata": {},
   "outputs": [],
   "source": [
    "meteo = \"Il fait beau aujourd'hui\""
   ]
  },
  {
   "cell_type": "markdown",
   "metadata": {},
   "source": [
    "La deuxième solution consiste à \"échapper\" l'apostrophe qui se trouve dans \"aujourd'hui\" à l'aide du caractère d'échappement `\\` :"
   ]
  },
  {
   "cell_type": "code",
   "execution_count": null,
   "metadata": {},
   "outputs": [],
   "source": [
    "meteo = 'Il fait beau aujourd\\'hui'"
   ]
  },
  {
   "cell_type": "markdown",
   "metadata": {},
   "source": [
    "## 3. ✏️ Exercice : apostrophes <a name=\"ex_apostrophes\"></a>\n",
    "Initialisez la variable `replique` avec le texte suivant (sans qu'il y a ait d'erreur de syntaxe bien sûr) : \n",
    "\n",
    "> Petit Gibus dit :  \"Si j'aurais su, j'aurais pas v'nu !\""
   ]
  },
  {
   "cell_type": "code",
   "execution_count": null,
   "metadata": {},
   "outputs": [],
   "source": [
    "replique = "
   ]
  },
  {
   "cell_type": "markdown",
   "metadata": {},
   "source": [
    "## 4. Concaténation de chaînes de caractères <a name=\"concatenation\"></a>\n",
    "La concaténation consiste à \"coller\" des chaînes de caractères ensemble, les unes à la suite des autres. Elle se fait à l'aide du symbole `+` :"
   ]
  },
  {
   "cell_type": "code",
   "execution_count": null,
   "metadata": {},
   "outputs": [],
   "source": [
    "salutation = \"Bonjour \"\n",
    "prenom = \"Ada\"\n",
    "print(salutation + prenom)"
   ]
  },
  {
   "cell_type": "markdown",
   "metadata": {},
   "source": [
    "## 5. Accès aux caractères d'une chaîne <a name=\"accès\"></a>\n",
    "\n",
    "Chaque caractère d'une chaîne de caractères est associé à une position dans la chaîne. Le premier caractère se trouve à la position 0, le second caractère à la position 1 et ainsi de suite. Ainsi, pour extraire le cinquième caractère du mot \"abracadabra\", on écrit :"
   ]
  },
  {
   "cell_type": "code",
   "execution_count": null,
   "metadata": {},
   "outputs": [],
   "source": [
    "mot = \"abracadabra\"\n",
    "cinquieme_lettre = mot[4]\n",
    "print(cinquieme_lettre)"
   ]
  },
  {
   "cell_type": "markdown",
   "metadata": {},
   "source": [
    "On peut également par cette méthode extraire la sous-chaîne d'une chaîne :"
   ]
  },
  {
   "cell_type": "code",
   "execution_count": null,
   "metadata": {},
   "outputs": [],
   "source": [
    "mot = \"abracadabra\"\n",
    "#Extraction des trois premiers caractères\n",
    "trois_premiers = mot[0:3]\n",
    "print(\"Trois premiers\", trois_premiers)\n",
    "#Extraction des trois derniers caractères\n",
    "trois_derniers = mot[-3:]\n",
    "print(\"Trois derniers\", trois_derniers)\n",
    "#Extraction du deuxieme au cinquième caractère\n",
    "deux_cinq = mot[1:5]\n",
    "print(\"Du 2eme au 5eme caractère\", deux_cinq)"
   ]
  },
  {
   "cell_type": "markdown",
   "metadata": {},
   "source": [
    "L'image ci-dessous illustre le principe de l'extraction de sous-chaînes pour le texte \"Monty Python\" (Source : http://www.nltk.org/book/ch03.html) :\n",
    "\n",
    "![string-slicing.png](http://www.nltk.org/images/string-slicing.png)"
   ]
  },
  {
   "cell_type": "markdown",
   "metadata": {},
   "source": [
    "## 6. ✏️ Exercice : tranches et concaténations de chaînes <a name=\"ex_tranches\"></a>\n",
    "Soient les deux mots ci-dessous. Donner le code qui permet d'afficher le mot \"chanteur\" en utilisant uniquement l'extraction de sous-chaînes et la concaténation (il est donc interdit d'utiliser des guillemets)."
   ]
  },
  {
   "cell_type": "code",
   "execution_count": null,
   "metadata": {},
   "outputs": [],
   "source": [
    "mot1 = \"chanson\"\n",
    "mot2 = \"acteur\""
   ]
  },
  {
   "cell_type": "markdown",
   "metadata": {},
   "source": [
    "## 7. Insertion de valeurs dans une chaîne <a name=\"insertion\"></a>\n",
    "\n",
    "Pour l'affichage d'un texte contenant la valeur d'une ou plusieurs variables qui ne sont pas des chaînes de caractères (un entier ou un nombre réel), il n'est pas possible d'utiliser l'opérateur de concaténation. Dans ce cas, on utilise des chaînes dites formatées (_f-strings_), qui permettent d'inclure des variables et même des portions de code :"
   ]
  },
  {
   "cell_type": "code",
   "execution_count": null,
   "metadata": {},
   "outputs": [],
   "source": [
    "jour = 17\n",
    "mois = 9\n",
    "annee = 2018\n",
    "print(f\"Nous sommes le {jour}/{mois}/{annee}\")\n",
    "print(f\"Demain nous serons le {jour+1}/{mois}/{annee}\")"
   ]
  },
  {
   "cell_type": "markdown",
   "metadata": {},
   "source": [
    "## 8. Chaînes vs. nombres <a name=\"nombres\"></a>\n",
    "Quand on entre un texte au clavier, le résultat sera enregistré sous forme de chaîne de caractères, même s'il s'agit d'un nombre. Ainsi, la saisie 15 sera enregistrée '15'. Cela a des répercussions sur les opérations qu'il est possible de faire et leur résultat :"
   ]
  },
  {
   "cell_type": "code",
   "execution_count": null,
   "metadata": {},
   "outputs": [],
   "source": [
    "prix = '20'\n",
    "quantite = 3\n",
    "print(prix * quantite) # Affiche 202020\n",
    "prix = 20\n",
    "print(prix * quantite) # Affiche 60"
   ]
  },
  {
   "cell_type": "markdown",
   "metadata": {},
   "source": [
    "Quelle est l'opération effectuée par `*` pour les chaînes de caractères ? Pour les nombres ?\n",
    "\n",
    "Il est possible de transformer une chaîne en nombre et vice-versa:"
   ]
  },
  {
   "cell_type": "code",
   "execution_count": null,
   "metadata": {},
   "outputs": [],
   "source": [
    "prix = '50'\n",
    "prix_converti = int(prix)\n",
    "print(prix * quantite) # Affiche 505050\n",
    "print(prix_converti * quantite) # Affiche 150\n",
    "prix_reconverti = str(prix_converti)\n",
    "print(prix_reconverti * quantite) # Affiche 505050"
   ]
  },
  {
   "cell_type": "markdown",
   "metadata": {},
   "source": [
    "C'est également possible avec les nombres à virgule : "
   ]
  },
  {
   "cell_type": "code",
   "execution_count": null,
   "metadata": {},
   "outputs": [],
   "source": [
    "prix = '15.5'\n",
    "prix_converti = float(prix)\n",
    "print(prix_converti * quantite) # Affiche 46.5"
   ]
  },
  {
   "cell_type": "markdown",
   "metadata": {},
   "source": [
    "## 9. ✏️ Exercice : singulier d'un nom <a name=\"ex_singulier\"></a>\n",
    "\n",
    "Reprenez l'exercice vu en début de cours, qui demande un nom commun masculin singulier et affiche son pluriel. Transformez le programme pour qu'il demande un nom masculin pluriel qui se termine par 's' et qui affiche le singulier, comme suit :\n",
    "```\n",
    "Entrez un nom commun masculin pluriel : \n",
    "chiens\n",
    "Les formes fléchies de \"chien\" sont:\n",
    "un chien\n",
    "des chiens\n",
    "```"
   ]
  },
  {
   "cell_type": "code",
   "execution_count": null,
   "metadata": {},
   "outputs": [],
   "source": [
    "# Exercice : singulier d'un nom"
   ]
  },
  {
   "cell_type": "markdown",
   "metadata": {},
   "source": [
    "## 10. ✏️ Exercice : nombre au carré <a name=\"ex_carré\"></a>\n",
    "\n",
    "Ecrire un programme qui demande à l'utilisateur d'entrer un nombre et qui affiche le nombre au carré :\n",
    "```\n",
    "Entrez un nombre :\n",
    "3\n",
    "3 au carré vaut 9\n",
    "```"
   ]
  },
  {
   "cell_type": "code",
   "execution_count": null,
   "metadata": {},
   "outputs": [],
   "source": [
    "# Exercice : nombre au carré"
   ]
  },
  {
   "cell_type": "markdown",
   "metadata": {},
   "source": [
    "## 11. ✏️ Exercice : conjugaison au présent de l'indicatif <a name=\"ex_present\"></a>\n",
    "\n",
    "Écrivez un programme qui demande à l'utilisateur l'infinitif d'un verbe simple du premier groupe, comme par exemple \"chanter\", puis affiche la conjugaison du verbe au présent de l'indicatif, de la manière suivante :\n",
    "```\n",
    "Entrez l'infinitif d'un verbe du premier groupe : \n",
    "chanter\n",
    "La conjugaison de \"chanter\" au present de l'indicatif :\n",
    "  je chante\n",
    "  tu chantes\n",
    "  il/elle/on chante\n",
    "  nous chantons\n",
    "  vous chantez\n",
    "  ils/elles chantent\n",
    "```"
   ]
  },
  {
   "cell_type": "code",
   "execution_count": null,
   "metadata": {},
   "outputs": [],
   "source": [
    "# Exercice : conjugaison au présent de l'indicatif"
   ]
  },
  {
   "cell_type": "markdown",
   "metadata": {},
   "source": [
    "## 12. ✏️ Exercice : empreinte carbone des gobelets pour le café <a name=\"ex_gobelet\"></a>\n",
    "\n",
    "Le prix d'un café acheté sur une machine à café de la cafétéria du Patio est de 80 centimes. \n",
    "Par ailleurs, les cafés sont distribués dans des gobelets en carton jetables. \n",
    "D'après [cet article](https://www.linkedin.com/pulse/%C3%A9tude-de-cas-bilan-carbone-le-gobelet-fip-objets-publicitaires/?originalSubdomain=fr), un gobelet en carton a une empreinte carbone de 0,007 kgCO2e environ. Un gobelet réutilisable en plastique a une empreinte carbone de 0,06 kgCO2 (le gobelet étant réutilisé, cette empreinte est la même quel que soit le nombre d'utilisations).\n",
    "Enfin, à la caféteria, les personnes qui utilisent leur propre gobelet bénéficient d'une réduction de 10 centimes : le café coûte alors 70 centimes. \n",
    "\n",
    "Ecrivez un programme qui demande le nombre de cafés consommés par semaine\n",
    "\n",
    "Le programme affichera ensuite un comparatif entre l'utilisation de gobelets en cartons jetables et l'utilisation d'un gobelet réutilisable, selon les critères suivants :\n",
    "- l'empreinte carbone totale pour une année universitaire (en considérant qu'une année universitaire a 28 semaines)\n",
    "- le coût total de la consommation de café pour l'année\n",
    "\n",
    "Exemple d'utilisation du programme :\n",
    "```\n",
    "Combien de cafés consommez-vous par semaine ? 7\n",
    "\n",
    "Bilan carbone et financier de votre consommation de café par an :\n",
    "Gobelets en carton jetables : 156.80 € et 1.37 kgCO2e\n",
    "Gobelet en plastique réutilisable : 137.20 € et 0.06 kgCO2e\n",
    "En utilisant un gobelet réutilisable, vous économisez 19.60 € et 1.31 kgCO2e\n",
    "```"
   ]
  },
  {
   "cell_type": "code",
   "execution_count": null,
   "metadata": {},
   "outputs": [],
   "source": [
    "# Exercice : empreinte carbone des gobelets pour le café."
   ]
  }
 ],
 "metadata": {
  "kernelspec": {
   "display_name": "Python 3 (ipykernel)",
   "language": "python",
   "name": "python3"
  },
  "language_info": {
   "codemirror_mode": {
    "name": "ipython",
    "version": 3
   },
   "file_extension": ".py",
   "mimetype": "text/x-python",
   "name": "python",
   "nbconvert_exporter": "python",
   "pygments_lexer": "ipython3",
   "version": "3.9.12"
  }
 },
 "nbformat": 4,
 "nbformat_minor": 4
}
