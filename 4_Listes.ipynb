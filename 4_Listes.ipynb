{
 "cells": [
  {
   "cell_type": "markdown",
   "metadata": {},
   "source": [
    "# Lists\n",
    "\n",
    "## Table of Contents\n",
    "1. [What is a List?](#definition)\n",
    "1. [Adding Elements to a List](#ajout)\n",
    "1. [Deleting Elements](#suppression)\n",
    "1. [Length of a List](#longueur)\n",
    "1. [List Concatenation](#concatenation)\n",
    "1. [Sorting Lists](#tri)\n",
    "1. [Joining Lists with `join`](#join)\n",
    "1. [✏️ Exercise: Book List](#ex_livres)\n",
    "1. [✏️ Exercise: Month Display](#ex_aff_mois)\n",
    "1. [✏️ Exercise: Days of the Week Translation](#ex_jours_semaine)\n",
    "1. [Stack Concept](#pile)\n",
    "1. [Queue Concept](#file)\n",
    "1. [List Traversal](#parcours)\n",
    "  1. [Traversal Concept](#notion_parcours)\n",
    "  1. [The for...in Statement](#for_in)\n",
    "  1. [Using `range` in a for Loop](#range)\n",
    "1. [✏️ Exercise: Days of the Week Translation](#ex_traduction)\n",
    "1. [✏️ Exercise: Second Group Verb Conjugation](#ex_conjugaison2)\n",
    "1. [✏️ Exercise: Weight on the Moon](#ex_poids_lune)\n",
    "1. [Integer Division and Modulo](#div)\n",
    "1. [✏️ Exercise: Days-Hours-Minutes-Seconds Conversion](#ex_conversion_jhms)\n",
    "1. [✏️ Exercise: Amount Breakdown](#ex_decomposition_montant)\n",
    "1. [✏️ Exercise: Roman Numeral Conversion](#ex_conversion_romains)\n",
    "\n",
    "## What is a List?\n",
    "Lists allow you to store sequences, that is, finite collections of elements ordered in a specific order. Elements are stored in ordered and indexed \"cells\". The index is the location number of an element in the sequence. It is a positive or negative integer. When declaring a list, elements are separated by commas and the whole is surrounded by square brackets."
   ]
  },
  {
   "cell_type": "code",
   "execution_count": 1,
   "metadata": {},
   "outputs": [],
   "source": [
    "days = [\"Monday\", \"Tuesday\", \"Wednesday\", \"Thursday\", \"Friday\", \"Saturday\", \"Sunday\"]"
   ]
  },
  {
   "cell_type": "markdown",
   "metadata": {},
   "source": [
    "List indices:\n",
    "\n",
    "| Monday | Tuesday  | Wednesday  | Thursday  | Friday  | Saturday  | Sunday  |\n",
    "|---|---|---|---|---|---|---|\n",
    "| 0  | 1  | 2  | 3  | 4  | 5  | 6  |"
   ]
  },
  {
   "cell_type": "markdown",
   "metadata": {},
   "source": [
    "The first index of the list is `0`:"
   ]
  },
  {
   "cell_type": "markdown",
   "metadata": {},
   "source": []
  },
  {
   "cell_type": "code",
   "execution_count": 2,
   "metadata": {},
   "outputs": [
    {
     "name": "stdout",
     "output_type": "stream",
     "text": [
      "Monday\n",
      "Sunday\n"
     ]
    },
    {
     "ename": "IndexError",
     "evalue": "list index out of range",
     "output_type": "error",
     "traceback": [
      "\u001b[31m---------------------------------------------------------------------------\u001b[39m",
      "\u001b[31mIndexError\u001b[39m                                Traceback (most recent call last)",
      "\u001b[36mCell\u001b[39m\u001b[36m \u001b[39m\u001b[32mIn[2]\u001b[39m\u001b[32m, line 3\u001b[39m\n\u001b[32m      1\u001b[39m \u001b[38;5;28mprint\u001b[39m(days[\u001b[32m0\u001b[39m]) \u001b[38;5;66;03m# Prints Monday, the first element is index 0\u001b[39;00m\n\u001b[32m      2\u001b[39m \u001b[38;5;28mprint\u001b[39m(days[\u001b[32m6\u001b[39m]) \u001b[38;5;66;03m# Prints Sunday, the 7th (last) element is index 6\u001b[39;00m\n\u001b[32m----> \u001b[39m\u001b[32m3\u001b[39m \u001b[38;5;28mprint\u001b[39m(\u001b[43mdays\u001b[49m\u001b[43m[\u001b[49m\u001b[32;43m7\u001b[39;49m\u001b[43m]\u001b[49m) \u001b[38;5;66;03m# IndexError: there is no element with index 7 in the list\u001b[39;00m\n\u001b[32m      5\u001b[39m \u001b[38;5;66;03m# print Tuesday\u001b[39;00m\n",
      "\u001b[31mIndexError\u001b[39m: list index out of range"
     ]
    }
   ],
   "source": [
    "print(days[0]) # Prints Monday, the first element is index 0\n",
    "print(days[6]) # Prints Sunday, the 7th (last) element is index 6\n",
    "print(days[7]) # IndexError: there is no element with index 7 in the list\n",
    "\n",
    "# print Tuesday"
   ]
  },
  {
   "cell_type": "markdown",
   "metadata": {},
   "source": [
    "Lists are modifiable and it is therefore possible to change the content of a \"cell\":"
   ]
  },
  {
   "cell_type": "code",
   "execution_count": 3,
   "metadata": {},
   "outputs": [
    {
     "name": "stdout",
     "output_type": "stream",
     "text": [
      "['Lundi', 'Tuesday', 'Wednesday', 'Thursday', 'Friday', 'Saturday', 'Sunday']\n"
     ]
    }
   ],
   "source": [
    "days[0] = \"Lundi\"\n",
    "print(days) # Prints ['Lundi', 'Tuesday', 'Wednesday', 'Thursday', 'Friday', 'Saturday', 'Sunday']"
   ]
  },
  {
   "cell_type": "markdown",
   "metadata": {},
   "source": [
    "You can also retrieve subsequences from a list, called slices. For example, to retrieve the first 5 elements (note that the element at index 5 is excluded):"
   ]
  },
  {
   "cell_type": "code",
   "execution_count": null,
   "metadata": {},
   "outputs": [
    {
     "name": "stdout",
     "output_type": "stream",
     "text": [
      "['Lundi', 'Tuesday', 'Wednesday', 'Thursday', 'Friday']\n"
     ]
    }
   ],
   "source": [
    "print(days[0:5]) # Prints ['Lundi', 'Tuesday', 'Wednesday', 'Thursday', 'Friday']"
   ]
  },
  {
   "cell_type": "markdown",
   "metadata": {},
   "source": [
    "You can also make lists of lists:\n"
   ]
  },
  {
   "cell_type": "code",
   "execution_count": 7,
   "metadata": {},
   "outputs": [
    {
     "name": "stdout",
     "output_type": "stream",
     "text": [
      "[['cat', 'dog', 'horse'], ['gato', 'perro', 'caballo'], ['Katze', 'Hund', 'Pferd']]\n",
      "caballo\n"
     ]
    }
   ],
   "source": [
    "en = [\"cat\", \"dog\", \"horse\"]\n",
    "es = [\"gato\", \"perro\", \"caballo\"]\n",
    "de = [\"Katze\", \"Hund\", \"Pferd\"]\n",
    "animals = [en, es, de] # This is a list containing lists\n",
    "print(animals) # Prints [['cat', 'dog', 'horse'], ['gato', 'perro', 'caballo'], ['Katze', 'Hund', 'Pferd']]\n",
    "print(animals[1][2]) # the first number in brackets means we access the 2nd element in animals, so the list `es`, the [2] means it's the 3rd elem in that es list\n"
   ]
  },
  {
   "cell_type": "markdown",
   "metadata": {},
   "source": [
    "## Adding Elements to a List\n",
    "Adding elements to a list is done using the `append()` method. A method is predefined code that performs a given action."
   ]
  },
  {
   "cell_type": "code",
   "execution_count": null,
   "metadata": {},
   "outputs": [],
   "source": [
    "en.append(\"cow\")\n",
    "print(en) # Prints ['cat', 'dog', 'horse', 'cow']"
   ]
  },
  {
   "cell_type": "markdown",
   "metadata": {},
   "source": [
    "It is also possible to insert elements at a given position:"
   ]
  },
  {
   "cell_type": "code",
   "execution_count": null,
   "metadata": {},
   "outputs": [],
   "source": [
    "en.insert(1, \"hamster\")\n",
    "print(en)"
   ]
  },
  {
   "cell_type": "markdown",
   "metadata": {},
   "source": [
    "## Deleting Elements\n",
    "Deletion is done using the `del` keyword."
   ]
  },
  {
   "cell_type": "code",
   "execution_count": null,
   "metadata": {},
   "outputs": [],
   "source": [
    "del(en[1])\n",
    "print(en)"
   ]
  },
  {
   "cell_type": "markdown",
   "metadata": {},
   "source": [
    "It is also possible to use the `remove` method (only the first matching element is deleted):"
   ]
  },
  {
   "cell_type": "code",
   "execution_count": null,
   "metadata": {},
   "outputs": [],
   "source": [
    "en.remove('cow')\n",
    "print(en)"
   ]
  },
  {
   "cell_type": "markdown",
   "metadata": {},
   "source": [
    "## Length of a List\n",
    "\n",
    "The length of a list, that is, the number of elements it contains, is obtained using the `len()` method:"
   ]
  },
  {
   "cell_type": "code",
   "execution_count": 8,
   "metadata": {},
   "outputs": [
    {
     "name": "stdout",
     "output_type": "stream",
     "text": [
      "3\n"
     ]
    }
   ],
   "source": [
    "print(len(en))"
   ]
  },
  {
   "cell_type": "markdown",
   "metadata": {},
   "source": [
    "## List Concatenation\n",
    "It is possible to concatenate lists using the addition operator `+`:"
   ]
  },
  {
   "cell_type": "code",
   "execution_count": 9,
   "metadata": {},
   "outputs": [
    {
     "name": "stdout",
     "output_type": "stream",
     "text": [
      "['apple', 'pear', 'banana', 'leek', 'cabbage', 'carrot']\n"
     ]
    }
   ],
   "source": [
    "fruits = [\"apple\", \"pear\", \"banana\"]\n",
    "vegetables = [\"leek\", \"cabbage\", \"carrot\"]\n",
    "ingredients = fruits + vegetables\n",
    "print(ingredients)"
   ]
  },
  {
   "cell_type": "markdown",
   "metadata": {},
   "source": [
    "## Sorting Lists\n",
    "Lists can be sorted using `sort()`:"
   ]
  },
  {
   "cell_type": "code",
   "execution_count": null,
   "metadata": {},
   "outputs": [],
   "source": [
    "ingredients.sort()\n",
    "print(ingredients)"
   ]
  },
  {
   "cell_type": "markdown",
   "metadata": {},
   "source": [
    "## Joining Lists with `join`\n",
    "`join()` allows you to assemble the elements of a list using a given separator"
   ]
  },
  {
   "cell_type": "code",
   "execution_count": null,
   "metadata": {},
   "outputs": [],
   "source": [
    "# Joining with ;\n",
    "\";\".join(['one', 'two', 'three', 'four', 'five'])"
   ]
  },
  {
   "cell_type": "code",
   "execution_count": null,
   "metadata": {},
   "outputs": [],
   "source": [
    "# Joining with a tab\n",
    "s = \"\\t\".join(['one', 'two', 'three', 'four', 'five']) \n",
    "print(s)"
   ]
  },
  {
   "cell_type": "code",
   "execution_count": null,
   "metadata": {},
   "outputs": [],
   "source": [
    "# Joining with a line break\n",
    "s = \"\\n\".join(['one', 'two', 'three', 'four', 'five']) \n",
    "print(s)"
   ]
  },
  {
   "cell_type": "code",
   "execution_count": 11,
   "metadata": {},
   "outputs": [
    {
     "ename": "TypeError",
     "evalue": "sequence item 0: expected str instance, int found",
     "output_type": "error",
     "traceback": [
      "\u001b[31m---------------------------------------------------------------------------\u001b[39m",
      "\u001b[31mTypeError\u001b[39m                                 Traceback (most recent call last)",
      "\u001b[36mCell\u001b[39m\u001b[36m \u001b[39m\u001b[32mIn[11]\u001b[39m\u001b[32m, line 2\u001b[39m\n\u001b[32m      1\u001b[39m \u001b[38;5;66;03m# WARNING: all elements in the list must be strings\u001b[39;00m\n\u001b[32m----> \u001b[39m\u001b[32m2\u001b[39m s = \u001b[33;43m\"\u001b[39;49m\u001b[38;5;130;43;01m\\n\u001b[39;49;00m\u001b[33;43m\"\u001b[39;49m\u001b[43m.\u001b[49m\u001b[43mjoin\u001b[49m\u001b[43m(\u001b[49m\u001b[43m[\u001b[49m\u001b[32;43m1\u001b[39;49m\u001b[43m,\u001b[49m\u001b[43m \u001b[49m\u001b[32;43m2\u001b[39;49m\u001b[43m,\u001b[49m\u001b[43m \u001b[49m\u001b[32;43m3\u001b[39;49m\u001b[43m,\u001b[49m\u001b[43m \u001b[49m\u001b[32;43m4\u001b[39;49m\u001b[43m,\u001b[49m\u001b[43m \u001b[49m\u001b[32;43m5\u001b[39;49m\u001b[43m]\u001b[49m\u001b[43m)\u001b[49m \n\u001b[32m      3\u001b[39m \u001b[38;5;28mprint\u001b[39m(s)\n",
      "\u001b[31mTypeError\u001b[39m: sequence item 0: expected str instance, int found"
     ]
    }
   ],
   "source": [
    "# WARNING: all elements in the list must be strings\n",
    "s = \"\\n\".join([1, 2, 3, 4, 5]) \n",
    "print(s)"
   ]
  },
  {
   "cell_type": "markdown",
   "metadata": {},
   "source": [
    "## ✏️ Exercise: Book List\n",
    "Create a variable called `good_books` as an empty list. Add your favorite books to the list (at least 3) then display the last two books added to the list."
   ]
  },
  {
   "cell_type": "code",
   "execution_count": 12,
   "metadata": {},
   "outputs": [],
   "source": [
    "# Exercise: Book list\n",
    "good_books = []"
   ]
  },
  {
   "cell_type": "markdown",
   "metadata": {},
   "source": [
    "## ✏️ Exercise: Month Display\n",
    "Source: http://ressources.unisciel.fr/sillages/informatique/python/ch03_listes_fonctions/co/exercice_10_03.html \n",
    "\n",
    "Write a program that asks the user for a month number (from 1 to 12), then displays: \"You have selected the month of: xxxxxx\" (with xxxxxx being January if the user chose 1, August if the user chose 8...). The months will be stored as a list."
   ]
  },
  {
   "cell_type": "code",
   "execution_count": null,
   "metadata": {},
   "outputs": [],
   "source": [
    "# Exercice : affichage du mois"
   ]
  },
  {
   "cell_type": "markdown",
   "metadata": {},
   "source": [
    "## ✏️ Exercise: Days of the Week Translation\n",
    "Write a program that displays translations of the days of the week in English and German.\n",
    "The program output should be as follows:\n",
    "The program output should be as follows:\n"
   ]
  },
  {
   "cell_type": "code",
   "execution_count": null,
   "metadata": {},
   "outputs": [],
   "source": [
    "Complete the program below:\n",
    "# Exercise: Days of the week translation\n",
    "days_en = [\"Monday\", \"Tuesday\", \"Wednesday\", \"Thursday\", \"Friday\", \"Saturday\", \"Sunday\"]\n",
    "days_de = [\"Montag\", \"Dienstag\", \"Mittwoch\", \"Donnerstag\", \"Freitag\", \"Samstag\", \"Sonntag\"]\n",
    "\n",
    "# To complete\n",
    "\n",
    "print(\"Display of translations of the days of the week in English and German\")\n",
    "# To complete"
   ]
  },
  {
   "cell_type": "markdown",
   "metadata": {
    "collapsed": true
   },
   "source": [
    "## Stack Concept\n",
    "\n",
    "A stack is a data structure with the characteristic that the last element to be entered will be the first to exit (LIFO: last in-first out) like a stack of plates on a cupboard shelf. You can retrieve the element at the top of the stack (pop) but not the elements in the middle.\n",
    "\n",
    "It is possible to use a list as a stack. To push, use the `append()` method:"
   ]
  },
  {
   "cell_type": "code",
   "execution_count": null,
   "metadata": {},
   "outputs": [],
   "source": [
    "fruits = [\"apple\", \"pear\", \"banana\", \"kiwi\"]\n",
    "fruits.append(\"raspberry\")"
   ]
  },
  {
   "cell_type": "markdown",
   "metadata": {},
   "source": [
    "To pop, use the `pop()` method:"
   ]
  },
  {
   "cell_type": "code",
   "execution_count": null,
   "metadata": {},
   "outputs": [],
   "source": [
    "last_fruit = fruits.pop()"
   ]
  },
  {
   "cell_type": "markdown",
   "metadata": {},
   "source": [
    "## Queue Concept\n",
    "\n",
    "A queue is a data structure with the characteristic that the first element to be entered will be the first to exit (FIFO: first in-first out) like a checkout line at a store.\n",
    "\n",
    "It is possible to use a list as a queue. To enqueue, use the `append()` method:"
   ]
  },
  {
   "cell_type": "code",
   "execution_count": null,
   "metadata": {},
   "outputs": [],
   "source": [
    "fruits = [\"apple\", \"pear\", \"banana\", \"kiwi\"]\n",
    "fruits.append(\"raspberry\")"
   ]
  },
  {
   "cell_type": "markdown",
   "metadata": {},
   "source": [
    "To dequeue, use the `pop()` method:"
   ]
  },
  {
   "cell_type": "code",
   "execution_count": null,
   "metadata": {},
   "outputs": [],
   "source": [
    "fruits.pop(0)"
   ]
  },
  {
   "cell_type": "markdown",
   "metadata": {},
   "source": [
    "## List Traversal\n",
    "### Traversal Concept\n",
    "Traversal allows you to apply the same processing to each element of a sequence, without having to write the same code several times. For example, traversal can allow you to display each element of a list.\n",
    "\n",
    "### The for...in Statement\n",
    "The `for` statement allows you to iterate over all elements of a sequence:"
   ]
  },
  {
   "cell_type": "code",
   "execution_count": null,
   "metadata": {},
   "outputs": [],
   "source": [
    "fruits = [\"apple\", \"pear\", \"banana\", \"kiwi\"]\n",
    "for f in fruits:\n",
    "    print(f)"
   ]
  },
  {
   "cell_type": "markdown",
   "metadata": {},
   "source": [
    "At each loop iteration, the variable `f` will take the value of one element from the list. The list is traversed in order. All instruction lines inside the loop must start with an indentation (tab key)."
   ]
  },
  {
   "cell_type": "markdown",
   "metadata": {},
   "source": [
    "### Using `range` in a for Loop\n",
    "It is also possible to traverse an array by iterating over the indices:"
   ]
  },
  {
   "cell_type": "code",
   "execution_count": null,
   "metadata": {},
   "outputs": [],
   "source": [
    "fruits = [\"pomme\", \"poire\", \"banane\", \"kiwi\"]\n",
    "for i in range(len(fruits)):\n",
    "    print(fruits[i])"
   ]
  },
  {
   "cell_type": "markdown",
   "metadata": {},
   "source": [
    "`range` here returns an iterator, that is, a special object that at each iteration will return the next element in the sequence (here the sequence will consist of the series of integers that varies from 0 to the last index in the `fruits` list). The advantage of this method is that you know the position (index) of the element in the list.\n",
    "\n",
    "You can also use range to do a given number of iterations, as follows:"
   ]
  },
  {
   "cell_type": "code",
   "execution_count": 13,
   "metadata": {},
   "outputs": [
    {
     "name": "stdout",
     "output_type": "stream",
     "text": [
      "Bonjour 0\n",
      "Bonjour 1\n",
      "Bonjour 2\n",
      "Bonjour 3\n",
      "Bonjour 4\n"
     ]
    }
   ],
   "source": [
    "for x in range(0,5):\n",
    "    print(f'Bonjour {x}')"
   ]
  },
  {
   "cell_type": "markdown",
   "metadata": {},
   "source": [
    "`range(0,5)` indicates that counting should start at 0 and end before reaching 5."
   ]
  },
  {
   "cell_type": "markdown",
   "metadata": {},
   "source": [
    "## ✏️ Exercise: Days of the Week Translation\n",
    "Redo the exercise on translating the days of the week using a `for` loop"
   ]
  },
  {
   "cell_type": "code",
   "execution_count": null,
   "metadata": {},
   "outputs": [],
   "source": [
    "# Exercice : traduction des jours de la semaine avec boucle for"
   ]
  },
  {
   "cell_type": "markdown",
   "metadata": {},
   "source": [
    "## ✏️ Exercise: Weight on the Moon\n",
    "Weight (expressed in Newtons N) is calculated by multiplying mass (expressed in kg) by gravitational acceleration (see http://phys.free.fr/maspoids.htm). The gravitational acceleration on the Moon is six times less than that on Earth. Consequently, a person \"weighs\" six times less on the Moon than on Earth: a person with a mass of 70kg has a weight of 687 N on Earth and 112 N on the Moon.\n",
    "\n",
    "Now suppose this person gains one kilo per year for the next 15 years. Write a program that uses a `for` loop to display the mass, weight on Earth, and weight on the Moon for each of these years.\n",
    "\n",
    "The output should be as follows:\n",
    "Initial mass is 70 kg\n",
    "Initial weight on Earth is 687.00 N\n",
    "Initial weight on the Moon is 112.00 N\n",
    "\n",
    "Year 1\n",
    "Mass: 71 kg\n",
    "Weight on Earth: 696.81 N\n",
    "Weight on the Moon: 113.60 N\n",
    "\n",
    "Year 2\n",
    "Mass: 72 kg\n",
    "Weight on Earth: 706.63 N\n",
    "Weight on the Moon: 115.20 N\n",
    "...."
   ]
  },
  {
   "cell_type": "code",
   "execution_count": null,
   "metadata": {},
   "outputs": [],
   "source": [
    "# Exercice : poids sur la Lune\n"
   ]
  },
  {
   "cell_type": "markdown",
   "metadata": {},
   "source": [
    "## Integer Division and Modulo\n",
    "The modulo operation (noted `%`) corresponds to the remainder of integer division. For example, `11 % 3` gives `2`, because `11 = 3 x 3 + 2`.\n",
    "\n",
    "It is also possible to do integer division to find the quotient:"
   ]
  },
  {
   "cell_type": "code",
   "execution_count": null,
   "metadata": {},
   "outputs": [],
   "source": [
    "20 // 3 # gives 6 because 20 = 6 * 3 + 2"
   ]
  },
  {
   "cell_type": "markdown",
   "metadata": {},
   "source": [
    "Note the difference with decimal division (the result is a decimal number):"
   ]
  },
  {
   "cell_type": "code",
   "execution_count": null,
   "metadata": {},
   "outputs": [],
   "source": [
    "20 / 3 # gives 6.666666666666667"
   ]
  },
  {
   "cell_type": "markdown",
   "metadata": {},
   "source": [
    "It is also possible to directly obtain both the quotient and remainder of an integer division using the predefined `divmod()` function:"
   ]
  },
  {
   "cell_type": "code",
   "execution_count": null,
   "metadata": {},
   "outputs": [],
   "source": [
    "x = divmod(20, 3)\n",
    "print(x[0])\n",
    "print(x[1])\n",
    "(q,r) = divmod(20,3)\n",
    "print(q)"
   ]
  },
  {
   "cell_type": "markdown",
   "metadata": {},
   "source": [
    "`divmod` returns the pair (`q`, `r`) where q is the quotient and r the remainder."
   ]
  },
  {
   "cell_type": "markdown",
   "metadata": {},
   "source": [
    "## ✏️ Exercise: Days-Hours-Minutes-Seconds Conversion\n",
    "Write a program that, for a given number of seconds less than 1,000,000, calculates its equivalent in day(s), hour(s), minute(s), and second(s).\n",
    "For example, given the number 309,639, the program should display \"3 days 14 hours 0 minutes and 39 seconds\".\n",
    "Reminder:\n",
    "  * 1 minute = 60 seconds\n",
    "  * 1 hour = 60 minutes = 3,600 seconds\n",
    "  * 1 day = 24 hours = 1,440 minutes = 86,400 seconds"
   ]
  },
  {
   "cell_type": "code",
   "execution_count": null,
   "metadata": {},
   "outputs": [],
   "source": [
    "# Exercice : conversion jours-heures-minutes-secondes"
   ]
  },
  {
   "cell_type": "markdown",
   "metadata": {},
   "source": [
    "## ✏️ Exercise: Amount Breakdown\n",
    "Write a program to help store cashiers minimize the number of coins and bills when giving change. For example, €58 breaks down into 1 €50 bill, 1 €5 bill, 1 €2 coin, and 1 €1 coin. To simplify, we'll only consider amounts without cents. Cashiers have the following bills and coins available: 50, 20, 10, 5, 2, and 1 €.\n",
    "\n",
    "Example output:\n",
    "Example output:\n"
   ]
  },
  {
   "cell_type": "code",
   "execution_count": null,
   "metadata": {},
   "outputs": [],
   "source": [
    "# Exercice : décomposition d'un montant"
   ]
  },
  {
   "cell_type": "markdown",
   "metadata": {},
   "source": [
    "## ✏️ Exercise: Roman Numeral Conversion\n",
    "Write a program that converts an integer between 1 and 3,999 into a Roman numeral.\n",
    "Roman numeration has the following 7 symbols:\n",
    "\n",
    "| Symbol | Value |\n",
    "| ------- | ------ |\n",
    "| I | 1 |\n",
    "| V | 5 |\n",
    "| X | 10 |\n",
    "| L | 50 |\n",
    "| C | 100 |\n",
    "| D | 500 |\n",
    "| M | 1000 |\n",
    "\n",
    "A Roman numeral is composed according to the following rules:\n",
    "  * Symbols are written from largest to smallest and their values add up. For example, 123 is written C XX III\n",
    "  * It is not possible to use more than three identical symbols in a row: subtractive notation is then used. In this case, a symbol placed directly before a larger symbol is subtracted from it. For example, 400 is written CD instead of CCCC\n",
    "  \n",
    "You can check conversions on the following site: https://www.periodni.com/fr/convertisseur_chiffres_romains.html\n",
    "\n",
    "**Hint 1:**\n",
    "Use two lists, one for symbols and another for corresponding values:"
   ]
  },
  {
   "cell_type": "code",
   "execution_count": null,
   "metadata": {},
   "outputs": [],
   "source": [
    "symbol_list = ['M', 'CM', 'D', 'CD', 'C', 'XC', 'L', 'XL', 'X', 'IX', 'V', 'IV', 'I']\n",
    "value_list = [1000, 900, 500, 400, 100, 90, 50, 40, 10, 9, 5, 4, 1]"
   ]
  },
  {
   "cell_type": "markdown",
   "metadata": {},
   "source": [
    "**Hint 2:** use `divmod`"
   ]
  },
  {
   "cell_type": "code",
   "execution_count": 14,
   "metadata": {},
   "outputs": [],
   "source": [
    "# Exercise: Roman numeral conversion"
   ]
  },
  {
   "cell_type": "code",
   "execution_count": null,
   "metadata": {},
   "outputs": [],
   "source": []
  }
 ],
 "metadata": {
  "kernelspec": {
   "display_name": "Python 3",
   "language": "python",
   "name": "python3"
  },
  "language_info": {
   "codemirror_mode": {
    "name": "ipython",
    "version": 3
   },
   "file_extension": ".py",
   "mimetype": "text/x-python",
   "name": "python",
   "nbconvert_exporter": "python",
   "pygments_lexer": "ipython3",
   "version": "3.13.7"
  }
 },
 "nbformat": 4,
 "nbformat_minor": 2
}
