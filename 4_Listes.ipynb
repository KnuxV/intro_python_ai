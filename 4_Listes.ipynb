{
 "cells": [
  {
   "cell_type": "markdown",
   "metadata": {},
   "source": [
    "# Listes\n",
    "\n",
    "## Sommaire\n",
    "1. [Qu'est-ce qu'une liste ?](#definition)\n",
    "1. [Ajout d'éléments à une liste](#ajout)\n",
    "1. [Suppression d'éléments](#suppression)\n",
    "1. [Longueur d'une liste](#longueur)\n",
    "1. [Concaténation de listes](#concatenation)\n",
    "1. [Tri de listes](#tri)\n",
    "1. [Assemblage de liste avec `join`](#join)\n",
    "1. [✏️ Exercice : liste de livres](#ex_livres)\n",
    "1. [✏️ Exercice : affichage du mois](#ex_aff_mois)\n",
    "1. [✏️ Exercice : traduction des jours de la semaine](#ex_jours_semaine)\n",
    "1. [Notion de pile](#pile)\n",
    "1. [Notion de file](#file)\n",
    "1. [Parcours de liste](#parcours)\n",
    "  1. [Notion de parcours](#notion_parcours)\n",
    "  1. [L'instruction for...in](#for_in)\n",
    "  1. [Utilisation de `range` dans une boucle for](#range)\n",
    "1. [✏️ Exercice : traduction des jours de la semaine](#ex_traduction)\n",
    "1. [✏️ Exercice : conjugaison des verbes du deuxième groupe](#ex_conjugaison2)\n",
    "1. [✏️ Exercice : poids sur la Lune](#ex_poids_lune)\n",
    "1. [Division entière et modulo](#div)\n",
    "1. [✏️ Exercice : conversion jours-heures-minutes-secondes](#ex_conversion_jhms)\n",
    "1. [✏️ Exercice : décomposition d'un montant](#ex_decomposition_montant)\n",
    "1. [✏️ Exercice : conversion nombres romains](#ex_conversion_romains)\n",
    "\n",
    "## Qu'est-ce qu'une liste ? <a name=\"definition\"></a>\n",
    "Les listes permettent de stocker des séquences, c'est-à-dire des collections finies d'éléments ordonnés selon un ordre précis. Les éléments sont stockés dans des \"cellules\" ordonnées et indicées. L'indice est le numéro d'emplacement d'un élément dans la séquence. Il s'agit d'un entier positif ou négatif. Lorsque l'on déclare une liste, les éléments sont séparés par des virgules et l'ensemble est entouré par des crochets."
   ]
  },
  {
   "cell_type": "code",
   "execution_count": null,
   "metadata": {},
   "outputs": [],
   "source": [
    "jours = [\"lundi\", \"mardi\", \"mercredi\", \"jeudi\", \"vendredi\", \"samedi\", \"dimanche\"]"
   ]
  },
  {
   "cell_type": "markdown",
   "metadata": {},
   "source": [
    "Indices de la liste :\n",
    "\n",
    "| lundi | mardi  | mercredi  | jeudi  | vendredi  | samedi  | dimanche  |\n",
    "|---|---|---|---|---|---|---|\n",
    "| 0  | 1  | 2  | 3  | 4  | 5  | 6  |"
   ]
  },
  {
   "cell_type": "markdown",
   "metadata": {},
   "source": [
    "Le premier indice de la liste est `0` :"
   ]
  },
  {
   "cell_type": "code",
   "execution_count": null,
   "metadata": {},
   "outputs": [],
   "source": [
    "print(jours[0]) # Affiche lundi\n",
    "print(jours[6]) # Affiche dimanche\n",
    "print(jours[7]) # IndexError : il n'y a pas d'élément d'indice 7 dans la liste"
   ]
  },
  {
   "cell_type": "markdown",
   "metadata": {},
   "source": [
    "Les listes sont modifiables et il est donc possible de changer le contenu d'une \"cellule\" :"
   ]
  },
  {
   "cell_type": "code",
   "execution_count": null,
   "metadata": {},
   "outputs": [],
   "source": [
    "jours[0] = \"Monday\"\n",
    "print(jours) # Affiche ['Monday', 'mardi', 'mercredi', 'jeudi', 'vendredi', 'samedi', 'dimanche']"
   ]
  },
  {
   "cell_type": "markdown",
   "metadata": {},
   "source": [
    "On peut également récupérer des sous-séquences d'une liste, appelées tranches (*slices*). Par exemple, pour récupérer les 5 premiers éléments (à noter que l'élément d'indice 5 est exclu) :"
   ]
  },
  {
   "cell_type": "code",
   "execution_count": null,
   "metadata": {},
   "outputs": [],
   "source": [
    "print(jours[0:5]) # Affiche ['Monday', 'mardi', 'mercredi', 'jeudi', 'vendredi']"
   ]
  },
  {
   "cell_type": "markdown",
   "metadata": {},
   "source": [
    "On peut également faire des listes de listes :"
   ]
  },
  {
   "cell_type": "code",
   "execution_count": null,
   "metadata": {},
   "outputs": [],
   "source": [
    "fr = [\"chat\", \"chien\", \"cheval\"]\n",
    "en = [\"cat\", \"dog\", \"horse\"]\n",
    "de = [\"Katze\", \"Hund\", \"Pferd\"]\n",
    "animaux = [fr, en, de]\n",
    "print(animaux) # Affiche [['chat', 'chien', 'cheval'], ['cat', 'dog', 'horse'], ['Katze', 'Hund', 'Pferd']]\n",
    "print(animaux[1][2]) # Affiche horse"
   ]
  },
  {
   "cell_type": "markdown",
   "metadata": {},
   "source": [
    "## Ajout d'éléments à une liste <a name=\"ajout\"></a>\n",
    "L'ajout d'éléments à une liste se fait à l'aide de la méthode `append()`. Une méthode est un code prédéfini qui réalise une action donnée."
   ]
  },
  {
   "cell_type": "code",
   "execution_count": null,
   "metadata": {},
   "outputs": [],
   "source": [
    "fr.append(\"vache\")\n",
    "print(fr) # Affiche ['chat', 'chien', 'cheval', 'vache']"
   ]
  },
  {
   "cell_type": "markdown",
   "metadata": {},
   "source": [
    "Il est également possible d'insérer des éléments à une position donnée :"
   ]
  },
  {
   "cell_type": "code",
   "execution_count": null,
   "metadata": {},
   "outputs": [],
   "source": [
    "fr.insert(1, \"hamster\")\n",
    "print(fr)"
   ]
  },
  {
   "cell_type": "markdown",
   "metadata": {},
   "source": [
    "## Suppression d'éléments <a name=\"suppression\"></a>\n",
    "La suppression se fait à l'aide du mot-clé `del`."
   ]
  },
  {
   "cell_type": "code",
   "execution_count": null,
   "metadata": {},
   "outputs": [],
   "source": [
    "del(fr[1])\n",
    "print(fr)"
   ]
  },
  {
   "cell_type": "markdown",
   "metadata": {},
   "source": [
    "Il est également possible d'utiliser la méthode `remove` (seul le premier élément correspondant est supprimé) :"
   ]
  },
  {
   "cell_type": "code",
   "execution_count": null,
   "metadata": {},
   "outputs": [],
   "source": [
    "fr.remove('vache')\n",
    "print(fr)"
   ]
  },
  {
   "cell_type": "markdown",
   "metadata": {},
   "source": [
    "## Longueur d'une liste <a name=\"longueur\"></a>"
   ]
  },
  {
   "cell_type": "markdown",
   "metadata": {},
   "source": [
    "La longueur d'une liste, c'est-à-dire le nombre d'éléments qu'elle contient, s'obtient à l'aide de la méthode `len()` :"
   ]
  },
  {
   "cell_type": "code",
   "execution_count": null,
   "metadata": {},
   "outputs": [],
   "source": [
    "print(len(fr))"
   ]
  },
  {
   "cell_type": "markdown",
   "metadata": {},
   "source": [
    "## Concaténation de listes <a name=\"concatenation\"></a>\n",
    "Il est possible de concaténer des listes à l'aide de l'opérateur d'addition `+` :"
   ]
  },
  {
   "cell_type": "code",
   "execution_count": null,
   "metadata": {},
   "outputs": [],
   "source": [
    "fruits = [\"pomme\", \"poire\", \"banane\"]\n",
    "legumes = [\"poireau\", \"chou\", \"carotte\"]\n",
    "ingredients = fruits + legumes\n",
    "print(ingredients)"
   ]
  },
  {
   "cell_type": "markdown",
   "metadata": {},
   "source": [
    "## Tri de listes <a name=\"tri\"></a>\n",
    "Les listes peuvent être triées à l'aide `sort()` :"
   ]
  },
  {
   "cell_type": "code",
   "execution_count": null,
   "metadata": {},
   "outputs": [],
   "source": [
    "ingredients.sort()\n",
    "print(ingredients)"
   ]
  },
  {
   "cell_type": "markdown",
   "metadata": {},
   "source": [
    "## Assemblage de liste avec `join` <a name=\"join\"></a>\n",
    "`join()`permet d'assembler les éléments d'une liste à l'aide d'un séparateur donné"
   ]
  },
  {
   "cell_type": "code",
   "execution_count": null,
   "metadata": {},
   "outputs": [],
   "source": [
    "# Assemblage avec ;\n",
    "\";\".join(['un', 'deux', 'trois', 'quatre', 'cinq']) "
   ]
  },
  {
   "cell_type": "code",
   "execution_count": null,
   "metadata": {},
   "outputs": [],
   "source": [
    "# Assemblage avec une tabulation\n",
    "s = \"\\t\".join(['un', 'deux', 'trois', 'quatre', 'cinq']) \n",
    "print(s)"
   ]
  },
  {
   "cell_type": "code",
   "execution_count": null,
   "metadata": {},
   "outputs": [],
   "source": [
    "# Assemblage avec un saut de ligne\n",
    "s = \"\\n\".join(['un', 'deux', 'trois', 'quatre', 'cinq']) \n",
    "print(s)"
   ]
  },
  {
   "cell_type": "code",
   "execution_count": null,
   "metadata": {},
   "outputs": [],
   "source": [
    "# ATTENTION : tous les éléments de la liste doivent être des chaînes de caractères\n",
    "s = \"\\n\".join([1, 2, 3, 4, 5]) \n",
    "print(s)"
   ]
  },
  {
   "cell_type": "markdown",
   "metadata": {},
   "source": [
    "## ✏️ Exercice : liste de livres <a name=\"ex_livres\"></a>\n",
    "Créer une variable appelée `bons_livres` sous forme de liste vide. Ajouter vos livres préférés à la liste (au moins 3) puis afficher les deux derniers livres ajoutés à la liste."
   ]
  },
  {
   "cell_type": "code",
   "execution_count": null,
   "metadata": {},
   "outputs": [],
   "source": [
    "# Exercice : liste de livres\n",
    "bons_livres = []"
   ]
  },
  {
   "cell_type": "markdown",
   "metadata": {},
   "source": [
    "## ✏️ Exercice : affichage du mois <a name=\"ex_aff_mois\"></a>\n",
    "Source : http://ressources.unisciel.fr/sillages/informatique/python/ch03_listes_fonctions/co/exercice_10_03.html \n",
    "\n",
    "Écrire un programme qui demande à l'utilisateur un numéro de mois (de 1 à 12), puis affiche : « Vous avez sélectionné le mois de : xxxxxx » (avec xxxxxx janvier si l'utilisateur a choisi 1, août si l'utilisateur a choisi 8...). Les mois seront stockés sous forme de liste."
   ]
  },
  {
   "cell_type": "code",
   "execution_count": null,
   "metadata": {},
   "outputs": [],
   "source": [
    "# Exercice : affichage du mois"
   ]
  },
  {
   "cell_type": "markdown",
   "metadata": {},
   "source": [
    "## ✏️ Exercice : traduction des jours de la semaine <a name=\"ex_jours_semaine\"></a>\n",
    "Écrire un programme qui affiche les traductions des jours de la semaine en anglais et français.\n",
    "Les affichages du programme devraient être les suivants :\n",
    "```\n",
    "Il y a 7 jours dans la semaine\n",
    "Le dernier jour de la semaine est dimanche\n",
    "Affichage des traductions des jours de la semaine en anglais et en allemand\n",
    "Le mot \"lundi\" se traduit par \"monday\" en anglais et par \"Montag\" en allemand\n",
    "Le mot \"mardi\" se traduit par \"tuesday\" en anglais et par \"Dienstag\" en allemand\n",
    "Le mot \"mercredi\" se traduit par \"wednesday\" en anglais et par \"Mittwoch\" en allemand\n",
    "Le mot \"jeudi\" se traduit par \"thursday\" en anglais et par \"Donnerstag\" en allemand\n",
    "Le mot \"vendredi\" se traduit par \"friday\" en anglais et par \"Freitag\" en allemand\n",
    "Le mot \"samedi\" se traduit par \"saturday\" en anglais et par \"Samstag\" en allemand\n",
    "Le mot \"dimanche\" se traduit par \"sunday\" en anglais et par \"Sonntag\" en allemand\n",
    "```\n",
    "Compléter le programme ci-dessous :"
   ]
  },
  {
   "cell_type": "code",
   "execution_count": null,
   "metadata": {},
   "outputs": [],
   "source": [
    "# Exercice : traduction des jours de la semaine\n",
    "jours = [\"lundi\", \"mardi\", \"mercredi\", \"jeudi\", \"vendredi\", \"samedi\", \"dimanche\"]\n",
    "days = [\"monday\", \"tuesday\", \"wednesday\", \"thursday\", \"friday\", \"saturday\", \"sunday\"]\n",
    "tage = [\"Montag\", \"Dienstag\", \"Mittwoch\", \"Donnerstag\", \"Freitag\", \"Samstag\", \"Sonntag\"]\n",
    "\n",
    "# à compléter\n",
    "\n",
    "print(\"Affichage des traductions des jours de la semaine en anglais et en allemand\")\n",
    "# à compléter"
   ]
  },
  {
   "attachments": {
    "pile.png": {
     "image/png": "[encoded data removed]"
    }
   },
   "cell_type": "markdown",
   "metadata": {
    "collapsed": true
   },
   "source": [
    "## Notion de pile <a name=\"pile\"></a>\n",
    "Une pile (*stack* en anglais) est une structure de données ayant pour particularité que le dernier élément à y être entré sera le premier à en sortir (LIFO : *last in-first out*) comme pour une pile d'assiettes sur une étagère de placard. On peut récupérer l'élément qui se situe en haut de la pile (dépiler) mais pas les éléments qui se trouvent au milieu.\n",
    "<img src=\"attachment:pile.png\" width=\"400\">\n",
    "\n",
    "Il est possible d'utiliser une liste comme une pile. Pour empiler, on utilise la méthode `append()` :"
   ]
  },
  {
   "cell_type": "code",
   "execution_count": null,
   "metadata": {},
   "outputs": [],
   "source": [
    "fruits = [\"pomme\", \"poire\", \"banane\", \"kiwi\"]\n",
    "fruits.append(\"framboise\")"
   ]
  },
  {
   "cell_type": "markdown",
   "metadata": {},
   "source": [
    "Pour dépiler, on utilise la méthode `pop()` :"
   ]
  },
  {
   "cell_type": "code",
   "execution_count": null,
   "metadata": {},
   "outputs": [],
   "source": [
    "dernier_fruit = fruits.pop()"
   ]
  },
  {
   "attachments": {
    "file.png": {
     "image/png": "[encoded data removed]"
    }
   },
   "cell_type": "markdown",
   "metadata": {},
   "source": [
    "## Notion de file <a name=\"file\"></a>\n",
    "Une file (*queue* en anglais) est une structure de données ayant pour particularité que le premier élément à y être entré sera le premier à en sortir (FIFO : *first in-first out*) comme pour une file d'attente  à la caisse d'un magasin.\n",
    "<img src=\"attachment:file.png\" width=\"400\">\n",
    "\n",
    "\n",
    "Il est possible d'utiliser une liste comme une file. Pour \"enfiler\", on utilise la méthode `append()` :"
   ]
  },
  {
   "cell_type": "code",
   "execution_count": null,
   "metadata": {},
   "outputs": [],
   "source": [
    "fruits = [\"pomme\", \"poire\", \"banane\", \"kiwi\"]\n",
    "fruits.append(\"framboise\")"
   ]
  },
  {
   "cell_type": "markdown",
   "metadata": {},
   "source": [
    "Pour \"défiler\", on utilise la méthode `pop()` :"
   ]
  },
  {
   "cell_type": "code",
   "execution_count": null,
   "metadata": {},
   "outputs": [],
   "source": [
    "fruits.pop(0)"
   ]
  },
  {
   "cell_type": "markdown",
   "metadata": {},
   "source": [
    "## Parcours de liste <a name=\"parcours\"></a>\n",
    "### Notion de parcours <a name=\"notion_parcours\"></a>\n",
    "Le parcours permet d'appliquer le même traitement sur chaque élément d'une séquence, sans avoir à écrire plusieurs fois le même code. Par exemple, le parcours peut permettre d'afficher chaque élément d'une liste.\n",
    "### L'instruction for...in <a name=\"for_in\"></a>\n",
    "L'instruction `for` permet d'itérer sur l'ensemble des éléments d'une séquence :"
   ]
  },
  {
   "cell_type": "code",
   "execution_count": null,
   "metadata": {},
   "outputs": [],
   "source": [
    "fruits = [\"pomme\", \"poire\", \"banane\", \"kiwi\"]\n",
    "for f in fruits:\n",
    "    print(f)"
   ]
  },
  {
   "cell_type": "markdown",
   "metadata": {},
   "source": [
    "A chaque tour de boucle, la variable `f` prendra la valeur d'un élément de la liste. La liste est parcourue dans l'ordre. Toutes les lignes d'instruction qui se situent à l'intérieur de la boucle doivent commencer par une indentation (touche tabulation)."
   ]
  },
  {
   "cell_type": "markdown",
   "metadata": {},
   "source": [
    "### Utilisation de `range` dans une boucle for <a name=\"range\"></a>\n",
    "Il est également possible de parcourir un tableau en itérant sur les indices :"
   ]
  },
  {
   "cell_type": "code",
   "execution_count": null,
   "metadata": {},
   "outputs": [],
   "source": [
    "fruits = [\"pomme\", \"poire\", \"banane\", \"kiwi\"]\n",
    "for i in range(len(fruits)):\n",
    "    print(fruits[i])"
   ]
  },
  {
   "cell_type": "markdown",
   "metadata": {},
   "source": [
    "`range` renvoie ici un itérateur, c'est-à-dire un objet particulier qui à chaque itération va renvoyer l'élément suivant dans la séquence (ici la séquence sera constituée par la suite d'entiers qui varie de 0 au dernier indice dans la liste `fruits`). L'avantage de cette méthode est que l'on connaît la position (l'indice) de l'élément dans la liste.\n",
    "\n",
    "On peut aussi utiliser range pour faire un nombre donné d'itérations, comme suit :"
   ]
  },
  {
   "cell_type": "code",
   "execution_count": null,
   "metadata": {},
   "outputs": [],
   "source": [
    "for x in range(0,5):\n",
    "    print(f'Bonjour {x}')"
   ]
  },
  {
   "cell_type": "markdown",
   "metadata": {},
   "source": [
    "`range(0,5)` indique que le comptage doit démarrer à 0 et se terminer avant d'atteindre 5."
   ]
  },
  {
   "cell_type": "markdown",
   "metadata": {},
   "source": [
    "## ✏️ Exercice : traduction des jours de la semaine <a name=\"ex_traduction\"></a>\n",
    "Reprendre l'exercice sur la traduction des jours de la semaine en utilisant une boucle `for`"
   ]
  },
  {
   "cell_type": "code",
   "execution_count": null,
   "metadata": {},
   "outputs": [],
   "source": [
    "# Exercice : traduction des jours de la semaine avec boucle for"
   ]
  },
  {
   "cell_type": "markdown",
   "metadata": {},
   "source": [
    "## ✏️Exercice : conjugaison des verbes du deuxième groupe <a name=\"ex_conjugaison2\"></a>\n",
    "Écrire un programme Python pour la conjugaison des verbes du deuxième groupe. Les affichages et entrées de l'utilisateur sont détaillés ci-dessous, l'infinitif du verbe est entré par l'utilisateur :\n",
    "```\n",
    "Entrez l'infinitif d'un verbe du deuxième groupe : \n",
    "bondir\n",
    "La conjugaison de \"bondir\" au présent de l'indicatif :\n",
    "je bondis\n",
    "tu bondis\n",
    "il/elle/on bondit\n",
    "nous bondissons\n",
    "vous bondissez\n",
    "ils/elles bondissent\n",
    "```\n",
    "Pour cela, vous aurez besoin d'une liste qui contient les pronoms personnels du français (\"je\", \"tu\", \"il/elle/on\", \"nous\", \"vous\", \"ils/elles\"), et d'une liste qui contient les terminaisons des verbes du deuxième groupe (\"is\", \"is, \"it\", \"issons\", \"issez\", \"issent\")."
   ]
  },
  {
   "cell_type": "code",
   "execution_count": null,
   "metadata": {},
   "outputs": [],
   "source": [
    "# Exercice : conjugaison des verbes du deuxième groupe\n",
    "\n",
    "pronoms = [\"je\", \"tu\", \"il/elle/on\", \"nous\", \"vous\", \"ils/elles\"]\n",
    "terminaisons = [\"is\", \"is\", \"it\", \"issons\", \"issez\", \"issent\"]\n",
    "\n",
    "verbe = input(\"Entrez l'infinitif d'un verbe du deuxième groupe : \")\n",
    "# Compléter ci-dessous\n",
    "\n",
    "print('La conjugaison de \"'+verbe+'\" au présent de l\\'indicatif :')\n",
    "# Compléter ci-dessous"
   ]
  },
  {
   "cell_type": "markdown",
   "metadata": {},
   "source": [
    "## ✏️ Exercice : poids sur la Lune <a name=\"ex_poids_lune\"></a>\n",
    "Le poids (exprimé en Newton N) se calcule en multipliant la masse (exprimée en kg) par l'accélération de la pesanteur (cf. http://phys.free.fr/maspoids.htm). L'accélération de la pesanteur de la Lune est six fois moins importante que celle de la Terre. Par conséquent, une personne \"pèse\" six fois moins lourd sur la Lune que sur la Terre : une personne qui a une masse de 70kg a un poids de 687 N sur la Terre et de 112 N sur la Lune.\n",
    "\n",
    "Supposons maintenant que cette personne prend un kilo par an pendant les 15 prochaines années. Écrire un programme qui utilise une boucle `for` pour afficher la masse, le poids sur la Terre et le poids sur la Lune pour chacune de ces années.\n",
    "\n",
    "L'affichage obtenu devrait être le suivant :\n",
    "```\n",
    "La masse initiale est de 70 kg\n",
    "Le poids initial sur la Terre est de 687.00 N\n",
    "Le poids initial sur la Lune est de 112.00 N\n",
    "****\n",
    "An 1\n",
    "Masse : 71 kg\n",
    "Poids sur la Terre : 696.81 N\n",
    "Poids sur la Lune : 113.60 N\n",
    "****\n",
    "An 2\n",
    "Masse : 72 kg\n",
    "Poids sur la Terre : 706.63 N\n",
    "Poids sur la Lune : 115.20 N\n",
    "....\n",
    "```"
   ]
  },
  {
   "cell_type": "code",
   "execution_count": null,
   "metadata": {},
   "outputs": [],
   "source": [
    "# Exercice : poids sur la Lune\n"
   ]
  },
  {
   "cell_type": "markdown",
   "metadata": {},
   "source": [
    "## Division entière et modulo <a name=\"div\"></a>\n",
    "L'opération modulo (notée `%`) correspond au reste de la division de nombres entiers. Par exemple, `11 % 3` donne `2`, car `11 = 3 x 3 + 2`.\n",
    "\n",
    "Il est également possible de faire une division entière, afin de trouver le quotient :"
   ]
  },
  {
   "cell_type": "code",
   "execution_count": null,
   "metadata": {},
   "outputs": [],
   "source": [
    "20 // 3 # donne 6 car 20 = 6 * 3 + 2"
   ]
  },
  {
   "cell_type": "markdown",
   "metadata": {},
   "source": [
    "Notez la différence avec la division décimale (le résultat est un nombre décimal) :"
   ]
  },
  {
   "cell_type": "code",
   "execution_count": null,
   "metadata": {},
   "outputs": [],
   "source": [
    "20 / 3 # donne 6.666666666666667"
   ]
  },
  {
   "cell_type": "markdown",
   "metadata": {},
   "source": [
    "Il est également possible d'obtenir directement à la fois le quotient et le reste d'une division entière à l'aide de la fonction prédéfinie `divmod()` :"
   ]
  },
  {
   "cell_type": "code",
   "execution_count": null,
   "metadata": {},
   "outputs": [],
   "source": [
    "x = divmod(20, 3)\n",
    "print(x[0])\n",
    "print(x[1])\n",
    "(q,r) = divmod(20,3)\n",
    "print(q)"
   ]
  },
  {
   "cell_type": "markdown",
   "metadata": {},
   "source": [
    "`divmod` renvoie la paire (`q`, `r`) où q est le quotient et r le reste."
   ]
  },
  {
   "cell_type": "markdown",
   "metadata": {},
   "source": [
    "## ✏️ Exercice : conversion jours-heures-minutes-secondes <a name=\"ex_conversion_jhms\"></a>\n",
    "Écrire un programme qui, pour un nombre donné de secondes inférieur à 1 000 000 calcule son équivalent en jour(s), heure(s), minute(s) et seconde(s).\n",
    "Par exemple, étant donné le nombre 309 639, le programme devra afficher \"3 jours 14 heures 0 minutes et 39 secondes\".\n",
    "Rappel :\n",
    "  * 1 minute = 60 secondes\n",
    "  * 1 heure = 60 minutes = 3600 secondes\n",
    "  * 1 jour = 24 heures = 1440 minutes = 86400 secondes\n"
   ]
  },
  {
   "cell_type": "code",
   "execution_count": null,
   "metadata": {},
   "outputs": [],
   "source": [
    "# Exercice : conversion jours-heures-minutes-secondes"
   ]
  },
  {
   "cell_type": "markdown",
   "metadata": {},
   "source": [
    "## ✏️ Exercice : décomposition d'un montant <a name=\"ex_decomposition_montant\"></a>\n",
    "Écrire un programme afin d'aider les caissiers et caissières d'un magasin à minimiser le nombre de pièces et de billets lorsqu'ils et elles rendent la monnaie. Par exemple, 58 € se décompose en 1 billet de 50 €, 1 billet de 5 €, 1 pièce de 2 € et 1 pièce de 1 €. Pour simplifier, on ne va considérer que les montants sans centimes. Les caissiers et caissières disposent des billets et des pièces suivants : 50, 20, 10, 5, 2 et 1 €.\n",
    "\n",
    "Exemple d'affichage :\n",
    "```\n",
    "Veuillez entrer le montant : 28\n",
    "La décomposition du montant est la suivante :\n",
    "0 fois 50 €\n",
    "1 fois 20 €\n",
    "0 fois 10 €\n",
    "1 fois 5 €\n",
    "1 fois 2 €\n",
    "1 fois 1 €\n",
    "```"
   ]
  },
  {
   "cell_type": "code",
   "execution_count": null,
   "metadata": {},
   "outputs": [],
   "source": [
    "# Exercice : décomposition d'un montant"
   ]
  },
  {
   "cell_type": "markdown",
   "metadata": {},
   "source": [
    "## ✏️ Exercice : conversion nombres romains <a name=\"ex_conversion_romains\"></a>\n",
    "Écrire un programme qui convertit un entier compris entre 1 et 3 999 sous forme de nombre romain.\n",
    "La numérotation romaine dispose des 7 symboles suivants :\n",
    "\n",
    "| Symbole | Valeur |\n",
    "| ------- | ------ |\n",
    "| I | 1 |\n",
    "| V | 5 |\n",
    "| X | 10 |\n",
    "| L | 50 |\n",
    "| C | 100 |\n",
    "| D | 500 |\n",
    "| M | 1000 |\n",
    "\n",
    "Un nombre romain est composé suivant les règles suivantes :\n",
    "  * Les symboles sont écrits du plus grand au plus petit et leur valeur s'ajoute. Par exemple, 123 s'écrit C XX III\n",
    "  * Il n'est pas possible d'utiliser plus de trois symboles identiques à la suite : on utilise alors la notation soustractive. Dans ce cas, un symbole placé directement avant un symbole plus grand lui est retranché. Par exemple, 400 s'écrit CD au lieu de CCCC\n",
    "  \n",
    "Vous pouvez vérifier les conversions sur le site suivant : https://www.periodni.com/fr/convertisseur_chiffres_romains.html\n",
    "\n",
    "**Indice 1 :**\n",
    "Utilisez deux listes, l'une pour les symboles et l'autre pour les valeurs correspondantes :"
   ]
  },
  {
   "cell_type": "code",
   "execution_count": null,
   "metadata": {},
   "outputs": [],
   "source": [
    "tab_symboles = ['M', 'CM', 'D', 'CD', 'C', 'XC', 'L', 'XL', 'X', 'IX', 'V', 'IV', 'I']\n",
    "tab_valeurs = [1000, 900, 500, 400, 100, 90, 50, 40, 10, 9, 5, 4, 1]"
   ]
  },
  {
   "cell_type": "markdown",
   "metadata": {},
   "source": [
    "**Indice 2 :** utilisez `divmod`"
   ]
  },
  {
   "cell_type": "code",
   "execution_count": null,
   "metadata": {},
   "outputs": [],
   "source": [
    "# Exercice : conversion nombres romains"
   ]
  }
 ],
 "metadata": {
  "kernelspec": {
   "display_name": "Python 3",
   "language": "python",
   "name": "python3"
  },
  "language_info": {
   "codemirror_mode": {
    "name": "ipython",
    "version": 3
   },
   "file_extension": ".py",
   "mimetype": "text/x-python",
   "name": "python",
   "nbconvert_exporter": "python",
   "pygments_lexer": "ipython3",
   "version": "3.7.4"
  }
 },
 "nbformat": 4,
 "nbformat_minor": 2
}
