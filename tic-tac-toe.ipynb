{
 "cells": [
  {
   "cell_type": "code",
   "execution_count": 15,
   "id": "a59bc70e-db1a-4fb5-8d17-cbf6d436bf40",
   "metadata": {},
   "outputs": [],
   "source": [
    "board = \\\n",
    "[\n",
    "[\" \", \" \", \" \"],\n",
    "[\" \", \" \", \" \"],\n",
    "[\" \", \" \", \" \"]\n",
    "]"
   ]
  },
  {
   "cell_type": "code",
   "execution_count": 16,
   "id": "5a913915-df52-47cd-80fb-49f1626b4dc8",
   "metadata": {},
   "outputs": [
    {
     "data": {
      "text/plain": [
       "[[' ', ' ', ' '], [' ', ' ', ' '], [' ', ' ', ' ']]"
      ]
     },
     "execution_count": 16,
     "metadata": {},
     "output_type": "execute_result"
    }
   ],
   "source": [
    "board"
   ]
  },
  {
   "cell_type": "code",
   "execution_count": 17,
   "id": "dd09b8b5-50ca-43b1-a48f-c2d0b75094c2",
   "metadata": {},
   "outputs": [
    {
     "data": {
      "text/plain": [
       "[[' ', ' ', 'x'], [' ', ' ', 'x'], [' ', 'x', ' ']]"
      ]
     },
     "execution_count": 17,
     "metadata": {},
     "output_type": "execute_result"
    }
   ],
   "source": [
    "board[2][1] = \"x\" # This is the third row, second column\n",
    "board[1][2] = \"x\" # This is the second row, third column\n",
    "board[0][2] = \"x\" # This is the first row, third column\n",
    "board"
   ]
  },
  {
   "cell_type": "code",
   "execution_count": 18,
   "id": "0d124187-e08c-4f59-87d8-3e30e9258713",
   "metadata": {},
   "outputs": [],
   "source": [
    "def print_board(game_board):\n",
    "    \"\"\" Clean Display of the board \"\"\"\n",
    "    for row in var_board:\n",
    "        print(row)"
   ]
  },
  {
   "cell_type": "code",
   "execution_count": 19,
   "id": "d72cd9fb-099b-4a4c-8266-d144ae91a0b0",
   "metadata": {},
   "outputs": [
    {
     "name": "stdout",
     "output_type": "stream",
     "text": [
      "[' ', ' ', 'x']\n",
      "[' ', ' ', 'x']\n",
      "[' ', 'x', ' ']\n"
     ]
    }
   ],
   "source": [
    "print_board(board)"
   ]
  },
  {
   "cell_type": "code",
   "execution_count": 23,
   "id": "b451ff16-4810-4843-b41f-3d53ffffbf52",
   "metadata": {},
   "outputs": [],
   "source": [
    "def reinitialize_board():\n",
    "    # This creates a new board\n",
    "    empty_board = \\\n",
    "[\n",
    "[\" \", \" \", \" \"],\n",
    "[\" \", \" \", \" \"],\n",
    "[\" \", \" \", \" \"]\n",
    "]\n",
    "    return empty_board\n",
    "board = reinitialize_board()"
   ]
  },
  {
   "cell_type": "code",
   "execution_count": 50,
   "id": "13152e23-6296-40ac-832a-ad7d0a9e3a4d",
   "metadata": {},
   "outputs": [],
   "source": [
    "def check_player_turn(game_board):\n",
    "    \"\"\" Returns the player who needs to play, either X or O \"\"\"\n",
    "    \n",
    "    # we count how many X and how many O\n",
    "    total_X = 0\n",
    "    total_O = 0\n",
    "    for row in game_board: # we iterate over each row\n",
    "        for cell in row: # we iterate over each column in the row\n",
    "            if cell == \"X\":\n",
    "                total_X = total_X + 1\n",
    "            elif cell == \"O\":\n",
    "                total_O += 1 # same way to write it\n",
    "    # we return O, if there is more X on the board, else we return X.\n",
    "    if total_X > total_O :\n",
    "        return \"O\"\n",
    "    else:\n",
    "        return \"X\""
   ]
  },
  {
   "cell_type": "code",
   "execution_count": 51,
   "id": "e61ced1a-9efc-4318-9737-0d058cfee18c",
   "metadata": {},
   "outputs": [],
   "source": [
    "def valid_move(game_board, player, row, column):\n",
    "    if row >= 3 or row < 0:\n",
    "        print(\"The move is outside the board\")\n",
    "        return False\n",
    "    if column >=3 or column < 0:\n",
    "        print(\"The move is outside the board\")\n",
    "        return False\n",
    "    \n",
    "    if player != check_player_turn(game_board):\n",
    "        print(f\"This is not {player}'s turn !\")\n",
    "        return False\n",
    "    \n",
    "    if game_board[row][column] == \" \":\n",
    "        return True\n",
    "    else:\n",
    "        return False"
   ]
  },
  {
   "cell_type": "code",
   "execution_count": null,
   "id": "88a9c007-4cb5-470d-a552-9dc6c2d8bb94",
   "metadata": {},
   "outputs": [],
   "source": []
  },
  {
   "cell_type": "code",
   "execution_count": 52,
   "id": "a3e89b47-34e3-4169-b6bf-dead604f5a87",
   "metadata": {},
   "outputs": [],
   "source": [
    "def play_move(game_board, player, row, column):\n",
    "    \"\"\" Add a move to the board \"\"\"\n",
    "    # check if the cell is empty\n",
    "    if not valid_move(board, player, row, column):\n",
    "        print(\"The move is not valid\")\n",
    "\n",
    "    else:\n",
    "        board[row][column] = player\n",
    "    \n",
    "    return board\n",
    "              "
   ]
  },
  {
   "cell_type": "code",
   "execution_count": 53,
   "id": "df860878-7002-4a28-8394-0f8b069072f0",
   "metadata": {},
   "outputs": [
    {
     "name": "stdout",
     "output_type": "stream",
     "text": [
      "[' ', ' ', ' ']\n",
      "[' ', ' ', ' ']\n",
      "[' ', ' ', ' ']\n"
     ]
    }
   ],
   "source": [
    "board = reinitialize_board()\n",
    "print_board(board)"
   ]
  },
  {
   "cell_type": "code",
   "execution_count": 56,
   "id": "f2a14a72-5017-4b67-9424-805fd0f1d6dd",
   "metadata": {},
   "outputs": [
    {
     "name": "stdout",
     "output_type": "stream",
     "text": [
      "This is not X's turn !\n",
      "The move is not valid\n",
      "[' ', ' ', ' ']\n",
      "[' ', ' ', 'X']\n",
      "[' ', ' ', ' ']\n"
     ]
    }
   ],
   "source": [
    "board = play_move(board, \"X\", 1, 1)\n",
    "print_board(board)"
   ]
  },
  {
   "cell_type": "code",
   "execution_count": 58,
   "id": "52bdc49a-4c45-4301-acf6-1806052dc184",
   "metadata": {},
   "outputs": [],
   "source": [
    "def check_winner(game_board):\n",
    "    # check rows\n",
    "    for row in game_board:\n",
    "        if row[0] != \" \" and (row[0] == row[1] == row[2]):\n",
    "            return row[0]\n",
    "    # check columns\n",
    "    for col in range(3):\n",
    "        if game_board[0][col] != \" \" and (game_board[0][col] == game_board[1][col] == game_board[2][col]):\n",
    "            return game_board[0][col]\n",
    "    # check diagonals\n",
    "    if game_board[0][0] != \" \" and (game_board[0][0] == game_board[1][1] == game_board[2][2]):\n",
    "        return game_board[0][0]\n",
    "    if game_board[0][2] != \" \" and (game_board[0][2] == game_board[1][1] == game_board[2][0]):\n",
    "        return game_board[0][2]\n",
    "    # IF we don't return anything before it means there is no winner\n",
    "    return False\n",
    "        "
   ]
  },
  {
   "cell_type": "code",
   "execution_count": null,
   "id": "fa795300-0d97-4d5b-bb9f-f667b0f152f3",
   "metadata": {},
   "outputs": [],
   "source": [
    "def is_board_full(game_board) -> bool:\n",
    "    # We check every cell in the board, as soon as we find one that is empty we return False\n",
    "    for row in game_board:\n",
    "        for cell in row:\n",
    "            if cell == \" \":\n",
    "                return False\n",
    "    # if we don't find one empty, we return True because the board is full\n",
    "    return True"
   ]
  },
  {
   "cell_type": "code",
   "execution_count": null,
   "id": "70578a64-b6f9-4b31-86df-7da584bdd687",
   "metadata": {},
   "outputs": [],
   "source": [
    "board = reinitialize_board()\n",
    "current_player = 'X'\n",
    "\n",
    "while True:\n",
    "    # TODO: print the board\n",
    "    \n",
    "    # TODO: print whose turn it is\n",
    "    \n",
    "    # TODO: get row from input (don't forget int())\n",
    "    # TODO: get col from input\n",
    "    \n",
    "    # TODO: call play_move\n",
    "    \n",
    "    # TODO: check if someone won (use check_winner)\n",
    "    # If yes: print winner and break\n",
    "    \n",
    "    # TODO: check if board is full (use is_board_full)\n",
    "    # If yes: print draw and break\n",
    "    \n",
    "    # TODO: switch current_player (X becomes O, O becomes X)"
   ]
  }
 ],
 "metadata": {
  "kernelspec": {
   "display_name": "Python 3 (ipykernel)",
   "language": "python",
   "name": "python3"
  },
  "language_info": {
   "codemirror_mode": {
    "name": "ipython",
    "version": 3
   },
   "file_extension": ".py",
   "mimetype": "text/x-python",
   "name": "python",
   "nbconvert_exporter": "python",
   "pygments_lexer": "ipython3",
   "version": "3.9.12"
  }
 },
 "nbformat": 4,
 "nbformat_minor": 5
}
