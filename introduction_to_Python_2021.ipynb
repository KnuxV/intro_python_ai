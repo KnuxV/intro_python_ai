{
 "cells": [
  {
   "cell_type": "markdown",
   "metadata": {},
   "source": [
    "# (brief) Introduction to Python\n",
    "\n",
    "***\n",
    "\n",
    "## 1. This presentation:\n",
    "\n",
    "### The objective : a first overview of Python \n",
    "\n",
    "\n",
    "<table style=\"width:100%\" bgcolor=\"#FFFFFF\">\n",
    "    <tr>\n",
    "        <td bgcolor=\"#FFFFFF\" valign=\"top\" align=\"left\" >\n",
    "&nbsp;<br>\n",
    "<ul style=\"display:inline-block;text-align:left;font-size:16px\">\n",
    "<li> Leading the way towards examples in ML\n",
    "<li> Not an exhaustive course!\n",
    "<li> Enough to allow to follow ML examples and try things out\n",
    "<li> Introduction to the librairies ecosystem around data science\n",
    "<li> First step towards hands-on ML/AI experiments\n",
    "            </ul>\n",
    "            </td>\n",
    "        <td bgcolor=\"#FFFFFF\" width=\"50%\"><img src=\"graphics/python-logo.png\" ></img>\n",
    "     </tr>\n",
    "</table>\n",
    "\n",
    "\n",
    "***\n",
    "\n",
    "### The environment : JupyterHub / notebooks\n",
    "#### (see accompanying notebook)\n",
    "- No need to install any software\n",
    "- Everybody shares the same environment\n",
    "- notebooks are distributed\n",
    "- can experiment (type in cells and run them)\n",
    "- can take notes (Markdown)\n",
    "- can be downloaded (for later use)\n",
    "\n",
    "***\n",
    "\n",
    "\n",
    "## 2. Python in a ntushell : \n",
    "\n",
    "### The creator - Guido van Rossum (b. 1956)\n",
    "\n",
    "\n",
    "<table style=\"width:100%\" bgcolor=\"#FFFFFF\">\n",
    "    <tr>\n",
    "        <td bgcolor=\"#FFFFFF\" align=\"left\">\n",
    "            <br>\n",
    "Guido van Rossum (NL): created Python between 1989 et 1991 (v1.0) <br>\n",
    "\n",
    "<b>Python ?...</b>  not the snake... <br>\n",
    "\n",
    "<i>\".... In December 1989, I was looking for a 'hobby' programming project that would keep me occupied during the week around Christmas. I chose Python as a working title for the project, being in a slightly irreverent mood (and a big fan of Monty Python's Flying Circus).”</it><br>\n",
    "<img src=\"graphics/monty_python_flying_circus.jpg\" width=500></img>\n",
    "            </td>\n",
    "        <td bgcolor=\"#FFFFFF\"><img src=\"graphics/guido.jpg\" width=300></img>\n",
    "     </tr>\n",
    "</table>\n",
    "\n",
    "***\n",
    "\n",
    "## Why Python ?\n",
    "\n",
    "- One of the most common language for prototyping / experimenting\n",
    "- Highly popular (fastest growing language since 2012)\n",
    "- With enthusiastic community (gitHub, Stackoverflow)\n",
    "- In all fields (including data science, ML/AI !)\n",
    "- Vast amount of freely availble resources (libraries)\n",
    "- Open source. Free alternative to Matlab\n",
    "- More intuitive, more legible, simple(r) to use (than Java, C++)\n",
    "\n",
    "***\n",
    "\n",
    "### Key Characteristics:\n",
    "\n",
    "- **Interpreted Language:** \n",
    "Python is an interpreted programming language. At the most basic level, an interpreted language means that you can run Python code and associated commands without needed additional steps such as compiling the code first before running it. This makes getting started and working with Python quick and easy.\n",
    "\n",
    "\n",
    "- **Object-Oriented:** \n",
    "Python is most often used in an object-oriented way, which allows data to be stored as objects that have unique characteristics and functionality. \n",
    "\n",
    "\n",
    "- **High Level Programming Language:** \n",
    "Python is also a high level programming language, which provides the ability to work with code that is human readable. \n",
    "\n",
    "\n",
    "- **Free and Open Source:** \n",
    "Python is a free and open source programming language. \n",
    "This means that the source code for the entire language is freely available, and that anyone can contribute new functionality or documentation for the benefit of the Python community.\n",
    "\n",
    "***\n",
    "\n",
    "### Cheatsheet / resources \n",
    "\n",
    "<img src=\"graphics/python_cheat_sheet.jpg\"></img>\n",
    "\n",
    "***\n"
   ]
  },
  {
   "cell_type": "markdown",
   "metadata": {},
   "source": [
    "***\n",
    "# Python essential data types : integers, floats, strings, lists, dictionaries\n",
    "\n"
   ]
  },
  {
   "cell_type": "code",
   "execution_count": 7,
   "metadata": {},
   "outputs": [
    {
     "name": "stdout",
     "output_type": "stream",
     "text": [
      "Monty\n"
     ]
    }
   ],
   "source": [
    "# variable assignments:\n",
    "\n",
    "name = \"Monty\"\n",
    "print(name)"
   ]
  },
  {
   "cell_type": "code",
   "execution_count": 13,
   "metadata": {},
   "outputs": [
    {
     "name": "stdout",
     "output_type": "stream",
     "text": [
      "x= 1\n",
      "x type: <class 'int'>\n",
      "x as a float = 1.0\n",
      "x_float type: <class 'float'>\n",
      "2.0\n",
      "y type: <class 'float'>\n",
      "x type: <class 'int'>\n"
     ]
    }
   ],
   "source": [
    "# Types: integers, float, strings, lists, tuples, dictionaries\n",
    "\n",
    "# Integers\n",
    "x = 1;\n",
    "print(\"x=\",x)\n",
    "print(\"x type:\",type(x))\n",
    "\n",
    "# Floating Point Numbers\n",
    "\n",
    "x_float = float(x) # use the command float to change a number to type float\n",
    "print(\"x as a float =\", x_float)\n",
    "print(\"x_float type:\",type(x_float))\n",
    "\n",
    "y = x + x_float\n",
    "print(y)\n",
    "print(\"y type:\",type(y))\n",
    "print(\"x type:\",type(x))"
   ]
  },
  {
   "cell_type": "markdown",
   "metadata": {},
   "source": [
    "***\n",
    "\n",
    "## Strings"
   ]
  },
  {
   "cell_type": "code",
   "execution_count": 15,
   "metadata": {},
   "outputs": [
    {
     "name": "stdout",
     "output_type": "stream",
     "text": [
      "example_string type: <class 'str'>\n",
      "x_string type: <class 'str'>\n"
     ]
    }
   ],
   "source": [
    "# Strings\n",
    "example_string = 'This is a string'\n",
    "print('example_string type:',type(example_string))\n",
    "\n",
    "#To change a variable to type string use the command str(argument), for example:\n",
    "x=1\n",
    "x_string = str(x)\n",
    "print('x_string type:',type(x_string))"
   ]
  },
  {
   "cell_type": "code",
   "execution_count": 2,
   "metadata": {},
   "outputs": [
    {
     "name": "stdout",
     "output_type": "stream",
     "text": [
      "j\n"
     ]
    }
   ],
   "source": [
    "long_string = \"The quick brown fox jumps over the lazy dog\"\n",
    "\n",
    "print(long_string[20])"
   ]
  },
  {
   "cell_type": "code",
   "execution_count": 3,
   "metadata": {},
   "outputs": [
    {
     "name": "stdout",
     "output_type": "stream",
     "text": [
      "quick\n"
     ]
    }
   ],
   "source": [
    "print(long_string[4:9])"
   ]
  },
  {
   "cell_type": "markdown",
   "metadata": {},
   "source": [
    "**Rq:** \"The quick brown fox jumps over the lazy dog\" is an English-language pangram\n",
    "(a sentence that contains all of the letters of the alphabet)."
   ]
  },
  {
   "cell_type": "code",
   "execution_count": 1,
   "metadata": {},
   "outputs": [
    {
     "ename": "NameError",
     "evalue": "name 'long_string' is not defined",
     "output_type": "error",
     "traceback": [
      "\u001b[0;31m---------------------------------------------------------------------------\u001b[0m",
      "\u001b[0;31mNameError\u001b[0m                                 Traceback (most recent call last)",
      "\u001b[0;32m<ipython-input-1-8d8e18c54c9b>\u001b[0m in \u001b[0;36m<module>\u001b[0;34m\u001b[0m\n\u001b[0;32m----> 1\u001b[0;31m \u001b[0mprint\u001b[0m\u001b[0;34m(\u001b[0m\u001b[0mlong_string\u001b[0m\u001b[0;34m.\u001b[0m\u001b[0mupper\u001b[0m\u001b[0;34m(\u001b[0m\u001b[0;34m)\u001b[0m\u001b[0;34m)\u001b[0m\u001b[0;34m\u001b[0m\u001b[0;34m\u001b[0m\u001b[0m\n\u001b[0m\u001b[1;32m      2\u001b[0m \u001b[0;34m\u001b[0m\u001b[0m\n\u001b[1;32m      3\u001b[0m \u001b[0mprint\u001b[0m\u001b[0;34m(\u001b[0m\u001b[0mlong_string\u001b[0m\u001b[0;34m.\u001b[0m\u001b[0mfind\u001b[0m\u001b[0;34m(\u001b[0m\u001b[0;34m\"fox\"\u001b[0m\u001b[0;34m)\u001b[0m\u001b[0;34m)\u001b[0m\u001b[0;34m\u001b[0m\u001b[0;34m\u001b[0m\u001b[0m\n\u001b[1;32m      4\u001b[0m \u001b[0;34m\u001b[0m\u001b[0m\n\u001b[1;32m      5\u001b[0m \u001b[0mprint\u001b[0m\u001b[0;34m(\u001b[0m\u001b[0mlong_string\u001b[0m\u001b[0;34m.\u001b[0m\u001b[0misalpha\u001b[0m\u001b[0;34m(\u001b[0m\u001b[0;34m)\u001b[0m\u001b[0;34m)\u001b[0m\u001b[0;34m\u001b[0m\u001b[0;34m\u001b[0m\u001b[0m\n",
      "\u001b[0;31mNameError\u001b[0m: name 'long_string' is not defined"
     ]
    }
   ],
   "source": [
    "print(long_string.upper())\n",
    "\n",
    "print(long_string.find(\"fox\"))\n",
    "\n",
    "print(long_string.isalpha())\n",
    "no_space=\"Thequick\"\n",
    "\n",
    "print(no_space.isalpha())\n",
    "\n",
    "quote_list = long_string.split(\" \")\n",
    "print(quote_list)\n",
    "\n",
    "print(long_string.replace(\"dog\", \"cat\"))"
   ]
  },
  {
   "cell_type": "markdown",
   "metadata": {},
   "source": [
    "***\n",
    "\n",
    "## Lists\n"
   ]
  },
  {
   "cell_type": "code",
   "execution_count": 33,
   "metadata": {},
   "outputs": [
    {
     "name": "stdout",
     "output_type": "stream",
     "text": [
      "['bread', 'milk', 'apples', 'salad']\n",
      "['bread', 'milk', 'apples', 'salad']\n",
      "The first element is:  bread\n",
      "1.234\n"
     ]
    }
   ],
   "source": [
    "shopping_list = ['bread', 'milk', 'apples', 'salad']\n",
    "\n",
    "shopping = ['bread', 'milk', 'apples', 'salad']\n",
    "\n",
    "print (shopping_list)\n",
    "print('The first element is: ', shopping_list[0])\n",
    "\n",
    "x=1.234\n",
    "print(x)"
   ]
  },
  {
   "cell_type": "code",
   "execution_count": 23,
   "metadata": {},
   "outputs": [
    {
     "name": "stdout",
     "output_type": "stream",
     "text": [
      "['celery', 'milk', 'apples', 'salad']\n"
     ]
    }
   ],
   "source": [
    "shopping_list[0] = \"celery\"\n",
    "print(shopping_list)"
   ]
  },
  {
   "cell_type": "code",
   "execution_count": 24,
   "metadata": {},
   "outputs": [
    {
     "name": "stdout",
     "output_type": "stream",
     "text": [
      "['celery', 'milk', 'apples', 'salad', 'butter']\n"
     ]
    }
   ],
   "source": [
    "shopping_list.append(\"butter\")\n",
    "print(shopping_list)"
   ]
  },
  {
   "cell_type": "code",
   "execution_count": 29,
   "metadata": {},
   "outputs": [
    {
     "name": "stdout",
     "output_type": "stream",
     "text": [
      "['bread', 'apples', 'salad']\n"
     ]
    }
   ],
   "source": [
    "shopping_list\n",
    "print(shopping_list)"
   ]
  },
  {
   "cell_type": "code",
   "execution_count": 26,
   "metadata": {},
   "outputs": [
    {
     "name": "stdout",
     "output_type": "stream",
     "text": [
      "['apples', 'butter', 'celery', 'milk']\n"
     ]
    }
   ],
   "source": [
    "shopping_list\n",
    "print(shopping_list)"
   ]
  },
  {
   "cell_type": "markdown",
   "metadata": {},
   "source": [
    "***\n",
    "\n",
    "## Dictionaries"
   ]
  },
  {
   "cell_type": "code",
   "execution_count": 38,
   "metadata": {},
   "outputs": [
    {
     "name": "stdout",
     "output_type": "stream",
     "text": [
      "2\n",
      "999\n"
     ]
    }
   ],
   "source": [
    "super_heroes = {\n",
    "    'Superman'  : 'Clark Kent',\n",
    "    'Spiderman' : 'Peter Parker', \n",
    "    'Batman'    : 2, \n",
    "    'Iron Man'  : [1,\"test\"]\n",
    "}\n",
    "\n",
    "super_hero = {\n",
    "    'Superman'  : 'Clark Kent',\n",
    "    'age' : 999, \n",
    "    \n",
    "}\n",
    "\n",
    "print(super_heroes['Batman'])\n",
    "\n",
    "\n",
    "print(super_hero['age'] )"
   ]
  },
  {
   "cell_type": "code",
   "execution_count": null,
   "metadata": {},
   "outputs": [],
   "source": [
    "del super_heroes['Superman']\n",
    "print(super_heroes)"
   ]
  },
  {
   "cell_type": "code",
   "execution_count": 31,
   "metadata": {},
   "outputs": [
    {
     "name": "stdout",
     "output_type": "stream",
     "text": [
      "Peter P.\n"
     ]
    }
   ],
   "source": [
    "super_heroes['Spiderman'] = 'Peter P.'\n",
    "print(super_heroes.get(\"Spiderman\"))"
   ]
  },
  {
   "cell_type": "code",
   "execution_count": 32,
   "metadata": {},
   "outputs": [
    {
     "name": "stdout",
     "output_type": "stream",
     "text": [
      "dict_values(['Clark Kent', 'Peter P.', 'Bruce Wayne', 'Tony Stark'])\n",
      "dict_keys(['Superman', 'Spiderman', 'Batman', 'Iron Man'])\n"
     ]
    }
   ],
   "source": [
    "print(super_heroes.values())\n",
    "print(super_heroes.keys())"
   ]
  },
  {
   "cell_type": "markdown",
   "metadata": {},
   "source": [
    "***\n",
    "\n",
    "## Functions\n",
    "\n",
    "A function is a reusable set of instructions that performs a specific task. \n",
    "This is particularly useful if code need to be reused multiple times\n",
    "\n",
    "Functions can receive **parameters** as inputs. \n",
    "The function can then process these parameters to produce some **results**, that can be returned as outputs.\n",
    "\n",
    "> input parameter –> function does something –> output results\n",
    "\n",
    "We have already encountered functions :\n",
    "\n",
    "<code>print(\"something\")</code> is an example of a (predefined) function. It takes a value (a string, for example) as parameter, and displays it on the screen.\n",
    "\n",
    "But we can also define our own functions. The basic format is as follows (note that the indentation matters here too!) :\n",
    "\n",
    "<code>def function_name(parameter):\n",
    "    some code here    \n",
    "    return output\n",
    "</code>\n",
    "\n",
    "Let's try it out with a couple of examples:"
   ]
  },
  {
   "cell_type": "code",
   "execution_count": 3,
   "metadata": {},
   "outputs": [
    {
     "name": "stdout",
     "output_type": "stream",
     "text": [
      "Hello  JM\n",
      "Aaaaaaa\n",
      "AAAAAAA\n",
      "aaaaaaa\n"
     ]
    }
   ],
   "source": [
    "\n",
    "def hihi(arbitrary_variable):\n",
    "    print(\"Hello \",arbitrary_variable)\n",
    "\n",
    "hihi(\"JM\")\n",
    "\n",
    "\n",
    "h=\"aaaaAAA\"\n",
    "print(h.capitalize())\n",
    "print(h.upper())\n",
    "print(h.lower())"
   ]
  },
  {
   "cell_type": "code",
   "execution_count": 55,
   "metadata": {},
   "outputs": [
    {
     "name": "stdout",
     "output_type": "stream",
     "text": [
      "3.3\n",
      "Hello Jean-Marc\n"
     ]
    }
   ],
   "source": [
    "def my_sum(a,b):\n",
    "    return a+b\n",
    "\n",
    "c = my_sum(1,2.3)\n",
    "print( c )\n",
    "\n",
    "v = my_sum(\"Hello \",\"Jean-Marc\") \n",
    "\n",
    "print(v)\n"
   ]
  },
  {
   "cell_type": "markdown",
   "metadata": {},
   "source": [
    "***\n",
    "\n",
    "# Libraries, packages and imports: generalities\n",
    "\n",
    "### What is a Package?\n",
    "\n",
    "In Python, a package (or a library) consists in a collection of pre-defined functions. \n",
    "It is basically a toolbox filled with tools, ready to be used and called from a Python code. \n",
    "\n",
    "There are many different packages available for Python.\n",
    "\n",
    "To integrate the functionalities provided by a package, it is first required to \"import\" it (or part thereof) in your code.\n",
    "This is done with the \"import\" command.\n",
    "\n",
    "Importing packages is at the core of the \"zen of python\": re-using work rather than re-coding systematically.\n",
    "(in practice this often leads to searching for the right library/package rather than coding a particular function)"
   ]
  },
  {
   "cell_type": "markdown",
   "metadata": {},
   "source": [
    "### The zen of Python: \"DRY\"\n",
    "\n",
    "(do not repeat yourself...\n",
    "... and reuse (import) as much as you can!\n",
    "\n",
    "There are different ways of importing packages, the simplest one is to import it as a whole: \n",
    "\n",
    "> <code>**import** this_library</code>\n",
    "\n",
    "As often not the whole set of tools is required, on can import only a subset of a particular package: \n",
    "\n",
    "> <code>**from this_library** import sub_component</code>\n",
    "\n",
    "It is sometimes convenient to rename a package (or a subcomponent of a package) since some names can be rather long or hard to remember (we'll see why this is a practical tip):\n",
    "\n",
    "> <code>from this_library import sub_component as **sbc**</code>"
   ]
  },
  {
   "cell_type": "markdown",
   "metadata": {},
   "source": [
    "***\n",
    "\n",
    "Once you have imported a given package, we have access to all of its functions.\n",
    "\n",
    "You can then query for a list of available functions.\n",
    "\n",
    "### We will make extensive use of libraries in this course!\n"
   ]
  },
  {
   "cell_type": "markdown",
   "metadata": {},
   "source": [
    "It is good practice to import all of the packages at the beginning of the code or in the first code cell of a Jupyter Notebook file. \n",
    "(This allows anyone looking at your code to immediately know what packages they need to run the code.)\n",
    "\n",
    "We will depart from this practice here and there for \"pedagogical reasons\" to introduce the required packages on-the-fly as needed."
   ]
  },
  {
   "cell_type": "markdown",
   "metadata": {},
   "source": [
    "***\n",
    "\n",
    "## Some useful libraries:\n",
    "\n",
    "A quick introduction to some of the Python libraries we will use in this course:\n"
   ]
  },
  {
   "cell_type": "markdown",
   "metadata": {},
   "source": [
    "***\n",
    "\n",
    "### Reading and writing files: Pandas"
   ]
  },
  {
   "cell_type": "code",
   "execution_count": 58,
   "metadata": {},
   "outputs": [],
   "source": [
    "import pandas as pd"
   ]
  },
  {
   "cell_type": "code",
   "execution_count": 59,
   "metadata": {},
   "outputs": [
    {
     "data": {
      "text/html": [
       "<div>\n",
       "<style scoped>\n",
       "    .dataframe tbody tr th:only-of-type {\n",
       "        vertical-align: middle;\n",
       "    }\n",
       "\n",
       "    .dataframe tbody tr th {\n",
       "        vertical-align: top;\n",
       "    }\n",
       "\n",
       "    .dataframe thead th {\n",
       "        text-align: right;\n",
       "    }\n",
       "</style>\n",
       "<table border=\"1\" class=\"dataframe\">\n",
       "  <thead>\n",
       "    <tr style=\"text-align: right;\">\n",
       "      <th></th>\n",
       "      <th>CustomerID</th>\n",
       "      <th>Genre</th>\n",
       "      <th>Age</th>\n",
       "      <th>Annual Income (kEuros)</th>\n",
       "      <th>Spending Score (1-100)</th>\n",
       "    </tr>\n",
       "  </thead>\n",
       "  <tbody>\n",
       "    <tr>\n",
       "      <th>0</th>\n",
       "      <td>1</td>\n",
       "      <td>Male</td>\n",
       "      <td>19</td>\n",
       "      <td>15</td>\n",
       "      <td>39</td>\n",
       "    </tr>\n",
       "    <tr>\n",
       "      <th>1</th>\n",
       "      <td>2</td>\n",
       "      <td>Male</td>\n",
       "      <td>21</td>\n",
       "      <td>15</td>\n",
       "      <td>81</td>\n",
       "    </tr>\n",
       "    <tr>\n",
       "      <th>2</th>\n",
       "      <td>3</td>\n",
       "      <td>Female</td>\n",
       "      <td>20</td>\n",
       "      <td>16</td>\n",
       "      <td>6</td>\n",
       "    </tr>\n",
       "    <tr>\n",
       "      <th>3</th>\n",
       "      <td>4</td>\n",
       "      <td>Female</td>\n",
       "      <td>23</td>\n",
       "      <td>16</td>\n",
       "      <td>77</td>\n",
       "    </tr>\n",
       "    <tr>\n",
       "      <th>4</th>\n",
       "      <td>5</td>\n",
       "      <td>Female</td>\n",
       "      <td>31</td>\n",
       "      <td>17</td>\n",
       "      <td>40</td>\n",
       "    </tr>\n",
       "  </tbody>\n",
       "</table>\n",
       "</div>"
      ],
      "text/plain": [
       "   CustomerID   Genre  Age  Annual Income (kEuros)  Spending Score (1-100)\n",
       "0           1    Male   19                      15                      39\n",
       "1           2    Male   21                      15                      81\n",
       "2           3  Female   20                      16                       6\n",
       "3           4  Female   23                      16                      77\n",
       "4           5  Female   31                      17                      40"
      ]
     },
     "execution_count": 59,
     "metadata": {},
     "output_type": "execute_result"
    }
   ],
   "source": [
    "customers_data = pd.read_csv(\"data/clustering/customers.csv\")\n",
    "\n",
    "customers_data.head()\n"
   ]
  },
  {
   "cell_type": "markdown",
   "metadata": {},
   "source": [
    "***\n",
    "#### We can easily manipulate the data using Pandas prepgrammed functions.\n",
    "\n",
    "For example, we can get rid of an unwanter column (here, the customerID)"
   ]
  },
  {
   "cell_type": "code",
   "execution_count": 60,
   "metadata": {},
   "outputs": [
    {
     "data": {
      "text/html": [
       "<div>\n",
       "<style scoped>\n",
       "    .dataframe tbody tr th:only-of-type {\n",
       "        vertical-align: middle;\n",
       "    }\n",
       "\n",
       "    .dataframe tbody tr th {\n",
       "        vertical-align: top;\n",
       "    }\n",
       "\n",
       "    .dataframe thead th {\n",
       "        text-align: right;\n",
       "    }\n",
       "</style>\n",
       "<table border=\"1\" class=\"dataframe\">\n",
       "  <thead>\n",
       "    <tr style=\"text-align: right;\">\n",
       "      <th></th>\n",
       "      <th>Genre</th>\n",
       "      <th>Age</th>\n",
       "      <th>Annual Income (kEuros)</th>\n",
       "      <th>Spending Score (1-100)</th>\n",
       "    </tr>\n",
       "  </thead>\n",
       "  <tbody>\n",
       "    <tr>\n",
       "      <th>0</th>\n",
       "      <td>Male</td>\n",
       "      <td>19</td>\n",
       "      <td>15</td>\n",
       "      <td>39</td>\n",
       "    </tr>\n",
       "    <tr>\n",
       "      <th>1</th>\n",
       "      <td>Male</td>\n",
       "      <td>21</td>\n",
       "      <td>15</td>\n",
       "      <td>81</td>\n",
       "    </tr>\n",
       "    <tr>\n",
       "      <th>2</th>\n",
       "      <td>Female</td>\n",
       "      <td>20</td>\n",
       "      <td>16</td>\n",
       "      <td>6</td>\n",
       "    </tr>\n",
       "    <tr>\n",
       "      <th>3</th>\n",
       "      <td>Female</td>\n",
       "      <td>23</td>\n",
       "      <td>16</td>\n",
       "      <td>77</td>\n",
       "    </tr>\n",
       "    <tr>\n",
       "      <th>4</th>\n",
       "      <td>Female</td>\n",
       "      <td>31</td>\n",
       "      <td>17</td>\n",
       "      <td>40</td>\n",
       "    </tr>\n",
       "  </tbody>\n",
       "</table>\n",
       "</div>"
      ],
      "text/plain": [
       "    Genre  Age  Annual Income (kEuros)  Spending Score (1-100)\n",
       "0    Male   19                      15                      39\n",
       "1    Male   21                      15                      81\n",
       "2  Female   20                      16                       6\n",
       "3  Female   23                      16                      77\n",
       "4  Female   31                      17                      40"
      ]
     },
     "execution_count": 60,
     "metadata": {},
     "output_type": "execute_result"
    }
   ],
   "source": [
    "customers_data = customers_data.drop('CustomerID', axis=1)\n",
    "customers_data.head()"
   ]
  },
  {
   "cell_type": "markdown",
   "metadata": {},
   "source": [
    "#### Rq:\n",
    "\n",
    "Note that the way library functions are called: the syntax follows the \"object\" example we just saw above:\n",
    "\n",
    "<code> object.function() </code>"
   ]
  },
  {
   "cell_type": "markdown",
   "metadata": {},
   "source": [
    "***\n",
    "\n",
    "### Plotting images and diagrams: Matplotlib, seaborn"
   ]
  },
  {
   "cell_type": "code",
   "execution_count": 61,
   "metadata": {},
   "outputs": [
    {
     "data": {
      "image/png": "[encoded data removed]",
      "text/plain": [
       "<Figure size 1440x1080 with 4 Axes>"
      ]
     },
     "metadata": {
      "needs_background": "light"
     },
     "output_type": "display_data"
    }
   ],
   "source": [
    "%matplotlib inline\n",
    "import matplotlib.pyplot as plt\n",
    "\n",
    "customers_data.hist(bins=25, figsize=(20, 15))\n",
    "plt.show()"
   ]
  },
  {
   "cell_type": "code",
   "execution_count": 62,
   "metadata": {},
   "outputs": [
    {
     "data": {
      "image/png": "[encoded data removed]",
      "text/plain": [
       "<Figure size 432x432 with 3 Axes>"
      ]
     },
     "metadata": {},
     "output_type": "display_data"
    }
   ],
   "source": [
    "import seaborn as sns\n",
    "import numpy as np\n",
    "\n",
    "mean, cov = [0, 1], [(1, .5), (.5, 1)]\n",
    "x, y = np.random.multivariate_normal(mean, cov, 1000).T\n",
    "\n",
    "with sns.axes_style(\"white\"):\n",
    "    sns.jointplot(x=x, y=y, kind=\"hex\", color=\"k\");"
   ]
  },
  {
   "cell_type": "markdown",
   "metadata": {},
   "source": [
    "***\n",
    "\n",
    "### Calculating and data science: Numpy, Scipy"
   ]
  },
  {
   "cell_type": "code",
   "execution_count": 30,
   "metadata": {},
   "outputs": [
    {
     "name": "stdout",
     "output_type": "stream",
     "text": [
      "creating arrays of numbers\n",
      "[[0. 0. 0. 0.]\n",
      " [0. 0. 0. 0.]\n",
      " [0. 0. 0. 0.]]\n",
      "\n",
      " another example\n",
      "[[1. 1. 1. 1. 1.]\n",
      " [1. 1. 1. 1. 1.]\n",
      " [1. 1. 1. 1. 1.]\n",
      " [1. 1. 1. 1. 1.]\n",
      " [1. 1. 1. 1. 1.]]\n",
      "\n",
      " operations on arrays\n",
      "a: [20 30 40 50]\n",
      "b: [0 1 2 3]\n",
      "c=a-b: [20 29 38 47]\n"
     ]
    }
   ],
   "source": [
    "import numpy as np\n",
    "\n",
    "print (\"creating arrays of numbers\")\n",
    "print (np.zeros( (3,4) ))\n",
    "\n",
    "print (\"\\n another example\")\n",
    "print(np.ones ((5,5)))\n",
    "\n",
    "print(\"\\n operations on arrays\")\n",
    "a = np.array( [20,30,40,50] )\n",
    "print (\"a:\",a)\n",
    "\n",
    "b = np.arange( 4 )\n",
    "print (\"b:\",b)\n",
    "\n",
    "c = a-b\n",
    "print(\"c=a-b:\",c)\n",
    "\n",
    "# and much more!"
   ]
  },
  {
   "cell_type": "markdown",
   "metadata": {},
   "source": [
    "***\n",
    "\n",
    "### Machine learning: Scikit-learn\n",
    "\n",
    "Scikit-learn provides a range of supervised and unsupervised learning algorithms via a consistent interface in Python.\n",
    "\n",
    "It is licensed under a permissive simplified BSD license and is distributed under many Linux distributions, encouraging academic and commercial use.\n",
    "\n",
    "The library is focused on modeling data. \n",
    "It is not focused on loading, manipulating and summarizing data (For these features, refer to NumPy and Pandas).\n"
   ]
  },
  {
   "cell_type": "code",
   "execution_count": 31,
   "metadata": {},
   "outputs": [
    {
     "data": {
      "image/png": "[encoded data removed]",
      "text/plain": [
       "<Figure size 432x288 with 1 Axes>"
      ]
     },
     "metadata": {
      "needs_background": "light"
     },
     "output_type": "display_data"
    }
   ],
   "source": [
    "from sklearn.datasets import make_blobs\n",
    "\n",
    "X,Y = make_blobs(n_samples=300, centers=1)\n",
    "\n",
    "plt.scatter(X[:, 0], X[:, 1], s=50);"
   ]
  },
  {
   "cell_type": "markdown",
   "metadata": {},
   "source": [
    "***\n",
    "\n",
    "### Neural networks: Keras (Tensorflow, Theano, PyTorch, etc.)"
   ]
  },
  {
   "cell_type": "code",
   "execution_count": 32,
   "metadata": {},
   "outputs": [
    {
     "name": "stderr",
     "output_type": "stream",
     "text": [
      "Using TensorFlow backend.\n"
     ]
    },
    {
     "name": "stdout",
     "output_type": "stream",
     "text": [
      "Model: \"sequential_1\"\n",
      "_________________________________________________________________\n",
      "Layer (type)                 Output Shape              Param #   \n",
      "=================================================================\n",
      "dense_1 (Dense)              (None, 12)                108       \n",
      "_________________________________________________________________\n",
      "dense_2 (Dense)              (None, 20)                260       \n",
      "_________________________________________________________________\n",
      "dense_3 (Dense)              (None, 20)                420       \n",
      "_________________________________________________________________\n",
      "dense_4 (Dense)              (None, 20)                420       \n",
      "_________________________________________________________________\n",
      "dense_5 (Dense)              (None, 1)                 21        \n",
      "=================================================================\n",
      "Total params: 1,229\n",
      "Trainable params: 1,229\n",
      "Non-trainable params: 0\n",
      "_________________________________________________________________\n"
     ]
    }
   ],
   "source": [
    "from keras.models import Sequential\n",
    "from keras.layers import Dense\n",
    "\n",
    "# define the keras model\n",
    "model = Sequential()\n",
    "model.add(Dense(12, input_dim=8, activation='relu'))\n",
    "model.add(Dense(20, activation='relu'))\n",
    "model.add(Dense(20, activation='relu'))\n",
    "model.add(Dense(20, activation='relu'))\n",
    "model.add(Dense(1, activation='sigmoid'))\n",
    "\n",
    "model.summary()"
   ]
  }
 ],
 "metadata": {
  "kernelspec": {
   "display_name": "Python 3",
   "language": "python",
   "name": "python3"
  },
  "language_info": {
   "codemirror_mode": {
    "name": "ipython",
    "version": 3
   },
   "file_extension": ".py",
   "mimetype": "text/x-python",
   "name": "python",
   "nbconvert_exporter": "python",
   "pygments_lexer": "ipython3",
   "version": "3.6.7"
  }
 },
 "nbformat": 4,
 "nbformat_minor": 4
}
