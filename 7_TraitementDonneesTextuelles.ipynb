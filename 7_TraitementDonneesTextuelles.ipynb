{
 "cells": [
  {
   "cell_type": "markdown",
   "metadata": {},
   "source": [
    "# Traitement de données textuelles\n",
    "\n",
    "<!--\n",
    "<div class=\"alert alert-success\">\n",
    "\n",
    "Regarder les vidéos suivantes sur YouTube et tester le code Python dans la cellule ci-dessous, prévue à cet effet :\n",
    "\n",
    "- <a href=\"https://www.youtube.com/watch?v=2q8DM-_AxaI\">2.2 Les chaînes de caractères 1/2</a> - durée : 5 min 35\n",
    "- <a href=\"https://www.youtube.com/watch?v=LjjCFDCbHhQ\">2.2 Les chaînes de caractères 2/2</a> - durée : 5 min 40\n",
    "\n",
    "</div>-->"
   ]
  },
  {
   "cell_type": "markdown",
   "metadata": {},
   "source": [
    "## Sommaire\n",
    "\n",
    "  - [Opérations, méthodes et fonctions pour les chaînes de caractères](#Opérations,-méthodes-et-fonctions-pour-les-chaînes-de-caractères)\n",
    "    - [Opérations longueur, concaténation, répétition et test d'appartenance](#Opérations-longueur,-concaténation,-répétition-et-test-d'appartenance)\n",
    "    - [Changement de casse](#Changement-de-casse)\n",
    "    - [Découpage et assemblage](#Découpage-et-assemblage)\n",
    "    - [Suppression des espaces aux extrémités](#Suppression-des-espaces-aux-extrémités)\n",
    "    - [Tests sur les chaînes](#Tests-sur-les-chaînes)\n",
    "    - [Remplacements](#Remplacements)\n",
    "    - [Recherche et extraction de sous-chaînes](#Recherche-et-extraction-de-sous-chaînes)\n",
    "  - [Formatage des chaînes de caractères](#Formatage-des-chaînes-de-caractères)\n",
    "    - [Les f-strings](#Les-f-strings)\n",
    "    - [✏️ Exercice : f-strings](#✏️-Exercice-:-f-strings)\n",
    "    - [L'opérateur %](#L'opérateur-%)\n",
    "    - [La méthode format](#La-méthode-format)\n",
    "  - [Travail avec différents jeux de caractères](#Travail-avec-différents-jeux-de-caractères)\n",
    "    - [Jeux de caractères](#Jeux-de-caractères)\n",
    "    - [Gestion des encodages dans les programmes Python](#Gestion-des-encodages-dans-les-programmes-Python)\n",
    "  - [✏️ Exercice : lecture d'un fichier csv](#✏️-Exercice-:-lecture-d'un-fichier-csv)\n",
    "  - [✏️ Exercice : recherche de mots par leur longueur](#✏️-Exercice-:-recherche-de-mots-par-leur-longueur)\n",
    "  - [✏️ Exercice : tautogrammes](#✏️-Exercice-:-tautogrammes)\n",
    "  - [✏️ Exercice : conversion entre encodages](#✏️-Exercice-:-conversion-entre-encodages)\n",
    "  - [✏️ Exercice : chaînes à A](#✏️-Exercice-:-chaînes-à-A)"
   ]
  },
  {
   "cell_type": "markdown",
   "metadata": {},
   "source": [
    "## Opérations, méthodes et fonctions pour les chaînes de caractères\n",
    "\n",
    "Les chaînes de caractères sont de type `str`, qui représente une séquence de caractères Unicode. Les chaînes de caractères sont non-modifiables, c'est-à-dire qu'elles ne peuvent pas être modifiées après création et les manipulations créent de nouvelles chaînes de caractères.\n",
    "\n",
    "Un certain nombre d'opérations, de méthodes et fonctions sont disponibles pour les chaînes de caractères.\n",
    "\n",
    "\n",
    "### Opérations longueur, concaténation, répétition et test d'appartenance"
   ]
  },
  {
   "cell_type": "code",
   "execution_count": null,
   "metadata": {},
   "outputs": [],
   "source": [
    "len(\"12345\") # Longueur de la chaîne : nombre de caractères dans la chaîne"
   ]
  },
  {
   "cell_type": "code",
   "execution_count": null,
   "metadata": {},
   "outputs": [],
   "source": [
    "len(\"12345\\n\")"
   ]
  },
  {
   "cell_type": "code",
   "execution_count": null,
   "metadata": {},
   "outputs": [],
   "source": [
    "len(r\"12345\\n\")"
   ]
  },
  {
   "cell_type": "code",
   "execution_count": null,
   "metadata": {},
   "outputs": [],
   "source": [
    "\"ce\" + \"rise\" # Concaténation"
   ]
  },
  {
   "cell_type": "code",
   "execution_count": null,
   "metadata": {},
   "outputs": [],
   "source": [
    "\"a\" * 5 # Répétition / réplication"
   ]
  },
  {
   "cell_type": "code",
   "execution_count": null,
   "metadata": {},
   "outputs": [],
   "source": [
    "tbbt = (\"knock \" * 3 + \"\\nPenny!\\n\") * 3\n",
    "print(tbbt)"
   ]
  },
  {
   "cell_type": "code",
   "execution_count": null,
   "metadata": {},
   "outputs": [],
   "source": [
    "'i' in 'cerise'  # Test d'appartenance"
   ]
  },
  {
   "cell_type": "markdown",
   "metadata": {},
   "source": [
    "### Changement de casse"
   ]
  },
  {
   "cell_type": "code",
   "execution_count": null,
   "metadata": {},
   "outputs": [],
   "source": [
    "\"cerise\".upper() # mise en majuscules"
   ]
  },
  {
   "cell_type": "code",
   "execution_count": null,
   "metadata": {},
   "outputs": [],
   "source": [
    "\"CERISE\".lower() # mise en minuscules"
   ]
  },
  {
   "cell_type": "code",
   "execution_count": null,
   "metadata": {},
   "outputs": [],
   "source": [
    "\"ceRISE\".swapcase() # inversion de la casse"
   ]
  },
  {
   "cell_type": "code",
   "execution_count": null,
   "metadata": {},
   "outputs": [],
   "source": [
    "\"cerise\".capitalize() # première lettre en majuscule"
   ]
  },
  {
   "cell_type": "code",
   "execution_count": null,
   "metadata": {},
   "outputs": [],
   "source": [
    "\"les bonnes cerises\".title() # première lettre de chaque mot en majuscule"
   ]
  },
  {
   "cell_type": "code",
   "execution_count": null,
   "metadata": {},
   "outputs": [],
   "source": [
    "\"les bonnes cerises\".capitalize()"
   ]
  },
  {
   "cell_type": "markdown",
   "metadata": {},
   "source": [
    "### Découpage et assemblage"
   ]
  },
  {
   "cell_type": "code",
   "execution_count": null,
   "metadata": {},
   "outputs": [],
   "source": [
    "\"16/11/2018\".split('/') # Sépare la chaîne en plusieurs éléments, suivant le séparateur donné (ici '/'). \n",
    "                        # Le résultat est une liste"
   ]
  },
  {
   "cell_type": "code",
   "execution_count": null,
   "metadata": {},
   "outputs": [],
   "source": [
    "\";\".join(['un', 'deux', 'trois', 'quatre', 'cinq']) # Assemble les élément de la liste\n",
    "                                                    # séparés par le séparateur donné"
   ]
  },
  {
   "cell_type": "code",
   "execution_count": null,
   "metadata": {},
   "outputs": [],
   "source": [
    "print(\"\\n\".join(['a', 'b', 'c', 'd']))"
   ]
  },
  {
   "cell_type": "markdown",
   "metadata": {},
   "source": [
    "### Suppression des espaces aux extrémités"
   ]
  },
  {
   "cell_type": "code",
   "execution_count": null,
   "metadata": {},
   "outputs": [],
   "source": [
    "\" \\tune chaine à nettoyer \\n\".strip() # Suppression des caractères blancs\n",
    "                                      # (espace, tabulation, retour à la ligne) aux extrémités"
   ]
  },
  {
   "cell_type": "code",
   "execution_count": null,
   "metadata": {},
   "outputs": [],
   "source": [
    "\" \\tune chaine à nettoyer \\n\".rstrip() # Nettoyage à droite"
   ]
  },
  {
   "cell_type": "code",
   "execution_count": null,
   "metadata": {},
   "outputs": [],
   "source": [
    "\" \\tune chaine à nettoyer \\n\".lstrip() # Nettoyage à gauche"
   ]
  },
  {
   "cell_type": "markdown",
   "metadata": {},
   "source": [
    "### Tests sur les chaînes"
   ]
  },
  {
   "cell_type": "code",
   "execution_count": null,
   "metadata": {},
   "outputs": [],
   "source": [
    "'cerise'.isupper() # Vérifie si la chaîne est entièrement en majuscules"
   ]
  },
  {
   "cell_type": "code",
   "execution_count": null,
   "metadata": {},
   "outputs": [],
   "source": [
    "'cerise'.islower() # Vérifie si la chaîne est entièrement en minuscules"
   ]
  },
  {
   "cell_type": "code",
   "execution_count": null,
   "metadata": {},
   "outputs": [],
   "source": [
    "'Les Bonnes Cerises'.istitle() # Vérifie si chaque mot commence par une majuscule"
   ]
  },
  {
   "cell_type": "code",
   "execution_count": null,
   "metadata": {},
   "outputs": [],
   "source": [
    "'cerise'.isalpha() # Vérifie si la chaîne ne contient que des caractères alphabétiques"
   ]
  },
  {
   "cell_type": "code",
   "execution_count": null,
   "metadata": {},
   "outputs": [],
   "source": [
    "'123'.isalpha()"
   ]
  },
  {
   "cell_type": "code",
   "execution_count": null,
   "metadata": {},
   "outputs": [],
   "source": [
    "'Un'.isdigit() # Vérifie si la chaîne ne contient que des caractères numériques"
   ]
  },
  {
   "cell_type": "code",
   "execution_count": null,
   "metadata": {},
   "outputs": [],
   "source": [
    "'123'.isdigit()"
   ]
  },
  {
   "cell_type": "markdown",
   "metadata": {},
   "source": [
    "### Remplacements"
   ]
  },
  {
   "cell_type": "code",
   "execution_count": null,
   "metadata": {},
   "outputs": [],
   "source": [
    "\"les bonnes pommes\".replace(\"pomme\", \"cerise\")"
   ]
  },
  {
   "cell_type": "code",
   "execution_count": null,
   "metadata": {},
   "outputs": [],
   "source": [
    "\"abracadabra\".replace(\"a\", \"i\", 3) # Le nombre de remplacements est limité à 3"
   ]
  },
  {
   "cell_type": "code",
   "execution_count": null,
   "metadata": {},
   "outputs": [],
   "source": [
    "\"abracadabra\".replace(\"a\", \"i\").replace(\"b\", \"p\") # remplacements en chaîne"
   ]
  },
  {
   "cell_type": "markdown",
   "metadata": {},
   "source": [
    "### Recherche et extraction de sous-chaînes"
   ]
  },
  {
   "cell_type": "code",
   "execution_count": null,
   "metadata": {},
   "outputs": [],
   "source": [
    "\"cerise\".startswith(\"ce\") # commence par"
   ]
  },
  {
   "cell_type": "code",
   "execution_count": null,
   "metadata": {},
   "outputs": [],
   "source": [
    "\"cerise\".endswith(\"SE\")"
   ]
  },
  {
   "cell_type": "code",
   "execution_count": null,
   "metadata": {},
   "outputs": [],
   "source": [
    "\"cerise\".find(\"ri\") # Index (position) de la première occurrence de la sous-chaîne en paramètre"
   ]
  },
  {
   "cell_type": "code",
   "execution_count": null,
   "metadata": {},
   "outputs": [],
   "source": [
    "\"cerise\".find(\"ri\", 3) # Indication d'un index de départ pour la recherche\n",
    "                       # find() retourne -1 quand la sous-chaîne n'est pas trouvée"
   ]
  },
  {
   "cell_type": "code",
   "execution_count": null,
   "metadata": {},
   "outputs": [],
   "source": [
    "\"cerise\".find(\"ri\", 0, 3) # Indication d'un index de départ et d'arrivée"
   ]
  },
  {
   "cell_type": "code",
   "execution_count": null,
   "metadata": {},
   "outputs": [],
   "source": [
    "\"cerise\".rfind(\"e\") # Recherche à partir de la fin"
   ]
  },
  {
   "cell_type": "code",
   "execution_count": null,
   "metadata": {},
   "outputs": [],
   "source": [
    "\"cerise\".index(\"y\") # index est similaire à find, mais produit une erreur (exception) \n",
    "                    # si la sous-chaîne n'est pas trouvée"
   ]
  },
  {
   "cell_type": "code",
   "execution_count": null,
   "metadata": {},
   "outputs": [],
   "source": [
    "'y' in 'cerise' # Test d'appartenance"
   ]
  },
  {
   "cell_type": "code",
   "execution_count": null,
   "metadata": {},
   "outputs": [],
   "source": [
    "'er' in 'cerise'"
   ]
  },
  {
   "cell_type": "code",
   "execution_count": null,
   "metadata": {},
   "outputs": [],
   "source": [
    "'cerise'.count('e') # Décompte du nombre d'occurrences"
   ]
  },
  {
   "cell_type": "markdown",
   "metadata": {},
   "source": [
    "## Formatage des chaînes de caractères\n",
    "\n",
    "### Les f-strings\n",
    "Le mécanisme des `f-strings` est le plus récent (n'existe que depus la version 3.6 de Python) et également le plus simple à manipuler. Les champs sont délimités par des accolades :"
   ]
  },
  {
   "cell_type": "code",
   "execution_count": null,
   "metadata": {},
   "outputs": [],
   "source": [
    "prenom = \"Marie\"\n",
    "nom = \"Muller\"\n",
    "age = 30\n",
    "f\"{prenom} {nom} a {age} ans.\" # Il suffit d'ajouter f devant la chaîne"
   ]
  },
  {
   "cell_type": "code",
   "execution_count": null,
   "metadata": {},
   "outputs": [],
   "source": [
    "f\"Dans 5 ans, {prenom.upper()} aura {age+5} ans.\""
   ]
  },
  {
   "cell_type": "code",
   "execution_count": null,
   "metadata": {},
   "outputs": [],
   "source": [
    "nb = 21\n",
    "somme = 257\n",
    "f\"Moyenne sur {nb} élèves : {somme/nb:.2f}\""
   ]
  },
  {
   "cell_type": "code",
   "execution_count": null,
   "metadata": {},
   "outputs": [],
   "source": [
    "section = \"Chapitre 1\"\n",
    "page = 3\n",
    "f\"{section:<}{page:.>30}\" # Alignement à gauche : <, alignement à droite >, \n",
    "                          # largeur de 30, remplissage avec ."
   ]
  },
  {
   "cell_type": "code",
   "execution_count": null,
   "metadata": {},
   "outputs": [],
   "source": [
    "texte = \"Titre\"\n",
    "f\"{texte:*^50}\" # Alignement centré, largeur de 50, remplissage avec * à gauche et à droite"
   ]
  },
  {
   "cell_type": "markdown",
   "metadata": {},
   "source": [
    "### ✏️ Exercice : f-strings\n",
    "\n",
    "A partir d'une variable `s` contenant \"Mes meilleures recettes pour Noël\", donner la f-string permettant de construire la chaîne ci-dessous, sur une largeur de 60 caractères :\n",
    "\n",
    "```\n",
    "++++++++++++ Mes Meilleures Recettes Pour Noël +++++++++++++\n",
    "```"
   ]
  },
  {
   "cell_type": "code",
   "execution_count": null,
   "metadata": {},
   "outputs": [],
   "source": [
    "# Construction de la chaîne"
   ]
  },
  {
   "cell_type": "markdown",
   "metadata": {},
   "source": [
    "### L'opérateur %\n",
    "L'opérateur `%` peut être utilisé pour insérer des valeurs dans une chaîne de caractères, à des endroits marqués à l'aide de `%s` :"
   ]
  },
  {
   "cell_type": "code",
   "execution_count": null,
   "metadata": {},
   "outputs": [],
   "source": [
    "jour = 10\n",
    "mois = 11\n",
    "annee = 2018\n",
    "print(\"Nous sommes le %s/%s/%s\" % (jour, mois, annee))\n",
    "print(\"Demain nous serons le %s/%s/%s\" % (jour+1, mois, annee))"
   ]
  },
  {
   "cell_type": "markdown",
   "metadata": {},
   "source": [
    "### La méthode format\n",
    "\n",
    "La méthode `format` est elle aussi utilisée pour contrôler la création de chaînes formatées.\n",
    "Historiquement, la méthode `format` a été introduite après l'opérateur `%`.\n",
    "\n",
    "Etudier le programme ci-dessous pour comprendre son fonctionnement. En particulier, étudier les lignes 12, 21 et 22 qui sont des exemples d'utilisation de `format` :"
   ]
  },
  {
   "cell_type": "code",
   "execution_count": null,
   "metadata": {},
   "outputs": [],
   "source": [
    "resultats = [[\"Edmond Petit\", 5, 12, 7],\n",
    "             [\"Marie Durand\", 12, 9, 14],\n",
    "             [\"Jacques François\", 15, 10, 8],\n",
    "             [\"Catherine Dupont\", 16, 17, 18],\n",
    "             [\"Pierre Legrand\", 13, 14, 13]]\n",
    "coefficients = [2, 2, 1]\n",
    "somme_coef = sum(coefficients)\n",
    "en_tetes = [\"Prénom Nom\", \"Français\", \"Mathématiques\", \"Informatique\", \n",
    "            \"Total\", \"Moyenne\"]\n",
    "ligne1 = ''\n",
    "for n in en_tetes:\n",
    "    ligne1 += '{:^18}'.format(n)\n",
    "print(ligne1)\n",
    "for i in range(len(resultats)) :\n",
    "    somme = 0\n",
    "    for j in range(1,4):\n",
    "        somme += resultats[i][j] * coefficients[j-1]\n",
    "    moyenne = somme / somme_coef\n",
    "    ligne_resultat = ''\n",
    "    for r in resultats[i]:\n",
    "        ligne_resultat += '{:18}'.format(r)\n",
    "    print(\"%s%s%s\" % (ligne_resultat, '{:18}'.format(somme), '{:18.2f}'.format(moyenne)))"
   ]
  },
  {
   "cell_type": "markdown",
   "metadata": {},
   "source": [
    "La paire d'accolades désigne un champ qui sera remplacé avec la valeur d'un des paramètres de format. Par exemple, dans `'{:18}'.format(somme)`, le champ sera remplacé par la somme.\n",
    "\n",
    "`format` permet également de contrôler la largeur de l'affichage, l'alignement, l'affichage des valeurs numériques, etc. :"
   ]
  },
  {
   "cell_type": "code",
   "execution_count": null,
   "metadata": {},
   "outputs": [],
   "source": [
    "\"Bonjour {}\".format(\"Myrtille\")"
   ]
  },
  {
   "cell_type": "code",
   "execution_count": null,
   "metadata": {},
   "outputs": [],
   "source": [
    "\"{} {} {}\".format(\"a\", \"b\", \"c\")"
   ]
  },
  {
   "cell_type": "code",
   "execution_count": null,
   "metadata": {},
   "outputs": [],
   "source": [
    "\"Moyenne sur {} élèves : {:.2f}\".format(21, 257/21) # Seulement 2 chiffres après la virgule pour la moyenne"
   ]
  },
  {
   "cell_type": "code",
   "execution_count": null,
   "metadata": {},
   "outputs": [],
   "source": [
    "\"{:.2%}\".format(1/4) # 2 chiffres après la virgule, affichage sous forme de pourcentage"
   ]
  },
  {
   "cell_type": "code",
   "execution_count": null,
   "metadata": {},
   "outputs": [],
   "source": [
    "\"{:+d} {:+d}\".format(100, -54) # Nombre entier base 10, affichage du signe +"
   ]
  },
  {
   "cell_type": "code",
   "execution_count": null,
   "metadata": {},
   "outputs": [],
   "source": [
    "\"décimal : {0:d}, binaire : {0:b}\".format(7) # Formatage dans différentes bases"
   ]
  },
  {
   "cell_type": "code",
   "execution_count": null,
   "metadata": {},
   "outputs": [],
   "source": [
    "\"|{:15}|\".format(\"Bonjour !\") # Largeur minimale de 15 (ajout d'espaces pour obtenir la longueur demandée)"
   ]
  },
  {
   "cell_type": "code",
   "execution_count": null,
   "metadata": {},
   "outputs": [],
   "source": [
    "\"|{:3}|\".format(\"Bonjour !\")"
   ]
  },
  {
   "cell_type": "code",
   "execution_count": null,
   "metadata": {},
   "outputs": [],
   "source": [
    "\"|{:^15}|\".format(\"Bonjour !\") # Alignement centré"
   ]
  },
  {
   "cell_type": "code",
   "execution_count": null,
   "metadata": {},
   "outputs": [],
   "source": [
    "\"|{:-^15}|\".format(\"Bonjour !\") # Alignement centré et remplissage par le caractère -"
   ]
  },
  {
   "cell_type": "code",
   "execution_count": null,
   "metadata": {},
   "outputs": [],
   "source": [
    "\"|{:->15}|\".format(\"Bonjour !\") # Alignement à droite et remplissage par le caractère -"
   ]
  },
  {
   "cell_type": "code",
   "execution_count": null,
   "metadata": {},
   "outputs": [],
   "source": [
    "\"{:<}{:.>30}\".format(\"Chapitre 1\", 3) # Alignement à gauche : <, alignement à droite >, \n",
    "                                      # largeur de 30, remplissage avec ."
   ]
  },
  {
   "cell_type": "code",
   "execution_count": null,
   "metadata": {},
   "outputs": [],
   "source": [
    "\"{:*^50}\".format(\"Titre\") # Alignement centré : ^, largeur de 50, remplissage avec *"
   ]
  },
  {
   "cell_type": "markdown",
   "metadata": {},
   "source": [
    "## Travail avec différents jeux de caractères\n",
    "\n",
    "### Jeux de caractères\n",
    "\n",
    "Un jeu de caractères associe chaque caractère qu'il contient à un code numérique. Il existe de nombreux jeux de caractères. Voici quelques exemples de jeux de caractères et de codes numériques associés :\n",
    "\n",
    "| | **a** | **à** | **œ** | **€** |\n",
    "|:---------- |-- |----------: |----------: |----------: |\n",
    "| **ASCII** | 97 | absent | absent | absent |\n",
    "| **Latin 1 / ISO 8859-1** | 97 | 224 | absent | absent |\n",
    "| **ISO 8859-15** | 97 | 224 | 339 | 164 |\n",
    "| **Code Unicode (encodage UTF-8 en décimal)** | U+0061 (97) | U+00E0 (195 160) | U+0153 (197 147) | U+20AC (226 130 172) |\n",
    "\n",
    "\n",
    "- Pour les codes de 0 à 127, les codes utilisés par UTF 8 sont ceux de la table ASCII ; c’est le cas du caractère ‘a’ par exemple\n",
    "- Pour les caractères dont les codes Unicode vont de 128 à 2047, UTF 8 utilise deux octets\n",
    "    - Par exemple, le code Unicode de ‘à’ est U+00E0 qui est représenté en UTF 8 par 195 160. Pour information, 195 en Latin 1 est Ã et 160 est une espace insécable.\n",
    "    - Le code Unicode de ‘ oe ’ est U+0153 qui est représenté en UTF 8 par 197 147. Pour information, 197 en Latin 1 est Å et 147 est un caractère de contrôle non imprimable.\n",
    "- Pour les caractères dont les codes Unicode vont de 2048 à 63535, UTF 8 utilise trois octets\n",
    "    - Le code Unicode de ‘€’ est U+20AC qui est représenté en UTF 8 par 226 130 172. Pour information, 226 en Latin 1 est â, 130 est un caractère de contrôle et 172 est ¬.\n",
    "- Le jeu de caractères à privilégier est UTF-8, car il est compatible avec le standard Unicode (standard qui vise à coder les caractères écrits de tous les systèmes d'écritures). "
   ]
  },
  {
   "cell_type": "code",
   "execution_count": null,
   "metadata": {},
   "outputs": [],
   "source": [
    "accents = 'aàœ€'\n",
    "# Transformation en chaîne binaire\n",
    "bin_accents = accents.encode()\n",
    "# Affichage des caractères (code hexadecimal base 16 pour les caractères spéciaux)\n",
    "print(bin_accents)\n",
    "for i in range(len(bin_accents)):\n",
    "    # Affichage des caractères avec leurs codes : \n",
    "    # format décimal (base 10) et format binaire (base 2)\n",
    "    print(f\"bin_accents[{i}] = {bin_accents[i]} ({bin(bin_accents[i])} - {hex(bin_accents[i])})\")"
   ]
  },
  {
   "attachments": {},
   "cell_type": "markdown",
   "metadata": {},
   "source": [
    "#### Conversion base 2 - base 10\n",
    "\n",
    "`bin_accents[0] = 97 (0b1100001- 0x61)`\n",
    "\n",
    "| 1 | 1 | 0 | 0 | 0 | 0 | 1 | Somme |\n",
    "|:--|:--|:--|:--|:--|:--|:--|------:|\n",
    "| $1.2^6$ | $1.2^5$ | $0.2^4$ | $0.2^3$ | $0.2^2$ | $0.2^1$ | $1.2^0$ | |\n",
    "| 64 | 32 | 0 | 0 | 0 | 0 | 1 | 97 |\n",
    "\n",
    "#### Conversion base 2 - base 16\n",
    "\n",
    "Groupement des chiffres binaires par 4 :\n",
    "\n",
    "| 1 1 0 | 0 0 0 1 | Résultat |\n",
    "|--:|--:|------:|\n",
    "| 6 | 1 | 61 |\n",
    "\n",
    "#### Problèmes d'encodage\n",
    "\n",
    "Le caractères `à` ne se trouve pas dans la table ASCII.\n",
    "Ce caractères est en fait codé sur deux octets, correspondant à deux nombres lors de l’affichage :\n",
    "```\n",
    "bin_accents[1] = 195 (0b11000011)\n",
    "bin_accents[2] = 160 (0b10100000)\n",
    "```\n",
    "\n",
    "Ceci explique les mauvais affichage qui peuvent être rencontrés pour ce caractère :\n",
    "\n",
    "- `195` est le code pour `Ã` en Latin-1\n",
    "- `160` est le code pour l'espace insécable en Latin-1"
   ]
  },
  {
   "attachments": {
    "encod_decode.png": {
     "image/png": "[encoded data removed]"
    }
   },
   "cell_type": "markdown",
   "metadata": {},
   "source": [
    "### Gestion des encodages dans les programmes Python\n",
    "\n",
    "Les programmes Python peuvent manipuler des chaînes de caractères Unicode. Pour cela, lors de la lecture d'une chaîne de caractères dans un fichier par exemple, il faut procéder à son **décodage** pour la convertir en Unicode.  A l'inverse, pour écrire une chaîne de caractères dans un fichier, il faut l'**encoder**.\n",
    "\n",
    "![encod_decode.png](attachment:encod_decode.png)\n",
    "\n",
    "L'encodage et le décodage peut se faire à l'aide des méthodes `encode()` et `decode()`, en spécifiant respectivement l'encodage cible et l'encodage source :"
   ]
  },
  {
   "cell_type": "code",
   "execution_count": null,
   "metadata": {},
   "outputs": [],
   "source": [
    "s = 'un été à la plage' \n",
    "# Passage de la représentation interne au jeu de caractères latin1 : b'un \\xe9t\\xe9 \\xe0 la plage' \n",
    "s_latin1 = s.encode('latin1') \n",
    "print('s_latin1 après encodage :', s_latin1)\n",
    "# Passage de latin1 à la représentation interne (chaîne de caractères Unicode)\n",
    "s_latin1.decode('latin1') "
   ]
  },
  {
   "cell_type": "markdown",
   "metadata": {},
   "source": [
    "L'instruction ci-dessous provoque une erreur de type `UnicodeDecodeError`. Pourquoi ?"
   ]
  },
  {
   "cell_type": "code",
   "execution_count": null,
   "metadata": {},
   "outputs": [],
   "source": [
    "s_latin1.decode('ascii')"
   ]
  },
  {
   "cell_type": "code",
   "execution_count": null,
   "metadata": {},
   "outputs": [],
   "source": [
    "s_utf8 = s.encode('utf8')\n",
    "print(\"s_utf8 après encode :\", s_utf8)\n",
    "s_utf8.decode('utf8')"
   ]
  },
  {
   "cell_type": "markdown",
   "metadata": {},
   "source": [
    "L'instruction ci-dessous donne un affichage erroné des caractères accentués. Pourquoi ?"
   ]
  },
  {
   "cell_type": "code",
   "execution_count": null,
   "metadata": {},
   "outputs": [],
   "source": [
    "s_utf8.decode('latin1')"
   ]
  },
  {
   "cell_type": "code",
   "execution_count": null,
   "metadata": {},
   "outputs": [],
   "source": [
    "s2 = 'une glace coûte 2 €'\n",
    "print(\"s2 :\", s2)\n",
    "s2_885915 = s2.encode('iso8859-15')\n",
    "print(\"s2_885915 :\", s2_885915)\n",
    "s2_885915.decode('iso8859-15')"
   ]
  },
  {
   "cell_type": "markdown",
   "metadata": {},
   "source": [
    "L'instruction ci-dessous montre que le caractère `€` est remplacé par `¤`. Pourquoi ?"
   ]
  },
  {
   "cell_type": "code",
   "execution_count": null,
   "metadata": {},
   "outputs": [],
   "source": [
    "s2_885915.decode('cp1252')"
   ]
  },
  {
   "cell_type": "markdown",
   "metadata": {},
   "source": [
    "Si on compare les tables de codes pour [ISO-8859-15](https://fr.wikipedia.org/wiki/ISO/CEI_8859-15) et [Cp1252](https://fr.wikipedia.org/wiki/Windows-1252), on voit que le code attribué à € en ISO-8859-15 (0xA4) correspond au caractère ¤ en Cp1252, d'où l'affichage obtenu."
   ]
  },
  {
   "cell_type": "markdown",
   "metadata": {},
   "source": [
    "Il est possible de spécifier directement le code d'un caractère :"
   ]
  },
  {
   "cell_type": "code",
   "execution_count": null,
   "metadata": {},
   "outputs": [],
   "source": [
    "a_grave = '\\u00e0'\n",
    "a_grave"
   ]
  },
  {
   "cell_type": "markdown",
   "metadata": {},
   "source": [
    "Ou d'utiliser son nom (voir la liste https://www.unicode.org/Public/UCD/latest/ucd/NamesList.txt)"
   ]
  },
  {
   "cell_type": "code",
   "execution_count": null,
   "metadata": {},
   "outputs": [],
   "source": [
    "a_grave_n = '\\N{LATIN SMALL LETTER A WITH GRAVE}'\n",
    "a_grave_n"
   ]
  },
  {
   "cell_type": "markdown",
   "metadata": {},
   "source": [
    "Pour lire un fichier dont on connaît l'encodage et le décoder correctement, on spécifie l'encodage à l'ouverture, que ce soit en mode lecture ou écriture :"
   ]
  },
  {
   "cell_type": "code",
   "execution_count": null,
   "metadata": {},
   "outputs": [],
   "source": [
    "with open('input/conteGrimm.txt', 'r', encoding='utf-8') as f:\n",
    "    for line in f:\n",
    "        line = line.strip()\n",
    "        print(line.encode('unicode_escape'))"
   ]
  },
  {
   "cell_type": "markdown",
   "metadata": {},
   "source": [
    "Le pseudo encodage `unicode_escape` convertit tous les caractères non-ASCII soit en une représentation sous la forme `\\uXXXX` (code Unicode sur 4 chiffres), soit sous la forme `\\xXX` (code sur 2 chiffres)."
   ]
  },
  {
   "cell_type": "markdown",
   "metadata": {},
   "source": [
    "## ✏️ Exercice : lecture d'un fichier csv\n",
    "Soit le fichier `temperatures.csv`. Ce fichier contient un tableau avec des villes, leur température moyenne et leur ensoleillement moyen. Écrire un programme qui lit ce fichier et affiche les villes qui ont la plus grande et la plus petite température moyenne."
   ]
  },
  {
   "cell_type": "code",
   "execution_count": null,
   "metadata": {},
   "outputs": [],
   "source": [
    "# Exercice : lecture d'un fichier csv"
   ]
  },
  {
   "cell_type": "markdown",
   "metadata": {},
   "source": [
    "## ✏️ Exercice : recherche de mots par leur longueur\n",
    "Soit le fichier `conteGrimm.txt`. Écrire un programme pour effectuer les opérations suivantes :\n",
    "1. Compter le nombre de mots de longueur 5 caractères dans le fichier.\n",
    "2. Les afficher en minuscules avec le numéro de ligne dans laquelle ils apparaissent.\n",
    "\n",
    "Si vous souhaitez un découpage en mot plus précis, vous pouvez utiliser la méthode ci-dessous, qui découpe la chaîne au niveau de tous les caractères non alphanumériques et non pas uniquement les espaces :"
   ]
  },
  {
   "cell_type": "code",
   "execution_count": null,
   "metadata": {},
   "outputs": [],
   "source": [
    "import re\n",
    "mots = re.split('\\W+', 'Words, words, words.')"
   ]
  },
  {
   "cell_type": "code",
   "execution_count": null,
   "metadata": {},
   "outputs": [],
   "source": [
    "# Exercice : recherche de mots par leur longueur"
   ]
  },
  {
   "cell_type": "markdown",
   "metadata": {},
   "source": [
    "## ✏️ Exercice : tautogrammes\n",
    "Soit le fichier `phrases.txt`. Écrire un programme appelé `tautogramme.py` qui lit le contenu de `phrases.txt` et affiche les numéro et le contenu des lignes qui sont des tautogrammes (tous les mots de la ligne commencent par la même lettre, en majuscule ou en minuscule).\n",
    "Voici l'affichage à obtenir pour le fichier `phrases.txt` :\n",
    "\n",
    "```\n",
    "1 : Le lion lape le lait lentement.\n",
    "3 : Voici venir vingt vampires verts.\n",
    "7 : Mazarin, ministre malade, méditait même moribond malicieusement mille maltôtes.\n",
    "8 : Si sa soeur savait sourire, sa soirée serait sûrement satisfaisante.\n",
    "```"
   ]
  },
  {
   "cell_type": "code",
   "execution_count": null,
   "metadata": {},
   "outputs": [],
   "source": [
    "# Exercice : tautogrammes"
   ]
  },
  {
   "cell_type": "markdown",
   "metadata": {},
   "source": [
    "## ✏️ Exercice : conversion entre encodages\n",
    "\n",
    "Soient les fichiers `texte_utf8.txt` et `texte_cp1252.txt`. Écrire un programme pour effectuer les opérations suivantes :\n",
    "1. Convertir `texte_cp1252.txt` en UTF-8 et écrire le résultat dans le fichier `texte_utf8_converti.txt`. Que constatez-vous ?\n",
    "1. Essayer de convertir `texte_utf8.txt` en ASCII et d'écrire le résultat dans le fichier `texte_ascii_converti.txt`. Que constatez-vous ?"
   ]
  },
  {
   "cell_type": "code",
   "execution_count": null,
   "metadata": {},
   "outputs": [],
   "source": [
    "# Exercice : conversion entre encodages"
   ]
  },
  {
   "cell_type": "markdown",
   "metadata": {},
   "source": [
    "## ✏️ Exercice : chaînes à A\n",
    "\n",
    "Soit le fichier `lexique.txt` : ce fichier comporte un mot par ligne. Écrire un programme qui compte le nombre de mots du fichier qui contiennent au moins trois occurrences du caractère A et qui affiche les lignes correspondantes.\n",
    "\n",
    "Voici le début et la fin de l'affichage à obtenir :\n",
    "```\n",
    "6 : abandonnant\n",
    "20 : abattage\n",
    "26 : abbatial\n",
    "89 : abracadabrant\n",
    "147 : acacia\n",
    "156 : accablant\n",
    "198 : acclamation\n",
    "200 : acclimatation\n",
    "204 : accompagnant\n",
    "343 : actionnariat\n",
    "356 : actualisation\n",
    "....\n",
    "21441 : travaillaient\n",
    "21442 : travaillait\n",
    "21443 : travaillant\n",
    "22444 : yamaha\n",
    "Il y a 168 mots dans le fichier qui contiennent au moins trois A.\n",
    "```"
   ]
  },
  {
   "cell_type": "code",
   "execution_count": null,
   "metadata": {},
   "outputs": [],
   "source": [
    "# Exercice : chaînes à A"
   ]
  }
 ],
 "metadata": {
  "kernelspec": {
   "display_name": "Python 3",
   "language": "python",
   "name": "python3"
  },
  "language_info": {
   "codemirror_mode": {
    "name": "ipython",
    "version": 3
   },
   "file_extension": ".py",
   "mimetype": "text/x-python",
   "name": "python",
   "nbconvert_exporter": "python",
   "pygments_lexer": "ipython3",
   "version": "3.7.10"
  }
 },
 "nbformat": 4,
 "nbformat_minor": 2
}
