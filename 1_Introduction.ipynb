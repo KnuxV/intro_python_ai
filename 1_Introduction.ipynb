{
 "cells": [
  {
   "cell_type": "markdown",
   "metadata": {},
   "source": [
    "# Introduction\n",
    "\n",
    "## Sommaire\n",
    "1. [Objectifs](#objectifs)\n",
    "1. [Exemples d'applications](#exemples)\n",
    "1. [La programmation](#programmation)\n",
    "  1. [Qu'est-ce que la programmation ?](#keske)\n",
    "  1. [Algorithmes de tous les jours : les recettes de cuisine](#recettes)\n",
    "  1. [Exemple de tâche : conjuguer un verbe au présent de l'indicatif](#conjugaison)\n",
    "  1. [Un défi : comment \"penser\" comme un ordinateur ?](#penser)\n",
    "  1. [Pourquoi apprendre à programmer ?](#pourquoi)\n",
    "  1. [Programmation et langues naturelles](#langues)\n",
    "  1. [Pourquoi le langage Python ?](#python)\n",
    "1. [Premiers programmes](#premiers)\n",
    "1. [Enregistrement de programmes](#enregistrement)\n",
    "\n",
    "\n",
    "## 1. Objectifs <a name=\"objectifs\"></a>\n",
    "L'informatique est entrain de révolutionner la manière d'appréhender le champ des humanités. Afin de traiter des contenus numériques toujours plus diversifiés et toujours plus nombreux (Big Data), les outils informatiques sont désormais nécessaires. L'objectif de ce module est de préparer les étudiantes et étudiants aux enjeux du numérique, par une initiation à la programmation avec le langage Python. Les compétences acquises permettront de développer des applications simples de traitement automatique des langues et des scripts de manipulation et d'analyse de données textuelles.\n",
    "\n",
    "### 1.1. Compétences à acquérir :\n",
    "  * Maîtriser les techniques de programmation et être capable d'écrire des programmes de manière indépendante\n",
    "  * Connaître les concepts de base de l'algorithmique et des structures de données\n",
    "  \n",
    "### 1.2. Contenus :\n",
    "Découverte du langage Python. Généralités autour de la notion d’algorithmique et des questions liées à l’informatisation des documents textuels. Écriture de programmes en utilisant les variables, les opérations d’affectation, les boucles, les instructions conditionnelles, les structures de données simples et complexes (listes et dictionnaires) ainsi que les expressions régulières. Mise en application de ces notions par des exercices impliquant de combiner ces divers éléments.\n"
   ]
  },
  {
   "cell_type": "markdown",
   "metadata": {},
   "source": [
    "## 2. Exemples d'applications <a name=\"exemples\"></a>\n",
    "Vous utilisez certainement des programmes de traitement automatique des langues, quotidiennement ou presque :\n",
    "1. Traduction automatique : [Google Translate](https://translate.google.fr/), [DeepL](https://www.deepl.com/translator), [Systran](https://demo-pnmt.systran.net/production#/translation)\n",
    "1. Correction orthographique dans les logiciels de traitement de texte, les navigateurs web\n",
    "1. Reconnaissance de la parole et systèmes de question-réponse dans les assistants vocaux : Assistant Google, Siri\n",
    "2. Assistants IA : Mistral - Le Chat, Gemini, Claude, ChatGPT, etc."
   ]
  },
  {
   "cell_type": "markdown",
   "metadata": {},
   "source": [
    "## 3. La programmation <a name=\"programmation\"></a>\n",
    "### 3.1. Qu'est-ce que la programmation ? <a name=\"keske\"></a>\n",
    "L'objectif d'un **programme** est de résoudre un problème donné de manière systématique (par exemple, trier une liste de mots, ou identifier le maximum dans un ensemble de chiffres). Pour cela, il faut trouver la suite d'**instructions** (ou ordres) à donner à la machine pour trouver la solution : c'est ce qu'on appelle l'**algorithme**.\n",
    "\n",
    "La phase de **programmation** consiste à traduire l'algorithme dans un **langage de programmation** pour obtenir un **programme**.\n",
    "\n",
    "Un **logiciel** est un ensemble de programmes.\n",
    "\n",
    "Pour les langages dits \"interprétés\", l'exécution d'un programme nécessite un **interpréteur**, qui va lire les instructions du programme et les exécuter.\n",
    "\n",
    "### 3.2. Algorithmes de tous les jours : les recettes de cuisine <a name=\"recettes\"></a>\n",
    "On peut faire l'analogie entre un algorithme et une recette de cuisine : on liste tout d'abord tout ce dont on a besoin (les ingrédients) et on donne ensuite la suite des instructions que devra suivre la personne qui réalise la recette. \n",
    "Prenons l'exemple d'une recette locale, le gâteau de santé ('Gsundheitsküeche'). Il suffit de prendre 250g de farine, 10 cl d'huile, 120 g de sucre, 200 g de yaourt nature, 5 cl de lait, 1 sachet de levure chimique et 1 gousse de vanille. On mélange tous les ingrédients, en commençant par l'huile, le sucre le yaourt, le lait et la vanille et on termine en ajoutant la farine et la levure. Faire cuire 45 minutes au four. C'est simple...\n",
    "\n",
    "Si nous devions faire réaliser cette recette par un robot ou un ordinateur commandant une machine, il réaliserait la recette exactement comme nous l'avons décrite, c'est-à-dire :\n",
    "  * La gousse de vanille ira en entier dans le mélange, car il n'est pas spécifié de la fendre en 2 et gratter l'intérieur, pour ne garder que les grains.\n",
    "  * Idem pour le sachet de levure chimique, ce n'est pas précisé qu'il faut l'ouvrir et verser le contenu, puis jeter le sachet\n",
    "  * Enfin, ce n'est pas précisé qu'il faut allumer le four et verser la pâte dans un moule.\n",
    "\n",
    "Tout ça paraît très logique, mais un robot ou un ordinateur ne comprend pas les instructions ambigues ou incomplètes, car il n'a pas de connaissances extérieures.\n",
    "\n",
    "### 3.3. Exemple de tâche : conjuguer un verbe au présent de l'indicatif <a name=\"conjugaison\"></a>\n",
    "Algorithme proposé :\n",
    "1. Demander le verbe à l'utilisateur\n",
    "1. Retirer les deux derniers caractères pour obtenir le radical\n",
    "1. Afficher Je + ' ' + radical + e\n",
    "1. Afficher Tu + ' ' + radical + es\n",
    "etc.\n",
    "\n",
    "Résultat :\n",
    "  * chanter → Je chante, Tu chantes, ...\n",
    "  * chanson → Je chanse, Tu chanses, ...\n",
    "\n",
    "L'algorithme proposé n'est donc pas très robuste et il est nécessaire d'introduire des vérifications supplémentaires.\n",
    "\n",
    "Algorithme version 2 :\n",
    "1. Demander le verbe à l'utilisateur\n",
    "1. Vérifier que le verbe se termine bien par \"er\". Si ce n'est pas le cas, afficher un message d'erreur.\n",
    "1. Retirer les deux derniers caractères pour obtenir le radical\n",
    "1. Afficher Je + ' ' + radical + e\n",
    "1. Afficher Tu + ' ' + radical + es\n",
    "etc.\n",
    "\n",
    "Résultat :\n",
    "  * chanter → Je chante, Tu chantes, ...\n",
    "  * chanson → ERREUR !\n",
    "  * affecter → Je affecte, Tu affectes, ...\n",
    "\n",
    "Il faut donc encore améliorer l'algorithme pour prendre en compte le cas particulier des verbes qui commencent par une voyelle.\n",
    "\n",
    "Algorithme version 3 :\n",
    "1. Demander le verbe à l'utilisateur\n",
    "1. Vérifier que le verbe se termine bien par \"er\". Si ce n'est pas le cas, afficher un message d'erreur.\n",
    "1. Retirer les deux derniers caractères pour obtenir le radical\n",
    "1. Si le verbe commence par une consonne, afficher Je + ' ', sinon afficher J', puis afficher radical + e\n",
    "1. Afficher Tu + ' ' + radical + es\n",
    "etc.\n",
    "\n",
    "Résultat :\n",
    "  * chanter → Je chante, Tu chantes, ...\n",
    "  * chanson → ERREUR !\n",
    "  * affecter → J'affecte, Tu affectes, ...\n",
    "\n",
    "### 3.4. Un défi : comment \"penser\" comme un ordinateur ? <a name=\"penser\"></a>\n",
    "  * Il faut s'entraîner à réfléchir aux problèmes d'une manière particulière ;\n",
    "  * Les ordinateurs ne sont pas intelligents, mais ils sont capables d'effectuer des tâches précises ;\n",
    "  * Il est nécessaire de leur donner des instructions précises, complètes et détaillées ;\n",
    "  * Ces instructions ne peuvent pas être communiquées en langue naturelle, mais doivent être traduites dans un langage de programmation ;\n",
    "  * Il faut penser à l'avance aux exceptions possibles.\n",
    "\n",
    "### 3.5. Pourquoi apprendre à programmer ? <a name=\"pourquoi\"></a>\n",
    "#### Il y a beaucoup de bonnes raisons...\n",
    "  * Il n'existe pas de logiciel tout prêt capable de répondre à tous les besoins ;\n",
    "  * Savoir programmer permet de mieux comprendre le fonctionnement interne des logiciels, leurs limites, et donc les utiliser à bon escient ;\n",
    "  * L'utilisation de différents outils nécessite souvent de transformer le format de sortie de l'un en un format adéquat pour l'autre ;\n",
    "  * Cela permet de pouvoir effectuer soi-même des tâches qu'il faudrait sinon confier à d'autres ;\n",
    "  * La programmation est une activité qui s'avère généralement très passionnante, gratifiante, voire amusante ;\n",
    "  * La programmation est un bon entraînement pour la résolution de problèmes et le raisonnement logique, compétences utiles dans d'autres domaines ;\n",
    "  * C'est en phase avec l'importance grandissante du numérique dans la société, même dans les domaines relevant des sciences humaines et sociales.\n",
    "\n",
    "### 3.6. Programmation et langues naturelles <a name=\"langues\"></a>\n",
    "#### Points communs\n",
    "  * Il existe de nombreuses langues et langages informatiques différents.\n",
    "    * Quelques langages de programmation : Python, Perl, Java, C, C++, C#, Scheme, Lisp, Prolog, Basic, Fortran, Lisp, Scheme, Ada, Pascal, BASIC, etc.\n",
    "  * Tout comme les langues, les langages informatiques s'organisent en familles, en fonction de leurs points communs et de leurs différences\n",
    "  * Certains langages informatiques sont plus faciles à apprendre que d'autres.\n",
    "\n",
    "#### Différences\n",
    "  * La langue naturelle est naturellement ambiguë et expressive, tandis que les langages informatiques sont exacts et peu expressifs\n",
    "    * Il n'y a pas d'ambiguïté possible dans les programmes informatiques : chaque instruction ne peut avoir qu'une interprétation.\n",
    "    Une \"phrase\" comme *La belle ferme le voile* n'est donc pas possible !\n",
    "    * Le \"lexique\" des langages informatiques est très limité, et ressemble généralement fortement à l'anglais :\n",
    "    Pour python : *in, def, for, if, else, print, import, from, continue, pass, return* etc.\n",
    "\n",
    "### 3.7. Pourquoi le langage Python ? <a name=\"python\"></a>\n",
    "#### Caractéristiques de Python\n",
    "Le langage Python a été créé par Guido von Rossum aux Pays-Bas. Le nom du langage fait référence aux Monty Python. La première version publique (0.9.0) date de 1991.\n",
    "\n",
    "Le code Python est exécuté par une machine virtuelle installée sur la machine (l'interpréteur de commandes).\n",
    "#### Un langage \"facile\" à apprendre\n",
    "Par rapport à d'autres langages, Python est facile à apprendre, assez facile à lire et à manipuler. Et aussi à maintenir...\n",
    "Il utilise peu de symboles comme les accolades ({ }), les symboles dollar ($) et dièse (\\#).\n",
    "\n",
    "#### Un langage avec de multiples avantages et utilisations\n",
    "  * Manipulation aisée de fichiers et de dossiers ;\n",
    "  * Syntaxe simple, proche du langage naturel (anglais)\n",
    "  * Nombreuses bibliothèques disponibles pour des tâches variées : calcul scientifique, travail avec des données textuelles, manipulation de bases de données, applications Web, etc.\n",
    "  * Écriture rapide de petits programmes (les moulinettes) ;\n",
    "  * Gratuit et disponible sous tous type de plateformes ;\n",
    "  * Utilisé dans de nombreuses entreprises (Google, YouTube, DropBox, et.), pour la recherche scientifique (notamment en traitement automatique des langues via le Natural Language Processing Toolkit) et l'enseignement ;\n",
    "  * Langage réputé pour faciliter la qualité et la maintenabilité des programmes"
   ]
  },
  {
   "cell_type": "markdown",
   "metadata": {},
   "source": [
    "## 4. Premiers programmes <a name=\"premiers\"></a>\n",
    "Testez l'instruction ci-dessous avec CTRL+Entrée :"
   ]
  },
  {
   "cell_type": "code",
   "execution_count": 2,
   "metadata": {
    "tags": []
   },
   "outputs": [
    {
     "name": "stdout",
     "output_type": "stream",
     "text": [
      "Bonjour tout le monde ! Je m'appelle.\n"
     ]
    }
   ],
   "source": [
    "print(\"Bonjour tout le monde ! Je m'appelle.\")"
   ]
  },
  {
   "cell_type": "markdown",
   "metadata": {},
   "source": [
    "A votre avis, que fait la commande `print` ?\n",
    "\n",
    "Testez ensuite la suite d'instructions ci-dessous :"
   ]
  },
  {
   "cell_type": "code",
   "execution_count": 3,
   "metadata": {
    "tags": []
   },
   "outputs": [
    {
     "name": "stdin",
     "output_type": "stream",
     "text": [
      "Comment vous appelez-vous ?  Kevin\n"
     ]
    },
    {
     "name": "stdout",
     "output_type": "stream",
     "text": [
      "Bonjour Kevin\n"
     ]
    }
   ],
   "source": [
    "prenom = input(\"Comment vous appelez-vous ? \")\n",
    "print(\"Bonjour \" + prenom)"
   ]
  },
  {
   "cell_type": "markdown",
   "metadata": {},
   "source": [
    "Que fait la commande `input` ?\n",
    "\n",
    "Modifiez les lignes de code ci-dessus pour afficher deux points d'exclamation après le prénom, par exemple : Bonjour Marie !!\n",
    "\n",
    "Testez maintenant la suite d'instructions ci-dessous : "
   ]
  },
  {
   "cell_type": "code",
   "execution_count": 4,
   "metadata": {
    "tags": []
   },
   "outputs": [
    {
     "name": "stdin",
     "output_type": "stream",
     "text": [
      "Entrez un nom commun masculin singulier :  maison\n"
     ]
    },
    {
     "name": "stdout",
     "output_type": "stream",
     "text": [
      "Les formes fléchies de 'maison' sont : \n",
      "un maison\n",
      "des maisons\n"
     ]
    }
   ],
   "source": [
    "nom = input(\"Entrez un nom commun masculin singulier : \")\n",
    "pluriel = nom + \"s\"\n",
    "print(\"Les formes fléchies de '\" + nom + \"' sont : \")\n",
    "print(\"un \" + nom)\n",
    "print(\"des \" + pluriel)"
   ]
  },
  {
   "cell_type": "markdown",
   "metadata": {},
   "source": [
    "A quoi sert le `+` ? \n",
    "\n",
    "Modifiez le programme pour prendre en compte le cas des noms communs féminins, comme \"maison\" par exemple.\n",
    "\n",
    "## 4. Enregistrement de programmes <a name=\"enregistrement\"></a>\n",
    "Pour les programmes dépassant une ou deux instructions (une ligne de code = une instruction), il peut être utile de les enregistrer pour pouvoir les réutiliser plus tard. Un simple éditeur comme Notepad++ peut être utilisé. Cela étant, afin de profiter de fonctionnalités plus avancées, il est utile d'utiliser un environnement de développement dédié et conçu pour le développement (par exemple VSCodium)."
   ]
  }
 ],
 "metadata": {
  "kernelspec": {
   "display_name": "Python 3 (ipykernel)",
   "language": "python",
   "name": "python3"
  },
  "language_info": {
   "codemirror_mode": {
    "name": "ipython",
    "version": 3
   },
   "file_extension": ".py",
   "mimetype": "text/x-python",
   "name": "python",
   "nbconvert_exporter": "python",
   "pygments_lexer": "ipython3",
   "version": "3.9.12"
  }
 },
 "nbformat": 4,
 "nbformat_minor": 4
}
