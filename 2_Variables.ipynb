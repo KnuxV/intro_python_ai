{
 "cells": [
  {
   "cell_type": "markdown",
   "metadata": {},
   "source": [
    "# Variables\n",
    "\n",
    "## Table of Contents\n",
    "1. [Variable Concept](#notion)\n",
    "  1. [What is a Variable?](#variable)\n",
    "  1. [How to Name a Variable?](#nommer)\n",
    "  1. [What are the Different Data Types?](#types)\n",
    "  1. [Creating and Initializing Variables](#création)\n",
    "  1. [Modifying a Variable's Value](#modification)\n",
    "1. [Computing with Python](#calculer)\n",
    "1. [✏️ Exercise: Candy Distribution](#ex_distribution)\n",
    "1. [✏️ Exercise: Triathlon](#ex_triathlon)\n",
    "1. [✏️ Exercise: Hours-Minutes Conversion](#ex-conversion)\n",
    "1. [✏️ Exercise: Value Exchange](#ex-échange)\n",
    "  \n",
    "\n",
    "## 1. Variable Concept\n",
    "\n",
    "### 1.1. What is a Variable?\n",
    "A variable allows you to store information in programs. We can compare variables to \"boxes\" on which we put labels, which allows us to find them easily. They can store different types of information: numbers, text, sequences of numbers and text, etc.\n",
    "\n",
    "For example, in the program below, there are two variables: `word` and `doubled`. The `word` variable stores the word entered by the user. The `doubled` variable stores the doubled word, obtained by adding the word to itself.\n",
    "\n",
    "If the user enters the word \"hello\", the `word` and `doubled` variables contain the following values:\n",
    "\n",
    "![Variables word and doubled](https://git.unistra.fr/dbernhard/pythonm1s1/-/raw/master/img/variables_boites.PNG?inline=false)"
   ]
  },
  {
   "cell_type": "code",
   "execution_count": null,
   "metadata": {
    "collapsed": true,
    "jupyter": {
     "outputs_hidden": true
    }
   },
   "outputs": [],
   "source": [
    "word = input(\"Enter a word: \")\n",
    "doubled = word + word\n",
    "superword = \"super\" + word\n",
    "print(\"Your word: \" + word)\n",
    "print(\"Doubled: \" + doubled)\n",
    "print(\"With prefix: super\" + word)"
   ]
  },
  {
   "cell_type": "markdown",
   "metadata": {},
   "source": [
    "Pour créer une variable, on indique le nom de la variable, puis le signe `=` (qui signifie \"prend la valeur\"), puis l'information qui sera stockée par la variable : on appelle cette opération l'**initialisation**."
   ]
  },
  {
   "cell_type": "markdown",
   "metadata": {},
   "source": [
    "### 1.2. Comment nommer une variable ? <a name=\"nommer\"></a>\n",
    "  * Le nom d'une variable est une séquence de lettres (minuscules ou majuscules), utilisant éventuellement des chiffres ou le caractère souligné / underscore / sous-tiret (`_`).\n",
    "  * Il est recommandé d'utiliser des noms évocateurs et d'éviter les noms de variables trop longs.\n",
    "  * Il vaut mieux éviter les caractères accentués.\n",
    "  * Un nom de variable ne peut pas contenir d'espace : on peut le remplacer par `_`\n",
    "  * Le nom d'une variable ne peut pas commencer par un chiffre\n",
    "  \n",
    "### 1.3. Quels sont les différents types de données ? <a name=\"types\"></a>\n",
    "Les variables peuvent correspondre à différents types de données, notamment :\n",
    "  * des nombres entiers (comme `5`, `2386`, ou `-10`), de type **int** (pour **integer**)\n",
    "  * des nombres décimaux (comme `3.26`, `238.1`) , de type **float**\n",
    "  * des booléens (seulement deux valeurs possibles : `True` et `False`), de type **boolean**\n",
    "  * des chaînes de caractères (comme `\"Il fait beau aujourd'hui\"`, `\"1235 est un nombre entier\"`, `\"36\"`, `\"a\"`, `\"titi\"`), de type **string**. Les chaînes de caractères sont entourées par des guillemets droits, simples ou doubles.\n",
    "  \n",
    "### 1.3. Création et initialisation de variables <a name=\"création\"></a>\n",
    "Complétez le code ci-dessous pour initaliser et afficher les variables suivantes :\n",
    "  * variable `un_booleen` initialisée à `False`\n",
    "  * variable `une_chaine` initialisée à `\"J'aime programmer\"`\n",
    "  * variable `un_entier` initialisée à `20000`\n",
    "  * variante `un_float` initialisée à `222.222`\n"
   ]
  },
  {
   "cell_type": "code",
   "execution_count": null,
   "metadata": {
    "collapsed": true,
    "jupyter": {
     "outputs_hidden": true
    }
   },
   "outputs": [],
   "source": [
    "# Programme à compléter\n",
    "un_booleen =\n",
    "une_chaine =\n",
    "un_entier =\n",
    "un_float =\n",
    "print(un_booleen)\n",
    "print(une_chaine)\n",
    "print(un_entier)\n",
    "print(un_float)"
   ]
  },
  {
   "cell_type": "markdown",
   "metadata": {},
   "source": [
    "Dans un programme, à quoi correspond une ligne qui commence par `#` ?"
   ]
  },
  {
   "cell_type": "markdown",
   "metadata": {},
   "source": [
    "### 1.4. Modification de la valeur d'une variable <a name=\"modification\"></a>\n",
    "Comme son nom l'indique, une variable peut représenter différentes valeurs au cours du déroulement d'un programme.\n",
    "\n",
    "La modification de la valeur d'une variable se fait tout simplement en affectant une nouvelle valeur à la variable, en indiquant le nom de la variable, le signe '=' et la nouvelle valeur : c'est ce que l'on appelle l'opération d'**affectation**. L'affectation permet d'initialiser ou de modifier le contenu d'une variable.\n",
    "\n",
    "Par exemple, si vous donnez l'instruction `une_chaine=\"Surtout en Python\"`, la variable une_chaine aura comme nouvelle valeur `\"Surtout en Python\"`.\n",
    "\n",
    "L'affectation peut également inclure un calcul à droite du signe égal, comme par exemple `un_entier = 20000 * 2`, ou `new_float = un_float + 3`.\n",
    "\n",
    "L'affectation s'effectue dans l'ordre suivant : la valeur de l'expression figurant à droite du égal est calculée, puis le résultat obtenu est affecté à la variable située à gauche du signe égal.\n",
    "\n",
    "Dans l'exemple, seule la valeur de la variable `new_float` est modifiée, `un_float`  reste inchangé.\n",
    "\n",
    "⚠️ **Attention**\n",
    "1. `a = a + 3`\n",
    "    * N'a pas de sens en mathématiques\n",
    "    * Très utilisé en programmation : cela consiste à calculer a + 3 et stocker le résultat dans a.\n",
    "1. `a + 3 = 5`\n",
    "    * N'a pas de sens en programmation : une expression mathématique ne peut pas prendre une valeur\n",
    "1. `a = b` et `b = a`\n",
    "    * Équivalent en mathématiques\n",
    "    * Différent en programmation"
   ]
  },
  {
   "cell_type": "markdown",
   "metadata": {},
   "source": [
    "## 2. Calculer avec Python <a name=\"calculer\"></a>\n",
    "\n",
    "Python peut-être utilisé comme une calculatrice.\n",
    "\n",
    "On peut faire des additions avec le symbole `+`:"
   ]
  },
  {
   "cell_type": "code",
   "execution_count": null,
   "metadata": {
    "collapsed": true,
    "jupyter": {
     "outputs_hidden": true
    }
   },
   "outputs": [],
   "source": [
    "s = 5 + 3\n",
    "print(s)"
   ]
  },
  {
   "cell_type": "markdown",
   "metadata": {},
   "source": [
    "On peut également effectuer des multiplications, des divisions et des soustractions avec les symboles `*`, `/` et `-` :"
   ]
  },
  {
   "cell_type": "code",
   "execution_count": null,
   "metadata": {
    "collapsed": true,
    "jupyter": {
     "outputs_hidden": true
    }
   },
   "outputs": [],
   "source": [
    "p = 5 * 6\n",
    "print(p)\n",
    "d = 2 / 3\n",
    "print(d)\n",
    "m = 153 - 36\n",
    "print(m)"
   ]
  },
  {
   "cell_type": "markdown",
   "metadata": {},
   "source": [
    "Pour le résultat de la division, la convention anglo-saxonne est utilisée (`.` à la place de la virgule).\n",
    "Les espaces autour des opérateurs arithmétiques (`+`, `-`, `*`, `/`) ne sont pas obligatoires mais améliorent la lisibilité du programme."
   ]
  },
  {
   "cell_type": "markdown",
   "metadata": {},
   "source": [
    "On peut également effectuer directement des calculs plus complexes. Les règles de priorité entre opérateurs sont les mêmes qu'en mathématiques. Il peut donc être nécessaire d'utiliser des parenthèses dans certains cas :"
   ]
  },
  {
   "cell_type": "code",
   "execution_count": null,
   "metadata": {
    "collapsed": true,
    "jupyter": {
     "outputs_hidden": true
    }
   },
   "outputs": [],
   "source": [
    "c = (12 - 5) * 26\n",
    "print(c)"
   ]
  },
  {
   "cell_type": "markdown",
   "metadata": {},
   "source": [
    "🖊️ **Remplir le tableau ci-dessous avec les valeurs prises par les variables a, b et c :**\n",
    "\n",
    "| variables  | a | b | c |\n",
    "|:---|:---:|:---:|:---:|\n",
    "|valeur initiale  | 1  | 1  |  1 |\n",
    "|a = 2  |   |   |   |\n",
    "|b = 10  |   |   |   |\n",
    "|c = a + b  |   |   |   |\n",
    "|c = b - c  |   |   |   |"
   ]
  },
  {
   "cell_type": "markdown",
   "metadata": {},
   "source": [
    "## 3. ✏️ Exercice : distribution de bonbons <a name=\"ex_distribution\"></a>\n",
    "\n",
    "*Source : http://www.france-ioi.org/algo/task.php?idChapter=644&iOrder=5*\n",
    "\n",
    "Une école souhaite effectuer une distribution de bonbons pour sa fête annuelle. Il y a 4 classes dans l'école, avec respectivement 25, 30, 27 et 22 élèves. 8 élèves sont absents le jour de la fête et il faut distribuer 3 bonbons par éléve. Ecrivez un programme qui calcule et affiche le nombre total de bonbons nécessaires."
   ]
  },
  {
   "cell_type": "code",
   "execution_count": null,
   "metadata": {
    "collapsed": true,
    "jupyter": {
     "outputs_hidden": true
    }
   },
   "outputs": [],
   "source": [
    "# Votre code"
   ]
  },
  {
   "cell_type": "markdown",
   "metadata": {},
   "source": [
    "## 4. ✏️ Exercice : triathlon <a name=\"ex_triathlon\"></a>\n",
    "\n",
    "*http://www.france-ioi.org/algo/task.php?idChapter=644&iOrder=7*\n",
    "\n",
    "Un ville souhaite organiser un triathlon avec un format un peu spécial. Le triathlon se déroulera sur 3 jours et chaque jour les athlètes devront effectuer les distances suivantes : 2 km de natation, 34 km de cyclisme et 6 km de course à pied. \n",
    "\n",
    "Ecrire un programme qui affiche la distance totale parcourue à la fin de chacun des 3 jours de la compétition."
   ]
  },
  {
   "cell_type": "code",
   "execution_count": null,
   "metadata": {
    "collapsed": true,
    "jupyter": {
     "outputs_hidden": true
    }
   },
   "outputs": [],
   "source": [
    "# Votre code"
   ]
  },
  {
   "cell_type": "markdown",
   "metadata": {},
   "source": [
    "## 5. ✏️ Exercice : conversion heures-minutes <a name=\"ex-conversion\"></a>\n",
    "Ecrire un programme avec trois variables : l'une correspond au nombre d'heures (initialisée à `3`), l'autre au nombre de minutes (initialisée à `21`) et la dernière calcule le nombre total de minutes à l'aide de la formule : (nombre d'heures * 60 ) + nombre de minutes. Il faut ensuite afficher le total."
   ]
  },
  {
   "cell_type": "code",
   "execution_count": null,
   "metadata": {
    "collapsed": true,
    "jupyter": {
     "outputs_hidden": true
    }
   },
   "outputs": [],
   "source": [
    "# Programme conversion heures-minutes"
   ]
  },
  {
   "cell_type": "markdown",
   "metadata": {},
   "source": [
    "## 6. ✏️ Exercice : échange de valeurs <a name=\"ex-échange\"></a>\n",
    "L'objectif est d'écrire un programme qui permet d'échanger les valeurs de deux variables `x` et `y`. `x` sera initialisé à 3 et `y` sera initialisé à 5. A la fin du programme, `x` vaudra 5 et `y` vaudra 3. On s'assurera que l'échange des valeurs a bien été effectué en affichant les valeurs.\n",
    "\n",
    "**ATTENTION :** le programme doit avoir le même principe de fonctionnement quelles que soient les valeurs d'initialisation ! La solution n'est donc **pas** :"
   ]
  },
  {
   "cell_type": "code",
   "execution_count": null,
   "metadata": {
    "collapsed": true,
    "jupyter": {
     "outputs_hidden": true
    }
   },
   "outputs": [],
   "source": [
    "x = 3\n",
    "y = 5\n",
    "y = 3\n",
    "x = 5\n",
    "print(\"x =\", x)\n",
    "print(\"y =\", y)"
   ]
  },
  {
   "cell_type": "code",
   "execution_count": null,
   "metadata": {
    "collapsed": true,
    "jupyter": {
     "outputs_hidden": true
    }
   },
   "outputs": [],
   "source": [
    "# Programme échange de valeurs"
   ]
  }
 ],
 "metadata": {
  "kernelspec": {
   "display_name": "Python 3 (ipykernel)",
   "language": "python",
   "name": "python3"
  },
  "language_info": {
   "codemirror_mode": {
    "name": "ipython",
    "version": 3
   },
   "file_extension": ".py",
   "mimetype": "text/x-python",
   "name": "python",
   "nbconvert_exporter": "python",
   "pygments_lexer": "ipython3",
   "version": "3.9.12"
  }
 },
 "nbformat": 4,
 "nbformat_minor": 4
}
