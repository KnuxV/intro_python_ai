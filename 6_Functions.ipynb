{
 "cells": [
  {
   "cell_type": "markdown",
   "id": "020467e8",
   "metadata": {},
   "source": [
    "## What are Functions?\n",
    "\n",
    "Functions are reusable blocks of code that perform a specific task. \n",
    "Think of them as mini-programs within your program!\n",
    "\n",
    "**Why use functions?**\n",
    "- Avoid repeating code\n",
    "- Make code easier to read and understand\n",
    "- Break complex problems into smaller pieces\n",
    "- Test parts of your code independently\n",
    "\n",
    "**Basic structure:**\n",
    "```python\n",
    "def function_name(parameters):\n",
    "    # code that does something\n",
    "    return result"
   ]
  },
  {
   "cell_type": "markdown",
   "id": "908b71e0",
   "metadata": {},
   "source": [
    "## Simple Function Example\n",
    "\n",
    "Let's start with a simple function that doesn't need any inputs:"
   ]
  },
  {
   "cell_type": "code",
   "execution_count": 1,
   "id": "eff64519",
   "metadata": {},
   "outputs": [
    {
     "name": "stdout",
     "output_type": "stream",
     "text": [
      "Hello! Let's play Tic-Tac-Toe!\n"
     ]
    }
   ],
   "source": [
    "def greet():\n",
    "    \"\"\"This function prints a greeting\"\"\"\n",
    "    print(\"Hello! Let's play Tic-Tac-Toe!\")\n",
    "\n",
    "# Call the function\n",
    "greet()"
   ]
  },
  {
   "cell_type": "markdown",
   "id": "958b3896",
   "metadata": {},
   "source": [
    "## Functions with Parameters\n",
    "\n",
    "Parameters let us pass information into functions:"
   ]
  },
  {
   "cell_type": "code",
   "execution_count": 2,
   "id": "5c6fa780",
   "metadata": {},
   "outputs": [
    {
     "name": "stdout",
     "output_type": "stream",
     "text": [
      "Hello Alice! Ready to play?\n",
      "Hello Bob! Ready to play?\n"
     ]
    }
   ],
   "source": [
    "def greet_player(name):\n",
    "    \"\"\"This function takes a name and prints a personalized greeting\"\"\"\n",
    "    print(f\"Hello {name}! Ready to play?\")\n",
    "\n",
    "# Call it with different names\n",
    "greet_player(\"Alice\")\n",
    "greet_player(\"Bob\")"
   ]
  },
  {
   "cell_type": "markdown",
   "id": "0619fdad",
   "metadata": {},
   "source": [
    "## Functions that Return Values\n",
    "\n",
    "Some functions give us back a result using `return`:"
   ]
  },
  {
   "cell_type": "code",
   "execution_count": 4,
   "id": "e63a0bce",
   "metadata": {},
   "outputs": [
    {
     "name": "stdout",
     "output_type": "stream",
     "text": [
      "5 + 3 = 8\n",
      "10 + 7 = 17\n"
     ]
    }
   ],
   "source": [
    "def add_numbers(a, b):\n",
    "    \"\"\"This function adds two numbers and returns the result\"\"\"\n",
    "    result = a + b\n",
    "    return result\n",
    "\n",
    "# We can store the returned value\n",
    "sum_value = add_numbers(5, 3)\n",
    "print(f\"5 + 3 = {sum_value}\")\n",
    "\n",
    "# Or use it directly\n",
    "print(f\"10 + 7 = {add_numbers(10, 7)}\")\n"
   ]
  },
  {
   "cell_type": "markdown",
   "id": "ed1aee4e",
   "metadata": {},
   "source": [
    "## Practice: Your Turn!\n",
    "\n",
    "Create a function called `square` that:\n",
    "- Takes one parameter: a number\n",
    "- Returns that number multiplied by itself\n",
    "\n",
    "Try calling it with different numbers!"
   ]
  },
  {
   "cell_type": "code",
   "execution_count": 5,
   "id": "3a338fac",
   "metadata": {},
   "outputs": [],
   "source": [
    "def square(number):\n",
    "    # TODO: Calculate and return number * number\n",
    "    pass\n",
    "\n",
    "# Test your function:\n",
    "# print(square(4))   # Should print 16\n",
    "# print(square(7))   # Should print 49"
   ]
  },
  {
   "cell_type": "code",
   "execution_count": null,
   "id": "b8a6ea9e",
   "metadata": {},
   "outputs": [],
   "source": [
    "def make_player_symbol(player_name):\n",
    "    # TODO: Get the first letter of player_name and make it uppercase\n",
    "    # Hint: player_name[0] gets the first character\n",
    "    # Hint: .upper() makes a string uppercase\n",
    "    pass\n",
    "\n",
    "# Test your function:\n",
    "# symbol_alice = make_player_symbol(\"alice\")   # Should return \"A\"\n",
    "# symbol_bob = make_player_symbol(\"bob\")     # Should return \"B\"\n",
    "# print(symbol_alice) -> \"A\""
   ]
  },
  {
   "cell_type": "code",
   "execution_count": null,
   "id": "7e3fe496",
   "metadata": {},
   "outputs": [],
   "source": []
  }
 ],
 "metadata": {
  "kernelspec": {
   "display_name": "Python 3",
   "language": "python",
   "name": "python3"
  },
  "language_info": {
   "codemirror_mode": {
    "name": "ipython",
    "version": 3
   },
   "file_extension": ".py",
   "mimetype": "text/x-python",
   "name": "python",
   "nbconvert_exporter": "python",
   "pygments_lexer": "ipython3",
   "version": "3.13.7"
  }
 },
 "nbformat": 4,
 "nbformat_minor": 5
}
