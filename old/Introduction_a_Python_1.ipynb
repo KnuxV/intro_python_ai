{
 "cells": [
  {
   "cell_type": "markdown",
   "metadata": {},
   "source": [
    "\n",
    "***\n",
    "# <font color=\"blue\"><b>Python : un premier contact</b></font>\n",
    "***\n",
    "\n",
    "&nbsp;<p>\n",
    "Il y a, sans doute, <u>beaucoup de matière</u> à absorber dans ce premier notebook.... <br>\n",
    "    \n",
    "Ce carnet présente quelques exercices pour explorer et mettre en pratique Python et vous permettre de nous familiariser avec la syntaxe du langage Python.\n",
    "    \n",
    "### <font color=\"darkgreen\">Nous allons explorer les aspects suivants de Python</font> :\n",
    "1. Afficher (\"print\")\n",
    "2. La notion de variable (1)\n",
    "3. Les \"conditions et tests\" (\"if\"...)\n",
    "4. Boucles : exécuter plus d'une fois\n",
    "5. Listes\n",
    "6. Fonctions\n",
    "7. Bibliothèques : importation de fonctions spécialisées selon les besoins\n",
    "7. Gestion des erreurs\n",
    "\n",
    "### <font color=\"magenta\">Comment procéder (rappel)</font> :\n",
    "\n",
    "- Pour modifier le contenu du code dans une cellule : positionnez le curseur sur la cellule et cliquez sur la cellule.\n",
    "- Pour exécuter le code dans une cellule : sélectionnez la cellule et cliquez sur le bouton \"Exécuter\" dans la barre d'outils ci-dessus *ou* appuyez simultanément sur \"Shift\" et \"Enter\".\n",
    "    \n",
    "Chaque cellule de ce carnet contient un mini-programme Python.\n",
    "    \n",
    "**N'hésitez pas à suivre les commentaires (texte précédé du symbole \"#\") et à modifier les cellules pour explorer les résultats!**."
   ]
  },
  {
   "cell_type": "markdown",
   "metadata": {},
   "source": [
    "***\n",
    "\n",
    "## 1. <font color=\"darkred\">Un passage obligé.... comment afficher (\"print\")</font>\n"
   ]
  },
  {
   "cell_type": "code",
   "execution_count": null,
   "metadata": {},
   "outputs": [],
   "source": [
    "# La commande suivante affiche la chaîne de caractères \" Hello \" (Bonjour)\n",
    "\n",
    "\n",
    "print(\"Hello !!!!!!\")\n",
    "\n",
    "# >> Exécutez cette cellule\n",
    "\n",
    "# >> Pouvez-vous changer le message qui est affiché ? \n"
   ]
  },
  {
   "cell_type": "code",
   "execution_count": null,
   "metadata": {},
   "outputs": [],
   "source": [
    "# Rq: On peut utiliser les guillemets simples (apostrophe) ou les doubles guillemets pour délimiter un texte \n",
    "# \n",
    "# Ces caractères typographiques ont donc un statut spécial... \n",
    "# --> Il faut donc se méfier des apostrophes dans un texte !\n",
    "\n",
    "\n",
    "print ('j'ai une apostrophe dans mon texte ...')\n",
    "       \n",
    "# Essayez d'exécuter cette instruction   \n",
    "       \n",
    "# (Vous souvenez vous comment les afficher à 'intérieur d'une chaîne de caractères ?)\n"
   ]
  },
  {
   "cell_type": "code",
   "execution_count": null,
   "metadata": {},
   "outputs": [],
   "source": [
    "# certains caractères spéciaux vont permettre de contrôler (modestement) l'affichage d'un texte:\n",
    "\n",
    "print('Ceci \\n permet de sauter une ligne') \n",
    "print('\\n')\n",
    "\n",
    "print('Ceci \\t permet de tabuler') \n",
    "print('\\t\\t\\t il est possible de combiner les \"tabs\"')\n",
    "\n",
    "# Que remarquez vous dans la séquence précédente?\n"
   ]
  },
  {
   "cell_type": "code",
   "execution_count": null,
   "metadata": {},
   "outputs": [],
   "source": [
    "\n",
    "# une astuce: on peut \"multiplier\" une séquence de texte:\n",
    "print(\"-\"*20)\n",
    "print(\"***\"*10)"
   ]
  },
  {
   "cell_type": "code",
   "execution_count": null,
   "metadata": {
    "scrolled": true
   },
   "outputs": [],
   "source": [
    "# Vous aurez peut-être noté que la fonction \"print()\" génère un retour à la ligne.\n",
    "# Si vous souhaitez poursuivre l'affichage sur la même ligne, voici comment l'indiquer:\n",
    "\n",
    "# Comparons:\n",
    "print(\"hello \")\n",
    "print(\"world\")\n",
    "\n",
    "# et\n",
    "print(\"hello \", end=\"\")\n",
    "print(\"world\")\n",
    "\n",
    "\n",
    "# >> Essayez de changer le contenu du paramètre end=\"\", par exemple en introduisant un caractère entre les guillemets\n"
   ]
  },
  {
   "cell_type": "code",
   "execution_count": null,
   "metadata": {},
   "outputs": [],
   "source": [
    "#Il est possible d'obtenir la taille d'une chaine de caractère\n",
    "1# ce peut être utile, par exemple, pour s'assurer qu'un mot de passe est de taille suffisamment longue\n",
    "\n",
    "mot_de_passe = \"xxA@1200672^^^!!_c\"\n",
    "print(len(mot_de_passe))\n",
    "\n",
    "# nous avons utilisé ici une seconde \"fonction\" du langage Python: la fonction len().\n",
    "# notez que le produit de la fonction len() est un chiffre (un entier) \n",
    "# et que ce chiffre est directement interprété par la fonction \"print()\" qui l'affiche en suivant. \n"
   ]
  },
  {
   "cell_type": "markdown",
   "metadata": {},
   "source": [
    "***\n",
    "\n",
    "## 1.1 <font color=\"darkblue\">Autre essentiel dans la boîte à outil informatique: la notion de variable...</font>\n",
    "\n",
    "- pourquoi faire?\n",
    "- définition d'une \"variable\"\n",
    "- les caractéristiques d'une variable\n",
    "- nommer une variable: beaucoup de liberté... et quelques contraintes\n",
    "- que peut elle contenir?\n",
    "- exemples."
   ]
  },
  {
   "cell_type": "code",
   "execution_count": null,
   "metadata": {},
   "outputs": [],
   "source": [
    "# Nous allons utiliser une \"variable\" à laquelle nous allons associer une chaîne de caractères.\n",
    " \n",
    "ma_variable= \"un premier test\"\n",
    "print (ma_variable)\n"
   ]
  },
  {
   "cell_type": "markdown",
   "metadata": {},
   "source": [
    "---\n",
    "\n",
    "### Quelques règles à respecter pour créer un nom de variable : \n",
    "\n",
    "1. Les noms ne doivent pas commencer par un nombre. \n",
    "\n",
    "2. Pas d’espace dans les noms, utilisez _ à la place \n",
    " \n",
    "3. **Un nom de variable ne peut contenir que des caractères alphanumériques et des traits de soulignement (\"underscore\"): A-z, 0-9 et _** (il est donc interdit d’utiliser les symboles suivants : ’ ” , < > / ? | ( ) ! @ # $ % ^ & * ~ - + ., etc.) \n",
    "\n",
    "4. L'usage des minuscules est conseillé\n",
    "\n",
    "5. L'usage des caractères accentués est déconseillé\n",
    "\n",
    "---"
   ]
  },
  {
   "cell_type": "code",
   "execution_count": null,
   "metadata": {},
   "outputs": [],
   "source": [
    "\n",
    "# La valeur de la chaîne de caractères est définie par ce qui se trouve entre les deux guillemets (\"). \n",
    "# notez que les guillemets simples (' ') fonctionnent également:\n",
    "une_autre_variable = 'un texte'\n",
    "\n",
    "mon_autre_message = \"Voila le contenu de cette autre variable\"\n",
    "\n",
    "# >> Pouvez-vous modifier le code pour afficher votre propre message en changeant la valeur de la variable ?\n",
    "\n",
    "# >> Pouvez-vous modifier le code pour afficher votre propre message en ajoutant une autre variable, par exemple nommée \"autre_message\" ?\n"
   ]
  },
  {
   "cell_type": "markdown",
   "metadata": {},
   "source": [
    "---\n",
    "\n",
    "### Remarque\n",
    "\n",
    "Pour afficher le contenu d'une variable en python, il est possible de simplement la désigner \n",
    "\n",
    "par ex, essayez de créer une cellule en dessous de celle-ci, créez une variable (du nom que vous souhaitez) et assignez-lui une valeur (un chiffre par exemple). \n",
    "\n",
    "Tapez (dans la même cellule) sur une ligne suivante son nom\n",
    "\n",
    "Executez la cellule (\"SHIFT\" et \"ENTREE\" simultanément)\n",
    "\n",
    "---"
   ]
  },
  {
   "cell_type": "code",
   "execution_count": null,
   "metadata": {
    "scrolled": true
   },
   "outputs": [],
   "source": [
    "# Que diriez-vous de permettre à un utilisateur de saisir du texte ?\n",
    "\n",
    "# La fonction \"input()\" permet de demander à l'utilisateur d'entrer (de \"saisir\") du texte. \n",
    "# Le résultat de votre saisie est ensuite stocké dans une \"variable\" (ici, nommée \"message\").\n",
    "\n",
    "resultat=input(\"Entrez un texte s'il vous plaît : \")\n",
    "\n",
    "# la variable peut être utilisée ultérieurement, par exemple pour imprimer son contenu :\n",
    "print(resulat)\n",
    "\n",
    "# >> Pouvez-vous essayer de modifier le message affiché par la fonction \"input()\" ?\n",
    "\n",
    "# >> Pouvez-vous essayer de modifier le nom de la variable qui contient le résultat de votre saisie ?\n",
    "\n",
    "# Que diriez-vous de demander d'abord votre nom, puis votre âge ? Devriez-vous utiliser une ou deux variables pour le faire ? Pourquoi ?"
   ]
  },
  {
   "cell_type": "code",
   "execution_count": null,
   "metadata": {},
   "outputs": [],
   "source": [
    "# peut-on répondre de manière personnalisée ?\n",
    "\n",
    "# Le code ci-dessous permet de poser une question, de saisir un texte et d'afficher un message personnalisé\n",
    "\n",
    "votre_prenom = input (\"Entrez votre prénom : \")\n",
    "\n",
    "# la variable peut être utilisée ultérieurement, par exemple pour imprimer son contenu :\n",
    "print(\"Bonjour \",votre_prenom,\" comment allez vous?\")\n"
   ]
  },
  {
   "cell_type": "code",
   "execution_count": null,
   "metadata": {},
   "outputs": [],
   "source": [
    "# Il est possible d'évaluer le contenu des variables de type texte (\"string\" en anglais)\n",
    "\n",
    "mon_texte= \"Hello!\"\n",
    "\n",
    "# pour afficher le premier caractère \n",
    "#(on commence par compter à partir de l'indice \"0\"):\n",
    "print(mon_texte[0])\n",
    "\n",
    "# comment afficheriez-vous le dernier caractère ?\n",
    "\n",
    "# et si vous ne connaissiez pas la longeur de la chaine de caractère ?"
   ]
  },
  {
   "cell_type": "code",
   "execution_count": null,
   "metadata": {},
   "outputs": [],
   "source": [
    "# on peut utiliser les deux points \":\" pour découper et extraire depuis ou jusqu’à un certain point. Par exemple :\n",
    "\n",
    "mon_texte[1:]\n",
    "\n"
   ]
  },
  {
   "cell_type": "code",
   "execution_count": null,
   "metadata": {},
   "outputs": [],
   "source": [
    "# Tout extraire jusqu'à  l'élément d'index 4 (exclu)\n",
    "mon_texte[:4]"
   ]
  },
  {
   "cell_type": "code",
   "execution_count": null,
   "metadata": {},
   "outputs": [],
   "source": [
    "# ou encore entre deux limites\n",
    "mon_texte[1:4]\n"
   ]
  },
  {
   "cell_type": "code",
   "execution_count": null,
   "metadata": {},
   "outputs": [],
   "source": [
    "# qu'affichera mon_texte[:] ?"
   ]
  },
  {
   "cell_type": "code",
   "execution_count": 1,
   "metadata": {},
   "outputs": [
    {
     "name": "stdout",
     "output_type": "stream",
     "text": [
      "entrez un texte s'il vous plaît:1234\n",
      "12\n"
     ]
    }
   ],
   "source": [
    "# complétez ce code pour :\n",
    "\n",
    "# - demander d'entrer un texte et assigner son contenu à une variable\n",
    "reponse = input(\"entrez un texte s'il vous plaît:\")\n",
    "\n",
    "# afficher les deux derniers caractères de la séquence\n",
    "\n",
    "print(reponse[0:2])\n",
    "\n"
   ]
  },
  {
   "cell_type": "code",
   "execution_count": null,
   "metadata": {},
   "outputs": [],
   "source": [
    "# On peut aussi afficher par \"intervalle\" successifs:\n",
    "# Tout afficher, par intervalles de 2\n",
    "s=\"Il fait soleil à Strasbourg aujourd'hui\"\n",
    "s[::2]"
   ]
  },
  {
   "cell_type": "code",
   "execution_count": null,
   "metadata": {},
   "outputs": [],
   "source": [
    "# On peut aussi utiliser cette notation pour afficher une chaine à l'envers ! :-)\n",
    "s[::-1]"
   ]
  },
  {
   "cell_type": "code",
   "execution_count": null,
   "metadata": {},
   "outputs": [],
   "source": [
    "# on peut aussi faire des opérations sur les chaînes de caractère\n",
    "# Par exemple, les concaténer \n",
    "s = s + '... Sortons !'\n",
    "s"
   ]
  },
  {
   "cell_type": "code",
   "execution_count": null,
   "metadata": {},
   "outputs": [],
   "source": [
    "# Pouvons nous les multiplier? (nous l'avons déjà vu :-)\n",
    "s*2"
   ]
  },
  {
   "cell_type": "code",
   "execution_count": null,
   "metadata": {},
   "outputs": [],
   "source": [
    "# ci dessous, vous trouverez (en vrac) d'autres fonctions (très utiles) \n",
    "# permettant de manipuler des textes\n",
    "\n",
    "# Expérimentez avec ces fonctions !\n",
    "\n",
    "t=\"Un exemple de texte\"\n",
    "\n",
    "#Mettre une chaine en majuscules\n",
    "t.upper()\n",
    "\n",
    "# En minuscules\n",
    "t.lower()\n",
    "\n",
    "# RQ: notez ici l'utilisation d'un \"point\" (on parle de notation \"pointée\" ou \"dot notation\" en anglais) \n",
    "# pour appliquer une fonction 'upper' ou 'lower' sur la variable 't' contenant un texte.\n",
    "# Il s'agit ici d'une caractéristique permettant d'accéder aux attributs et méthodes d'un objet (ici, une \n",
    "# chaine de caractère dénommée \"t\").\n",
    "# certains types d'objets Python ont des attributs ou des méthodes prédéfinies.\n",
    "# p.ex pour les chaines de caractères (\"strings\"): lower, upper, count, find, replace... \n",
    "# voir https://docs.python.org/3/\n"
   ]
  },
  {
   "cell_type": "markdown",
   "metadata": {},
   "source": [
    "***\n",
    "\n",
    "### Rq : Types de variables\n",
    "\n",
    "Il existe différents <font color=\"red\"><b>types</b></font> de variables en Python. <br>\n",
    "\n",
    "Par exemple :\n",
    "\n",
    "- Les **nombres** (soit les \"**entiers**\" (comme 0,1,2,3) ou des \"nombres réels\" (ou \"**float**\" pour faire court, comme 3.1415927, 0.1, -1.0, etc. Nnotez que la \"virgule\" séaprant la partie entière des décimales est ici indiquée par un point)\n",
    "\n",
    "- **Chaînes de caractères**\n",
    "\n",
    "\n",
    "Nous pouvons essayer d'imprimer le \"type\" de la variable en utilisant la fonction \"type()\" :"
   ]
  },
  {
   "cell_type": "code",
   "execution_count": 11,
   "metadata": {},
   "outputs": [
    {
     "name": "stdout",
     "output_type": "stream",
     "text": [
      "k: 1.0\n",
      "le type de ma_variable est:  <class 'float'>\n",
      "i: <class 'int'>  ; j: <class 'int'>\n",
      "<class 'str'>\n",
      "<class 'int'>\n",
      "<class 'bool'>\n"
     ]
    }
   ],
   "source": [
    "\n",
    "ma_variable = 10\n",
    "\n",
    "i=15\n",
    "j=15\n",
    "\n",
    "k=i/j\n",
    "print(\"k:\",k)\n",
    "\n",
    "print(\"le type de ma_variable est: \", type( k ) )\n",
    "\n",
    "# Exécutez cette cellule... Qu'observe-t-on ?\n",
    "\n",
    "# >> Pouvez-vous essayer de vérifier le type des différentes variables ? \n",
    "\n",
    "print(\"\\n\")\n",
    "print (\"i:\",type(i),\" ; j:\", type(j))\n",
    "\n",
    "print(type(\"test\"))\n",
    "print(type(1))\n",
    "\n",
    "print(type(True))\n",
    "\n",
    "# >> Que se passe-t-il si vous définissez ma_variable comme une chaîne de caractères ?\n",
    "# >> Et si vous définissez ma_variable comme un nombre à virgule flottante ?\n",
    "# >> Pouvez-vous définir une variable contenant 10 comme valeur, mais étant un flottant ? \n",
    "# >> Pouvez-vous définir une variable contenant 10.5 comme valeur, mais étant un nombre entier ? \n",
    "# >> Pouvez-vous définir une variable contenant 10.5 comme valeur, mais étant une chaîne de caractères ? "
   ]
  },
  {
   "cell_type": "markdown",
   "metadata": {},
   "source": [
    "***\n",
    "\n",
    "### Il est important de comprendre la notion de \"type\" car toutes les opérations ne sont pas autorisées pour tous les types de variables, ou leurs combinaisons.\n",
    "\n",
    "Nous pouvons en faire l'expérience avec le code (v. la cellule ci-après) ci-dessous.\n",
    "\n",
    "Les deux variables sont des \"entiers\" (1 et 2). \n",
    "Le code actuel tente d'appliquer l'opération \"+\" à ces deux variables.\n",
    "\n",
    "- Essayez d'exécuter la cellule.\n",
    "\n",
    "Maintenant, pouvez-vous essayer de modifier le code pour définir différents types de variables : entiers, floats ou chaînes de caractères ?\n",
    "\n",
    "- Comment se comporte l'opération \"+\" ?\n",
    "\n",
    "- Que se passe-t-il si nous essayons d'ajouter une variable contenant une chaîne de caractères et une variable contenant un entier (ou un flottant) ?\n",
    "\n",
    "- Qu'en est-il si au lieu de l'opération \"+\" nous essayons \"*\" (multiplier) ou \"-\" (moins) ?"
   ]
  },
  {
   "cell_type": "code",
   "execution_count": null,
   "metadata": {},
   "outputs": [],
   "source": [
    "premiere_variable = 1\n",
    "seconde_variable = 2\n",
    "\n",
    "resultat_operation = premiere_variable + seconde_variable\n",
    "\n",
    "print(\"Le resultat de l'operation est : \", resultat_operation)\n",
    "print(\"type : \", type(resultat_operation))"
   ]
  },
  {
   "cell_type": "markdown",
   "metadata": {},
   "source": [
    "***\n",
    "\n",
    "### Dans certains cas, il est possible de convertir un type en un autre :\n",
    "\n",
    "Par exemple :\n",
    "\n",
    "- int(3.1415) convertit le flottant 3.1415 en l'entier 3\n",
    "- int(\"1\") convertit la chaîne de caractères \"1\" en l'entier 1\n",
    "\n",
    "- float(1) convertit le nombre entier 1 en sa représentation en virgule flottante correspondante, c'est-à-dire 1,0.\n",
    "- float(\"3.1415\") convertit la chaîne \"3.1415\" en la représentation flottante correspondante 3.1415\n",
    "\n",
    "- str(1) convertit le nombre entier 1 (ou un flottant équivalent) en la chaîne \"1\".\n",
    "\n",
    "Ceci est utile si l'on veut appliquer certaines opérations qui ne fonctionnent que sur des types spécifiques de variables (par exemple, la soustraction de deux nombres est une opération valide, alors que la soustraction de deux chaînes de caractères n'est pas définie...)\n"
   ]
  },
  {
   "cell_type": "code",
   "execution_count": 4,
   "metadata": {
    "scrolled": true
   },
   "outputs": [
    {
     "name": "stdout",
     "output_type": "stream",
     "text": [
      "pi: <class 'float'>\n",
      "x : 3\n",
      "<class 'int'>\n",
      "112\n"
     ]
    }
   ],
   "source": [
    "pi=3.1415927\n",
    "print(\"pi:\",type(pi))\n",
    "\n",
    "x = int(pi)\n",
    "print(\"x :\",x)\n",
    "print(type(x))\n",
    "\n"
   ]
  },
  {
   "cell_type": "code",
   "execution_count": null,
   "metadata": {},
   "outputs": [],
   "source": [
    "# Créons une première variable contenant l'age sous forme d'une chaine de caractères\n",
    "# (RQ: pourquoi peut-on dire qu'il s'agit dune variable de type \"chaine de caractères\" (\"string\")?)\n",
    "\n",
    "votre_age = \"bonjour\"\n",
    "\n",
    "print(\"votre age est: \", votre_age)\n",
    "\n",
    "# Peut-on faire un calcul arithmétique avec cette variable ?\n",
    "\n",
    "# Convertissons maintenant la variable en un entier\n",
    "# Le résultat est attribué à une nouvelle variable 'votre_age_int'\n",
    "votre_age_int = float(votre_age)\n",
    "print(\"type de votre_age_int:\", type(votre_age_int))\n",
    "\n",
    "# nous pouvons maintenant faire quelques opérations avec la variable \"age\" :\n",
    "print(\"L'année prochaine, vous aurez: \", votre_age_int+1, \"ans\")\n",
    "print(\"L'an dernier, vous aviez: \", votre_age_int-1, \"ans\")\n",
    "\n",
    "# >> Et si vous n'avez pas effectué la conversion en \"int\" avant l'opération \"+\" ?\n",
    "\n",
    "# >> Que se passe-t-il si vous convertissez age en \"float\" à la place ?\n",
    "\n",
    "# >> Que se passe-t-il si la première variable de type chaîne exprime un nombre, mais sous la forme \"dix-huit\" ?\n"
   ]
  },
  {
   "cell_type": "markdown",
   "metadata": {},
   "source": [
    "### Rq : input() \n",
    "    \n",
    "La fonction \"input()\" renvoie toujours **une chaîne de caractères**. \n",
    "\n",
    "Même si vous entrez un nombre dans le champ de réponse, la fonction \"input()\" le convertit en une chaîne de caractères (c'est-à-dire une variable de  type \"string\").\n",
    "\n",
    "Nous pouvons tester ceci en affichant le \"type\" de la variable obtenue par la fonction \"input()\" en exécutant la cellule suivante :"
   ]
  },
  {
   "cell_type": "code",
   "execution_count": null,
   "metadata": {},
   "outputs": [],
   "source": [
    "premiere_variable =  input (\"Entrez un premier nombre : \")\n",
    "seconde_variable = input (\"Entrez un second nombre : \")\n",
    "\n",
    "print(\"Affichons le type de valeur d'entrée :\")\n",
    "\n",
    "print (\"type premiere variable : \", type(premiere_variable))\n",
    "print (\"type de la seconde variable\", type(seconde_variable))\n",
    "\n",
    "# >> Et si vous imprimiez la somme de ces deux variables ?\n",
    "\n",
    "print(\"somme :\", int(float(premiere_variable) + float(seconde_variable)))\n",
    "\n",
    "# >> Maintenant, pouvez-vous convertir chacune de ces variables en un flottant et imprimer leur somme ? "
   ]
  },
  {
   "cell_type": "markdown",
   "metadata": {},
   "source": [
    "***\n",
    "\n",
    "## 2. <font color=\"darkred\">Conditions et tests</font>\n",
    "\n",
    "CErtaines opération permettent de comparer des variables ou des grandeurs\n",
    "- \"==\" : teste si deux termes sont égaux\n",
    "- \">\" et \"<\" : teste si une grandeur est supérieure ou inférieure à l'autre\n",
    "- \">=\" et <=\" : teste si une grandeur est supérieure ou égale ou inférieure ou égale à l'autre\n",
    "- \"!=\" : : teste si deux termes sont différents\n",
    "\n",
    "Python utilise des \" variables booléennes \" (soit \" True \" (Vrai), soit \" False \" (FAUX)) pour évaluer les opération de tests.\n",
    "\n",
    "Ces valeurs booléennes sont retournées lorsqu'une expression est évaluée. \n",
    "\n",
    "Par exemple :\n"
   ]
  },
  {
   "cell_type": "code",
   "execution_count": null,
   "metadata": {},
   "outputs": [],
   "source": [
    "nombre = 2.0\n",
    "print(nombre == 1) \n",
    "print(nombre == 2) \n",
    "print(nombre != 1) \n",
    "print(nombre < 1) \n",
    "\n",
    "# >> Essayez d'exécuter cette cellule\n",
    "# >> Essayez de modifier tous les tests pour qu'ils donnent un résultat \"Vrai\" (True)\n",
    "# >> puis tous les tests Faux, en changeant seulement l'opérateur ?"
   ]
  },
  {
   "cell_type": "markdown",
   "metadata": {},
   "source": [
    "\n",
    "***\n",
    "### Combinaison de déclarations conditionnelles : \"et\" et \"ou\"\n",
    "\n",
    "Les tests peuvent être combinés à l'aide des mots-clés \"and\" et \"or\".\n",
    "\n",
    "**Par exemple :**"
   ]
  },
  {
   "cell_type": "code",
   "execution_count": null,
   "metadata": {},
   "outputs": [],
   "source": [
    "x = 4\n",
    "print(\"x=\",x)\n",
    "print(\"x > 0 and x < 5 :\", x > 0 and x < 5) \n",
    "print(\"x < 0 or x < 3 : \", x < 0 or x < 3)  \n",
    "\n",
    "# >> Essayez d'exécuter cette cellule\n",
    "# >> Essayez de faire en sorte que tous les tests soient vrais, en changeant seulement la valeur de x.\n",
    "# (est-ce possible ?)\n",
    "# >> Pouvez-vous essayer de rendre tous les tests faux, en changeant seulement la valeur de x ?"
   ]
  },
  {
   "cell_type": "markdown",
   "metadata": {},
   "source": [
    "***\n",
    "\n",
    "### Rq : \"=\" vs \"==\"\n",
    "Il existe une différence entre le symbole \"=\" utilisé pour l'affectation de variables et le symbole \"==\" utilisé pour comparer deux variables.\n",
    "L'opérateur \"non égal\" est marqué comme \"!=\".\n"
   ]
  },
  {
   "cell_type": "code",
   "execution_count": null,
   "metadata": {},
   "outputs": [],
   "source": [
    "# Cela a du sens avec un nombre, mais qu'en est-il avec du texte ?\n",
    "\n",
    "# >> Pouvez-vous essayer d'afficher le résultat de la comparaison de deux chaînes de caractères ?\n",
    "# >> Remplacez les ... dans le code ci-dessous pour définir des variables et imprimer le résultat de leur comparaison. \n",
    "\n",
    "premiere_variable = \" jm\"\n",
    "seconde_variable = \"jm\"\n",
    "\n",
    "print (\"les deux mots de passe sont ils identiques ?\", premiere_variable == seconde_variable)\n",
    "\n",
    "# >> Peut-on utiliser différents tests \">\", \"<=\", \"!=\" ?\n"
   ]
  },
  {
   "cell_type": "markdown",
   "metadata": {},
   "source": [
    "***\n",
    "\n",
    "### Rq:\n",
    "\n",
    "- == : Cet opérateur vérifie si deux chaînes de caractères sont égales.\n",
    "- != : ...\n",
    "- <, >, <=, >=: Ces opérateurs vérifient l'ordre lexical.\n"
   ]
  },
  {
   "cell_type": "markdown",
   "metadata": {},
   "source": [
    "### Tests et types\n"
   ]
  },
  {
   "cell_type": "code",
   "execution_count": null,
   "metadata": {},
   "outputs": [],
   "source": [
    "# >> Essayez d'exécuter cette cellule.\n",
    "# >> Pouvez-vous expliquez ensuite le résultat.\n",
    "\n",
    "print(18 == \"18\")\n",
    "print(18 == \"dix-huit\")\n",
    "print(\"18\" == \"dix-huit\")\n",
    "print(\"0.1\" == \"0.10\")\n",
    "\n",
    "# >> Pouvez-vous faire en sorte que le dernier test soit vrai sans changer les chiffres ?\n",
    "# >> Pouvez-vous faire en sorte que le dernier test soit vrai sans changer l'opérateur ?"
   ]
  },
  {
   "cell_type": "markdown",
   "metadata": {},
   "source": [
    "### Les déclarations conditionnelles : \"si\" (if)\n",
    "\n",
    "Python permet d'insérer des tests dans un code, afin d'évaluer si une condition est remplie, par exemple. Cela se présente sous la forme suivante :\n",
    "\n",
    "<blockquote>\n",
    "<font color=\"red\"><b>if</b></font> <font color=\"green\">[une certaine condition est vraie]</font> <font color=\"red\"><b>:</b></font><br>\n",
    "&nbsp;&nbsp;&nbsp;&nbsp;<font color=\"blue\">alors, ce \"bloc\" d'instructions est exécuté</font>.\n",
    "</blockquote>    \n",
    "\n",
    "#### Rq : \n",
    "Python utilise \"l'indentation\" (à la place des parenthèses ou des crochets de toute sorte ou de numéros de lignes) pour définir les \" blocs d'instructions \", c'est-à-dire une séquence d'instructions qui suivent un test particulier (ici l'instruction \" condition if \".\n",
    "\n",
    "L'indentation standard de Python est une tabulation ou 4 espaces (rq : toute autre taille d'espace fonctionne, tant qu'elle est cohérente).\n",
    "\n",
    "Le bloc de code se termine lorsqu'on revient à l'indentation précédente.\n",
    "\n",
    "### Voici un exemple d'utilisation de l'instruction \"if\"  :"
   ]
  },
  {
   "cell_type": "code",
   "execution_count": null,
   "metadata": {},
   "outputs": [],
   "source": [
    "# Le code suivant fonctionnerait-il ?\n",
    "\n",
    "age = input (\"Entrez votre age : \")\n",
    "\n",
    "if int(age) >= 18 :\n",
    "    print(\"vous avez plus de 18 ans\")\n",
    "    print(\"vous pouvez passer votre permis de conduire\")\n",
    "    \n",
    "if int(age) < 18 :\n",
    "    print(\"vous ne pouvez pas passer votre permis de conduire\")\n",
    "    \n",
    "# >> Que manque-t-il pour que ce test fonctionne comme prévu ?\n",
    "\n",
    "# >> Que se passe-t-il si vous modifiez l'indentation de l'une ou l'autre des instructions \"print\" ?\n"
   ]
  },
  {
   "cell_type": "markdown",
   "metadata": {},
   "source": [
    "***\n",
    "\n",
    "### Plusieurs conditions peuvent être combinées à l'aide des instructions \"if\" \"elif\" (contraction signifiant \"else if\") et \"else\" :"
   ]
  },
  {
   "cell_type": "code",
   "execution_count": null,
   "metadata": {},
   "outputs": [],
   "source": [
    "age = int(input(\"entrez votre age:\"))\n",
    "\n",
    "\n",
    "if age>=18:\n",
    "    print(\"vous pouvez passer votre examen de permis de conduire\")\n",
    "    if age > 80:\n",
    "        print(\"Vous devez passer une visite médicale\")    \n",
    "elif age>=16 :\n",
    "    print(\"tu peux conduire avec un adulte\")\n",
    "elif age>=14:\n",
    "    print(\"...\")\n",
    "else :\n",
    "    print(\"vous devez encore attendre\", 18-age,\" ans !\")\n",
    "    "
   ]
  },
  {
   "cell_type": "markdown",
   "metadata": {},
   "source": [
    "***\n",
    "\n",
    "## 3. <font color=\"darkred\">Les boucles : répéter une opération</font>.\n",
    "\n",
    "Introduisons d'abord la fonction Python **range()** : <br>\n",
    "**range(nombre_max)** génère une suite d'entiers entre 2 nombres (0 et max_number-1).\n",
    "\n",
    "Cette fonction est souvent utilisée pour \"itérer\" (répéter une série d'instructions) avec la boucle **\"for \"**. <br>\n",
    "\n",
    "Voici le format standard d'une boucle :\n",
    "\n",
    "<blockquote>\n",
    "<font color=\"red\"><b>for</b></font> <font color=\"green\">[une certaine itération est True]</font> <font color=\"red\"><b>:</b></font><br>\n",
    "&nbsp;&nbsp;&nbsp;&nbsp;<font color=\"blue\">exécuter cette instruction</font>.<br>\n",
    "&nbsp;&nbsp;&nbsp;&nbsp;<font color=\"blue\">ansi que celle-ci (si elle se trouve au même niveau d'indentation</font>.\n",
    "</blockquote>\n"
   ]
  },
  {
   "cell_type": "code",
   "execution_count": null,
   "metadata": {},
   "outputs": [],
   "source": [
    "x=range(5)\n",
    "print(x)"
   ]
  },
  {
   "cell_type": "code",
   "execution_count": null,
   "metadata": {},
   "outputs": [],
   "source": [
    "# Utilisez range(N) pour répéter une action N fois :\n",
    "\n",
    "nb=int(input(\"entrez un nb:\"))\n",
    "\n",
    "for i in range(nb):\n",
    "    print(\"hello !\")\n",
    "    print(\"good-bye\")\n"
   ]
  },
  {
   "cell_type": "code",
   "execution_count": null,
   "metadata": {},
   "outputs": [],
   "source": [
    "# Utilisez range(N) pour répéter une action N fois :\n",
    "\n",
    "for i in range(10):\n",
    "    print(\"affiche :\",i)\n",
    "\n"
   ]
  },
  {
   "cell_type": "markdown",
   "metadata": {},
   "source": [
    "***\n",
    "\n",
    "### Boucles (suite) : range(debut, fin-1, pas ):\n",
    "\n",
    "Une plage peut également être définie avec \n",
    "- une valeur de départ (incluse dans la sortie), \n",
    "- une valeur finale (exclue) \n",
    "- et un pas :\n",
    "\n",
    "### Essayez d'exécuter le code dans la cellule suivante : "
   ]
  },
  {
   "cell_type": "code",
   "execution_count": null,
   "metadata": {},
   "outputs": [],
   "source": [
    "for x in range(0,10,2) :\n",
    "  print(x)\n",
    "\n",
    "# >> Que se passe-t-il si l'une des valeurs de début/fin/étape est définie comme un \"float\" ?\n",
    "\n",
    "# >> Pouvez-vous utiliser la fonction range pour n'imprimer que les nombres pairs (0,2,4...) entre 0 et 10 ?\n",
    "\n",
    "# >> Pouvez-vous utiliser la fonction range pour imprimer uniquement les nombres impairs à l'envers (9,7,5...) entre 0 et 10 ?"
   ]
  },
  {
   "cell_type": "markdown",
   "metadata": {},
   "source": [
    "***\n",
    "\n",
    "## 4. <font color=\"darkred\">Listes:</font>\n",
    "\n",
    "Une liste est une collection ordonnée de valeurs.\n",
    "\n",
    "- Elle est définie par les crochets \"[\" et \"]\".\n",
    "- Ses éléments sont séparés par des virgules : \",\"\n",
    "\n",
    "#### Par exemple :\n"
   ]
  },
  {
   "cell_type": "code",
   "execution_count": null,
   "metadata": {},
   "outputs": [],
   "source": [
    "nombres_premiers=[1,2,3,5,7,11,13]\n",
    "\n",
    "print(\"une première liste (de nombres):\",nombres_premiers)\n",
    "\n",
    "une_liste=[\"un\",\"deux\",\"trois\"]\n",
    "print(\"une autre liste (de chaines de caractères):\",une_liste)\n",
    "\n",
    "# >> pouvez-vous essayer d'imprimer le \"type\" de ces variables ?\n",
    "\n",
    "# >> Et si on additionnait deux listes et qu'on imprimait le résultat ?\n",
    "\n",
    "# >> Le nombre d'éléments d'une liste est donné par la fonction len(list) : \n",
    "# pouvez-vous essayer de l'imprimer pour les listes ci-dessus ?\n"
   ]
  },
  {
   "cell_type": "markdown",
   "metadata": {},
   "source": [
    "***\n",
    "\n",
    "### Rq : accès aux éléments d'une liste\n",
    "\n",
    "Les éléments d'une liste peuvent être accédés individuellement ou en groupe :\n",
    "\n",
    "#### Examinez l'exemple ci-dessous :"
   ]
  },
  {
   "cell_type": "code",
   "execution_count": null,
   "metadata": {},
   "outputs": [],
   "source": [
    "#extrait des éléments d'une liste à des positions données :\n",
    "\n",
    "nombres_premiers=[1,2,3,5,7,11,13]\n",
    "\n",
    "print(nombres_premiers[0])\n",
    "print(nombres_premiers[1])\n",
    "print(nombres_premiers[-2])\n",
    "print(nombres_premiers[-1])\n",
    "\n",
    "# >> Pouvez-vous imprimer la valeur du premier élément de la liste ? Quel est son indice ?\n",
    "\n",
    "# >> Pouvez-vous imprimer la valeur \"5\" ? \n",
    "\n",
    "# >> Que se passe-t-il si vous essayez d'imprimer la valeur à 10 (i.e. prime_numbers[10])\n",
    "\n",
    "# >> Que se passe-t-il si vous essayez d'imprimer les nombres premiers[-1] et les nombres premiers[-2]. Est-ce que cela a un sens ? "
   ]
  },
  {
   "cell_type": "markdown",
   "metadata": {},
   "source": [
    "***\n",
    "\n",
    "### Rq: \"itérer\" sur les éléments d'une liste\n",
    "\n",
    "Il est également possible d'\"itérer\" sur les éléments d'une liste en y accédant de manière successive :\n"
   ]
  },
  {
   "cell_type": "code",
   "execution_count": null,
   "metadata": {
    "scrolled": true
   },
   "outputs": [],
   "source": [
    "nombres_premiers=[1,2,3,5,7,11,13,17]\n",
    "\n",
    "liste_reduite=[3,7,11]\n",
    "\n",
    "for nb in nombres_premiers:\n",
    "    if nb in liste_reduite:\n",
    "        j=nb*2\n",
    "        print(\"resultat de la multiplication par 2:\",j)\n",
    "\n",
    "print('---------------------------')\n",
    "\n",
    "print(\"la dernière valeur de nb est:\",nb)\n",
    "    \n",
    "\n",
    "# >> que faire si la liste est composée d'éléments de type chaîne de caractères ?\n",
    "# essayez !\n"
   ]
  },
  {
   "cell_type": "code",
   "execution_count": null,
   "metadata": {},
   "outputs": [],
   "source": [
    "etudiant1=[\"Bertrand\",\"Mazabraud\",36]\n",
    "\n",
    "etudiant2=[\"Marine\",\"Kettani\",16]\n",
    "etudiant3=[\"Jean-Patrick\",\"Meslot\",38]\n",
    "\n",
    "\n",
    "classe=[ etudiant1, etudiant2, etudiant3 ]\n",
    "\n",
    "\n",
    "\n",
    "for etudiant in classe:\n",
    "    print(\"---------------------------\")\n",
    "    print(\"étudiant en cours de test: \", etudiant)\n",
    "    \n",
    "    if etudiant[2] >= 18 :\n",
    "        if \"Bertrand\" in etudiant:\n",
    "            print (\"Salut\",etudiant[0])\n",
    "        else:\n",
    "            print(\"Allez\",etudiant[0], \"allons boire un verre !\")\n",
    "    else:\n",
    "        print(etudiant[0], \"allons boire un jus de fruits !\")\n",
    "        \n",
    "#print(etudiant)\n",
    "\n",
    "  \n",
    "\n",
    "  "
   ]
  },
  {
   "cell_type": "markdown",
   "metadata": {},
   "source": [
    "***\n",
    "\n",
    "### Rq : tester la présence d'éléments dans une liste\n",
    "\n",
    "on peut également tester si un élément appartient à une liste en utilisant le test conditionnel \"in\" :\n",
    "\n"
   ]
  },
  {
   "cell_type": "code",
   "execution_count": null,
   "metadata": {},
   "outputs": [],
   "source": [
    "nombres_premiers=[1,2,3,5,7,11,13]\n",
    "\n",
    "print(7 in nombres_premiers)\n",
    "print(8 in nombres_premiers)\n",
    "\n",
    "# Vous pouvez même faire le test dans une \"boucle\" \n",
    "# (notez les indentations successives for.. et if... !)\n",
    "\n",
    "for nb in range(15) :\n",
    "    if nb in nombres_premiers :\n",
    "        print(nb,\" est un nombre premier\")\n",
    "    else :\n",
    "        print(nb,\"n\\'est pas un nombre premier\")\n",
    "\n",
    "# que se passerait-il si vous décaliez l'indentation de l'instruction \"print\" vers la gauche ?\n",
    "# - une fois ?\n",
    "# - deux fois ?\n",
    "        \n",
    "# >> Pourriez-vous modifier la condition ci-dessus pour afficher un message \n",
    "# lorsque \"nb\" n'est pas dans la liste (c'est-à-dire pas un nombre premier) ?"
   ]
  },
  {
   "cell_type": "markdown",
   "metadata": {},
   "source": [
    "***\n",
    "\n",
    "### Rq : La conversion de chaînes de caractères en listes \n",
    "\n",
    "Les chaînes de caractères peuvent être converties en listes à l'aide de la fonction \"split()\".\n",
    "\n",
    "La fonction split() est appliquée directement à une chaîne de caractères variable par un point comme suit :\n"
   ]
  },
  {
   "cell_type": "code",
   "execution_count": null,
   "metadata": {},
   "outputs": [],
   "source": [
    "un_texte=\"un deux trois quatre etc.\"\n",
    "\n",
    "print(un_texte)\n",
    "print(un_texte.split())\n",
    "\n",
    "liste_des_mots = un_texte.split()\n",
    "\n",
    "print(\"Le dernier mot de cette séquence est :\", liste_des_mots[-1])\n",
    "\n",
    "# RQ: notez que l'instruction \"split\" s'applique ici directement à la variable \"un_texte\" en l'associant à un \".\"\n",
    "\n",
    "# dans ce cas, on suppose que le \"découpage\" est effectué pour chaque \"espace\". \n",
    "# (c'est la valeur par défaut de la fonction split())"
   ]
  },
  {
   "cell_type": "code",
   "execution_count": null,
   "metadata": {},
   "outputs": [],
   "source": [
    "un_texte=input(\"entrez un texte:\")\n",
    "\n",
    "liste_des_mots = un_texte.split()\n",
    "\n",
    "if \"?\" in liste_des_mots[-1]:\n",
    "    print(\"un opérateur va répondre à votre question...\")\n",
    "else:\n",
    "    print(\"merci pour votre commentaire\")\n",
    "        "
   ]
  },
  {
   "cell_type": "code",
   "execution_count": null,
   "metadata": {
    "scrolled": true
   },
   "outputs": [],
   "source": [
    "# Il est également possible de spécifier le caractère utilisé pour séparer les composants d'une chaîne de caractères.\n",
    "\n",
    "# Par exemple, pour créer une liste à partir d'une entrée \"comma separated variables\" (un \"csv\"), \n",
    "# on peut indiquer à la fonction split() d'utiliser \",\" comme séparateur comme suit :\n",
    "\n",
    "un_autre_texte=\"un,deux,trois\"\n",
    "\n",
    "#print(un_autre_texte.split())\n",
    "\n",
    "#print(un_autre_texte.split(\",\"))\n",
    "\n",
    "date=\"12/4/2021\"\n",
    "liste_j_m_a = date.split(\"/\")\n",
    "\n",
    "print(\"date:\",date)\n",
    "print(liste_j_m_a)\n",
    "\n",
    "if liste_j_m_a[2]==\"2022\":\n",
    "    print(\"année en cours\")\n",
    "else:\n",
    "    print(\"trop tard!\")"
   ]
  },
  {
   "cell_type": "code",
   "execution_count": null,
   "metadata": {
    "scrolled": true
   },
   "outputs": [],
   "source": [
    "date = input(\"A quelle date avez-vous acheté votre produit (j/m/a):\")\n",
    "liste_j_m_a = date.split(\"/\")\n",
    "\n",
    "if int(liste_j_m_a[-1]) != 2022:\n",
    "    print(\"année en cours\")\n",
    "else:\n",
    "    print(\"trop tard!\")"
   ]
  },
  {
   "cell_type": "code",
   "execution_count": null,
   "metadata": {},
   "outputs": [],
   "source": [
    "date=\"12/4-2022\"\n",
    "\n",
    "if \"/\" in date:\n",
    "    liste_j_m_a = date.split(\"/\")\n",
    "    print(liste_j_m_a)\n",
    "elif \"-\" in date:\n",
    "    liste_j_m_a = date.split(\"-\")\n",
    "    print(liste_j_m_a)\n",
    "else:\n",
    "    print(\"respectez, s\\'il vous plait, le format (j/m/a) ou (j-m-a) \")"
   ]
  },
  {
   "cell_type": "code",
   "execution_count": null,
   "metadata": {},
   "outputs": [],
   "source": [
    "jour=input(\"entrez le jour:\")\n",
    "mois=input(\"entrez le mois:\")\n",
    "annee=input(\"entrez l\\'année:\")"
   ]
  },
  {
   "cell_type": "markdown",
   "metadata": {},
   "source": [
    "***\n",
    "\n",
    "## Exemple :\n",
    "\n",
    "Mettons en pratique certaines de nos connaissances : \n",
    "\n",
    "### Voici notre objectif\n",
    "### - Nous souhaiterions saisir une liste de nombres séparés par des virgules et retourner leur somme.\n",
    "\n",
    "<br><br>\n",
    "Pouvez-vous essayer d'imaginer les différentes fonctions nécessaires à la réalisation d'un tel programme ?\n",
    "\n",
    "(si non, pas de problème : le code est donné ci-dessous :-)\n",
    "\n",
    "<br><br><br><br><br><br><br><br><br><br><br><br><br><br>\n",
    "\n",
    "\n",
    "\n",
    "\n",
    "\n",
    "\n",
    "\n",
    "\n",
    "\n",
    "\n"
   ]
  },
  {
   "cell_type": "code",
   "execution_count": null,
   "metadata": {},
   "outputs": [],
   "source": [
    "nombres = input(\"Entrez une liste de numéros séparés par des virgules : \")\n",
    "liste_de_nombres = nombres.split(\",\")\n",
    "\n",
    "print(\"Voici nos nombres : \", liste_de_nombres)\n",
    "\n",
    "# Calculer la somme :\n",
    "\n",
    "ma_somme = 0\n",
    "\n",
    "nb_elements=len(liste_de_nombres)\n",
    "\n",
    "for num in liste_de_nombres :\n",
    "    ma_somme = ma_somme + float(num)\n",
    "    \n",
    "print(\"Somme = \", ma_somme)\n",
    "\n",
    "moyenne= ma_somme / nb_elements\n",
    "print(\"Moyenne = \", moyenne)\n",
    "\n",
    "# >> peut on changer \"float\" par \"int\" ? Que se passerait-il ?\n",
    "\n",
    "# >> Comment pourriez-vous modifier le code pour imprimer la valeur moyenne ? \n",
    "# (c'est-à-dire la somme divisée par le nombre d'éléments de la liste)"
   ]
  },
  {
   "cell_type": "markdown",
   "metadata": {},
   "source": [
    "***\n",
    "\n",
    "## 5. <font color=\"darkred\">Fonctions</font>\n",
    "\n",
    "Une fonction est un ensemble d'instructions qui effectue une tâche spécifique. \n",
    "C'est un outil particulièrement utile si le code doit être réutilisé plusieurs fois.\n",
    "\n",
    "- Les fonctions peuvent recevoir des **paramètres** en entrée. \n",
    "- La fonction peut ensuite traiter ces paramètres pour produire des **résultats** attendus.\n",
    "- Ces résultats peuvent être renvoyés en tant que sorties (pour un traitement ultérieur).\n",
    "\n",
    "### La logique est la suivante :\n",
    ".\n",
    "\n",
    "<font color=\"darkred\"><b>paramètre d'entrée </b></font> <b>$-->$</b>  <span style=\"padding: 20px; border: 2px solid black;\"><font color=\"darkgreen\"><b>la fonction fait quelque chose</b></font></span> <b>$-->$</b> <font color=\"blue\"><b>résultats de sortie</b></font>\n",
    "\n",
    "\n",
    "\n",
    ".\n",
    "\n",
    "\n",
    "\n",
    "### Le langage Python est déjà constitué de \"fonctions\"\n",
    "\n",
    "Nous avons déjà rencontré des fonctions :\n",
    "\n",
    "<code>print(\"quelque chose\")</code> est un exemple de fonction Python (la fonction est prédéfinie et fait partie du langage Python dans ce cas). \n",
    "> La fonction print() prend une valeur (une chaîne de caractères, par exemple) en paramètre, et l'affiche à l'écran.\n",
    "\n",
    "\n",
    "### Créer nos propres fontions:\n",
    "\n",
    "Mais nous pouvons également **définir nos propres fonctions**.\n",
    "\n",
    "Le format de base est le suivant (notez que l'indentation compte ici aussi !) \n",
    "\n",
    "<code><font color=\"red\"><b>def</b></font> **ma_fonction**( <font color=\"green\">parametres</font> )<font color=\"red\"><b>:</b></font>\n",
    "    un bloc d'instructions \n",
    "    (attention à l'indentation !!) \n",
    "</code>\n",
    "\n",
    "(Rq : s'il y a plusieurs paramètres d'entrée, ils doivent être séparés par une virgule)\n",
    "\n",
    "<br>\n",
    "Après avoir défini une fonction dans notre code, pour l'appeler, on peut écrire :\n",
    "\n",
    "**ma_fonction**( <font color=\"green\">parametres</font> ).\n",
    "\n",
    "***\n",
    "\n",
    "### Essayons-le sur un premier exemple :\n",
    "\n",
    "- Nous souhaiterions implémenter notre propre fonction d'affichage (nous l'appellerons \"mon_affichage()\".\n",
    "- Elle prendra une chaîne de caractères en entrée\n",
    "- et affichera la chaîne précédée de \">>\"."
   ]
  },
  {
   "cell_type": "code",
   "execution_count": null,
   "metadata": {},
   "outputs": [],
   "source": [
    "#-----------------------------------------------\n",
    "# Nous commençons par définir (def) la fonction :\n",
    "\n",
    "def mon_affichage(mon_texte) :\n",
    "    print(\"-------------\") \n",
    "    print(\">>\",mon_texte)\n",
    "    print(\">>\",mon_texte)\n",
    "    print(\"-------------\")\n",
    "    \n",
    "#-----------------------------------------------\n",
    "# Et voilà! Nous avons défini notre fonction!..    \n",
    "#-----------------------------------------------\n",
    "\n",
    "\n",
    "#-----------------------------------------------\n",
    "# Demandons à l'utilisateur de saisir un texte :\n",
    "message = input(\"entrez un texte\")\n",
    "\n",
    "#-----------------------------------------------\n",
    "#...et maintenant nous pouvons \"appeler\" la fonction :\n",
    "mon_affichage( message )\n",
    "\n",
    "\n",
    "    \n",
    "# >> Pouvez-vous modifier cette fonction pour imprimer deux fois le texte entré ?\n"
   ]
  },
  {
   "cell_type": "code",
   "execution_count": null,
   "metadata": {},
   "outputs": [],
   "source": [
    "# >> Que diriez-vous d'une fonction qui peut afficher un texte plusieurs fois en fonction d'un paramètre ?\n",
    "\n",
    "# La fonction prend maintenant 2 paramètres : un texte et un nombre.\n",
    "\n",
    "def mon_affichage_multiple(un_texte, nb) :\n",
    "    for i in range(nb) :\n",
    "        print(\">>\",un_texte)\n",
    "    \n",
    "# Et voilà ! Notre seconde fonction !    \n",
    "    \n",
    "# Demandons à l'utilisateur de saisir un texte :\n",
    "message = input(\"enter some text :\")\n",
    "nombre = int(input(\"entrez un nombre entier :\"))\n",
    "\n",
    "#...et maintenant nous pouvons \"appeler\" la fonction avec les 2 paramètres :\n",
    "mon_affichage_multiple( message, nombre )\n",
    "    \n",
    "\n",
    "# >> Pouvez-vous modifier le code pour que le nombre d'impressions soit obtenu à partir d'une deuxième requête d'entrée ?\n",
    "# (Gardez à l'esprit que la fonction \"input()\" renvoie une chaîne de caractères ...)"
   ]
  },
  {
   "cell_type": "markdown",
   "metadata": {},
   "source": [
    "***\n",
    "\n",
    "### Les fonctions peuvent également retourner des valeurs :\n",
    "\n",
    "<code><font color=\"red\"><b>def</b></font> **ma_fonction**( <font color=\"green\">paramètre</font> )<font color=\"red\"><b>:</b></font>\n",
    "    un ensemble d'instructions... détermine la valeur d'une variable, p.ex. \"mon_resultat\"\n",
    "    <font color=\"magenta\">return</font> mon_resultat\n",
    "</code>\n",
    "\n",
    "\n",
    "Après avoir défini une fonction dans le code, pour l'appeler, on peut écrire \n",
    "(en mettant la valeur retournée dans une variable appelée \"mon_résultat\" ici) :\n",
    "\n",
    "ce_resultat = **ma_fonction**( <font color=\"green\">parametre</font> )"
   ]
  },
  {
   "cell_type": "code",
   "execution_count": 1,
   "metadata": {},
   "outputs": [
    {
     "name": "stdout",
     "output_type": "stream",
     "text": [
      "Entrez une liste de nombres séparés par des virgules : 2,3\n",
      "Voici nos nombres :  ['2', '3']\n",
      "Somme =  5.0\n",
      "carre de la somme =  25.0\n"
     ]
    }
   ],
   "source": [
    "# Définissons d'abord une fonction qui prend une liste de nombres en entrée \n",
    "# et renvoie leur somme (comme nous l'avons fait dans l'exemple précédent...)\n",
    "\n",
    "#=========================================\n",
    "# Fonction ma_somme\n",
    "# entrees : sequence de caracteres contenant une liste de nombres spearés par des virgules\n",
    "# sortie: la somme de ces nombres\n",
    "#-----------------------------------------\n",
    "def ma_somme ( input_sequence_de_nombres ) :\n",
    "    print(\"Voici nos nombres : \", input_sequence_de_nombres )\n",
    "\n",
    "    ma_somme = 0\n",
    "    \n",
    "    for num in input_sequence_de_nombres :\n",
    "        ma_somme = ma_somme + float(num)\n",
    "            \n",
    "    return ma_somme\n",
    "   \n",
    "    \n",
    "    \n",
    "# Maintenant, nous pouvons utiliser cette fonction comme bon nous semble :\n",
    "    \n",
    "nombres = input(\"Entrez une liste de nombres séparés par des virgules : \")\n",
    "liste_de_nombres = nombres.split(\",\")\n",
    "\n",
    "somme = ma_somme ( liste_de_nombres )\n",
    "carre=somme*somme\n",
    "\n",
    "print(\"Somme = \", somme)\n",
    "print(\"carre de la somme = \", carre)\n",
    "\n",
    "\n",
    "# >> Pouvez-vous créer une fonction qui calcule la moyenne d'une séquence de nombres ? \n"
   ]
  },
  {
   "cell_type": "code",
   "execution_count": null,
   "metadata": {},
   "outputs": [],
   "source": []
  }
 ],
 "metadata": {
  "kernelspec": {
   "display_name": "Python 3",
   "language": "python",
   "name": "python3"
  },
  "language_info": {
   "codemirror_mode": {
    "name": "ipython",
    "version": 3
   },
   "file_extension": ".py",
   "mimetype": "text/x-python",
   "name": "python",
   "nbconvert_exporter": "python",
   "pygments_lexer": "ipython3",
   "version": "3.6.7"
  }
 },
 "nbformat": 4,
 "nbformat_minor": 4
}
