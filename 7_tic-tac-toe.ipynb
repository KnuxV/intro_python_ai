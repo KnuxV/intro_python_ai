{
 "cells": [
  {
   "cell_type": "markdown",
   "id": "a30aa590",
   "metadata": {},
   "source": [
    "In this project, we'll build a complete Tic-Tac-Toe game step by step.\n",
    "We'll learn about:\n",
    "- Lists and 2D lists (lists of lists)\n",
    "- Functions with parameters and return values\n",
    "- Control flow (if/else, loops)\n",
    "- User input\n",
    "- Game logic\n",
    "\n",
    "By the end, you'll have a working two-player game!\n"
   ]
  },
  {
   "cell_type": "markdown",
   "id": "3148a659",
   "metadata": {},
   "source": [
    "**Visual representation:**\n",
    "```\n",
    "     0   1   2\n",
    "   +---+---+---+\n",
    " 0 |   |   |   |\n",
    "   +---+---+---+\n",
    " 1 |   |   |   |\n",
    "   +---+---+---+\n",
    " 2 |   |   |   |\n",
    "   +---+---+---+\n",
    "```\n",
    "\n",
    "**How we access it in code:** `board[row][column]`\n",
    "\n",
    "| Position | Code |\n",
    "|----------|------|\n",
    "| Top-left | `board[0][0]` |\n",
    "| Top-middle | `board[0][1]` |\n",
    "| Top-right | `board[0][2]` |\n",
    "| Middle-left | `board[1][0]` |\n",
    "| Center | `board[1][1]` |\n",
    "| Middle-right | `board[1][2]` |\n",
    "| Bottom-left | `board[2][0]` |\n",
    "| Bottom-middle | `board[2][1]` |\n",
    "| Bottom-right | `board[2][2]` |\n",
    "\n",
    "**IMPORTANT:** We use 0-indexing in Python!\n",
    "- Row 0 = first row (top)\n",
    "- Row 2 = third row (bottom)\n",
    "- Column 0 = first column (left)\n",
    "- Column 2 = third column (right)\n"
   ]
  },
  {
   "cell_type": "code",
   "execution_count": 2,
   "id": "a59bc70e-db1a-4fb5-8d17-cbf6d436bf40",
   "metadata": {},
   "outputs": [],
   "source": [
    "board = \\\n",
    "[\n",
    "[\" \", \" \", \" \"],\n",
    "[\" \", \" \", \" \"],\n",
    "[\" \", \" \", \" \"]\n",
    "]"
   ]
  },
  {
   "cell_type": "code",
   "execution_count": 3,
   "id": "5a913915-df52-47cd-80fb-49f1626b4dc8",
   "metadata": {},
   "outputs": [
    {
     "data": {
      "text/plain": [
       "[[' ', ' ', ' '], [' ', ' ', ' '], [' ', ' ', ' ']]"
      ]
     },
     "execution_count": 3,
     "metadata": {},
     "output_type": "execute_result"
    }
   ],
   "source": [
    "board"
   ]
  },
  {
   "cell_type": "code",
   "execution_count": 9,
   "id": "dd09b8b5-50ca-43b1-a48f-c2d0b75094c2",
   "metadata": {},
   "outputs": [
    {
     "name": "stdout",
     "output_type": "stream",
     "text": [
      "Board with some X's and O placed:\n",
      "[[' ', ' ', 'O'], [' ', ' ', 'X'], [' ', 'X', ' ']]\n",
      "\n",
      "Let's make this prettier...\n",
      "\n"
     ]
    }
   ],
   "source": [
    "board[2][1] = \"X\" # This is the third row, second column\n",
    "board[1][2] = \"X\" # This is the second row, third column\n",
    "board[0][2] = \"O\" # This is the first row, third column\n",
    "print(\"Board with some X's and O placed:\")\n",
    "print(board)\n",
    "print(\"\\nLet's make this prettier...\\n\")"
   ]
  },
  {
   "cell_type": "code",
   "execution_count": 10,
   "id": "0d124187-e08c-4f59-87d8-3e30e9258713",
   "metadata": {},
   "outputs": [],
   "source": [
    "def print_board(game_board):\n",
    "       print(\"\\n\")\n",
    "       for i, row in enumerate(game_board):\n",
    "           print(\" | \".join(row))\n",
    "           if i < 2:\n",
    "               print(\"---------\")"
   ]
  },
  {
   "cell_type": "code",
   "execution_count": 11,
   "id": "d72cd9fb-099b-4a4c-8266-d144ae91a0b0",
   "metadata": {},
   "outputs": [
    {
     "name": "stdout",
     "output_type": "stream",
     "text": [
      "\n",
      "\n",
      "  |   | O\n",
      "---------\n",
      "  |   | X\n",
      "---------\n",
      "  | X |  \n"
     ]
    }
   ],
   "source": [
    "print_board(board)"
   ]
  },
  {
   "cell_type": "code",
   "execution_count": null,
   "id": "b451ff16-4810-4843-b41f-3d53ffffbf52",
   "metadata": {},
   "outputs": [],
   "source": [
    "def reinitialize_board():\n",
    "    # This creates a new board\n",
    "    empty_board = \\\n",
    "[\n",
    "[\" \", \" \", \" \"],\n",
    "[\" \", \" \", \" \"],\n",
    "[\" \", \" \", \" \"]\n",
    "]\n",
    "    return empty_board\n",
    "\n",
    "board = reinitialize_board()\n",
    "print_board(board)"
   ]
  },
  {
   "cell_type": "markdown",
   "id": "97c4f093",
   "metadata": {},
   "source": [
    "We need to track whose turn it is. We do this by counting how many X's and O's\n",
    "are already on the board:\n",
    "- If there are equal numbers (or more X's), it's X's turn\n",
    "- If there are more X's than O's, it's O's turn\n",
    "\n",
    "This is clever because we don't need a separate variable to track turns!"
   ]
  },
  {
   "cell_type": "code",
   "execution_count": 10,
   "id": "13152e23-6296-40ac-832a-ad7d0a9e3a4d",
   "metadata": {},
   "outputs": [],
   "source": [
    "def check_player_turn(game_board):\n",
    "    \"\"\" Returns the player who needs to play, either X or O \"\"\"\n",
    "    \n",
    "    # we count how many X and how many O\n",
    "    total_X = 0\n",
    "    total_O = 0\n",
    "    for row in game_board: # we iterate over each row\n",
    "        for cell in row: # we iterate over each column in the row\n",
    "            if cell == \"X\":\n",
    "                total_X = total_X + 1\n",
    "            elif cell == \"O\":\n",
    "                total_O += 1 # same way to write it\n",
    "    # we return O, if there is more X on the board, else we return X.\n",
    "    if total_X > total_O :\n",
    "        return \"O\"\n",
    "    else:\n",
    "        return \"X\""
   ]
  },
  {
   "cell_type": "markdown",
   "id": "335ccee6",
   "metadata": {},
   "source": [
    "Before we let a player make a move, we need to check:\n",
    "1. Is the position inside the board? (row and column between 0-2)\n",
    "2. Is it the correct player's turn?\n",
    "3. Is the cell empty?"
   ]
  },
  {
   "cell_type": "code",
   "execution_count": 11,
   "id": "e61ced1a-9efc-4318-9737-0d058cfee18c",
   "metadata": {},
   "outputs": [],
   "source": [
    "def valid_move(game_board, player, row, column):\n",
    "    if row >= 3 or row < 0:\n",
    "        print(\"The move is outside the board\")\n",
    "        return False\n",
    "    if column >=3 or column < 0:\n",
    "        print(\"The move is outside the board\")\n",
    "        return False\n",
    "    \n",
    "    if player != check_player_turn(game_board):\n",
    "        print(f\"This is not {player}'s turn !\")\n",
    "        return False\n",
    "    \n",
    "    if game_board[row][column] == \" \":\n",
    "        return True\n",
    "    else:\n",
    "        return False"
   ]
  },
  {
   "cell_type": "code",
   "execution_count": 12,
   "id": "a3e89b47-34e3-4169-b6bf-dead604f5a87",
   "metadata": {},
   "outputs": [],
   "source": [
    "def play_move(game_board, player, row, column):\n",
    "    \"\"\" Add a move to the board \"\"\"\n",
    "    # check if the cell is empty\n",
    "    if not valid_move(game_board, player, row, column):\n",
    "        print(\"The move is not valid\")\n",
    "    else:\n",
    "        game_board[row][column] = player\n",
    "    \n",
    "    return game_board\n",
    "              "
   ]
  },
  {
   "cell_type": "code",
   "execution_count": 56,
   "id": "f2a14a72-5017-4b67-9424-805fd0f1d6dd",
   "metadata": {},
   "outputs": [
    {
     "name": "stdout",
     "output_type": "stream",
     "text": [
      "This is not X's turn !\n",
      "The move is not valid\n",
      "[' ', ' ', ' ']\n",
      "[' ', ' ', 'X']\n",
      "[' ', ' ', ' ']\n"
     ]
    }
   ],
   "source": [
    "board = play_move(board, \"X\", 1, 1)\n",
    "print_board(board)"
   ]
  },
  {
   "cell_type": "markdown",
   "id": "ca72c07b",
   "metadata": {},
   "source": [
    "A player wins if they have three in a row:\n",
    "- Horizontally (any row: XXX)\n",
    "- Vertically (any column: X above X above X)\n",
    "- Diagonally (top-left to bottom-right OR top-right to bottom-left)\n",
    "\n",
    "We need to check all these possibilities!"
   ]
  },
  {
   "cell_type": "code",
   "execution_count": 14,
   "id": "52bdc49a-4c45-4301-acf6-1806052dc184",
   "metadata": {},
   "outputs": [],
   "source": [
    "def check_winner(game_board):\n",
    "    # check rows\n",
    "    for row in game_board:\n",
    "        if row[0] != \" \" and (row[0] == row[1] == row[2]):\n",
    "            return row[0]\n",
    "    # check columns\n",
    "    for col in range(3):\n",
    "        if game_board[0][col] != \" \" and (game_board[0][col] == game_board[1][col] == game_board[2][col]):\n",
    "            return game_board[0][col]\n",
    "    # check diagonals\n",
    "    if game_board[0][0] != \" \" and (game_board[0][0] == game_board[1][1] == game_board[2][2]):\n",
    "        return game_board[0][0]\n",
    "    if game_board[0][2] != \" \" and (game_board[0][2] == game_board[1][1] == game_board[2][0]):\n",
    "        return game_board[0][2]\n",
    "    # IF we don't return anything before it means there is no winner\n",
    "    return False\n",
    "        "
   ]
  },
  {
   "cell_type": "code",
   "execution_count": null,
   "id": "fa795300-0d97-4d5b-bb9f-f667b0f152f3",
   "metadata": {},
   "outputs": [],
   "source": [
    "def is_board_full(game_board):\n",
    "    # We check every cell in the board, as soon as we find one that is empty we return False\n",
    "    for row in game_board:\n",
    "        for cell in row:\n",
    "            if cell == \" \":\n",
    "                return False\n",
    "    # if we don't find one empty, we return True because the board is full\n",
    "    return True"
   ]
  },
  {
   "cell_type": "markdown",
   "id": "fd81b7fe",
   "metadata": {},
   "source": [
    "Now it's your turn to build the main game loop!\n",
    "\n",
    "The game should:\n",
    "1. Show the board to the players\n",
    "2. Tell them whose turn it is\n",
    "3. Ask for their move (row and column)\n",
    "4. Make the move on the board\n",
    "5. Check if someone won or if it's a draw\n",
    "6. Keep playing until the game ends\n",
    "\n",
    "Hint: We've already built all the functions you need!\n",
    "- print_board(board)\n",
    "- check_player_turn(board)\n",
    "- play_move(board, player, row, col)\n",
    "- check_winner(board)\n",
    "- is_board_full(board)"
   ]
  },
  {
   "cell_type": "code",
   "execution_count": null,
   "id": "70578a64-b6f9-4b31-86df-7da584bdd687",
   "metadata": {},
   "outputs": [],
   "source": [
    "board = reinitialize_board()\n",
    "\n",
    "while True:\n",
    "    # TODO 1: Display the board\n",
    "    # Use the print_board() function\n",
    "    \n",
    "    \n",
    "    # TODO 2: Figure out whose turn it is\n",
    "\n",
    "    \n",
    "    \n",
    "    # TODO 3: Ask the player for their move\n",
    "\n",
    "    \n",
    "    \n",
    "    # TODO 4: Try to make the move\n",
    "\n",
    "    \n",
    "    \n",
    "    # TODO 5: Check if someone won\n",
    "    # Use check_winner(board) - it returns the winner or False\n",
    "    # If there's a winner:\n",
    "    #   - Print the board one last time\n",
    "    #   - Print who won\n",
    "    #   - Break out of the loop\n",
    "    \n",
    "    \n",
    "    # TODO 6: Check if it's a draw\n",
    "    # Use is_board_full(board)\n",
    "    # If the board is full:\n",
    "    #   - Print the board\n",
    "    #   - Print \"It's a draw!\"\n",
    "    #   - Break out of the loop\n",
    "    \n",
    "    \n",
    "    # If neither condition is met, the loop continues to the next turn!"
   ]
  }
 ],
 "metadata": {
  "kernelspec": {
   "display_name": "Python 3",
   "language": "python",
   "name": "python3"
  },
  "language_info": {
   "codemirror_mode": {
    "name": "ipython",
    "version": 3
   },
   "file_extension": ".py",
   "mimetype": "text/x-python",
   "name": "python",
   "nbconvert_exporter": "python",
   "pygments_lexer": "ipython3",
   "version": "3.13.7"
  }
 },
 "nbformat": 4,
 "nbformat_minor": 5
}
