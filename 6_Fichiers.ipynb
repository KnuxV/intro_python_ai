{
 "cells": [
  {
   "cell_type": "markdown",
   "metadata": {},
   "source": [
    "# Manipulation de fichiers textuels\n",
    "\n",
    "\n",
    "## Sommaire\n",
    "\n",
    "- [Introduction](#Introduction)\n",
    "- [Utilisation de fichiers dans un programme Python](#Utilisation-de-fichiers-dans-un-programme-Python)\n",
    "    - [Étapes d'utilisation d'un fichier](#Étapes-d'utilisation-d'un-fichier)\n",
    "    - [Accès à des fichiers : ouverture et fermeture](#Accès-à-des-fichiers-:-ouverture-et-fermeture)\n",
    "    - [Rappel : Notion d'encodage](#Rappel-:-Notion-d'encodage)\n",
    "    - [Lecture d'un fichier](#Lecture-d'un-fichier)\n",
    "    - [Écriture dans un fichier](#Écriture-dans-un-fichier)\n",
    "    - [Tests sur les fichiers](#Tests-sur-les-fichiers)\n",
    "- [✏️ Exercice : copie d'un fichier](#✏️-Exercice-:-copie-d'un-fichier)\n",
    "- [✏️ Exercice : moyenne](#✏️-Exercice-:-moyenne)\n",
    "- [✏️ Exercice : ajout dans un fichier](#✏️-Exercice-:-ajout-dans-un-fichier)\n",
    "- [✏️ Exercice : minimum et maximum](#✏️-Exercice-:-minimum-et-maximum)\n",
    "- [✏️ Exercice : cumul](#✏️-Exercice-:-cumul)\n",
    "- [✏️ Exercice : éclatement d'un fichier](#✏️-Exercice-:-éclatement-d'un-fichier)\n",
    "- [✏️ Exercice : écriture de conjugaisons](#✏️-Exercice-:-écriture-de-conjugaisons)\n",
    "- [Exemple de manipulation de fichiers tabulés](#Exemple-de-manipulation-de-fichiers-tabulés)\n",
    "    - [Décompte du nombre de villes par hémisphère](#Décompte-du-nombre-de-villes-par-hémisphère)\n",
    "    - [Décompte du nombre de villes par latitude](#Décompte-du-nombre-de-villes-par-latitude)"
   ]
  },
  {
   "cell_type": "markdown",
   "metadata": {},
   "source": [
    "# Manipulation de fichiers textuels\n",
    "\n",
    "\n",
    "## Introduction\n",
    "Les fichiers **textuels** sont des fichiers lisibles par un éditeur (comme Notepad++), par opposition aux fichiers **binaires** (images, vidéos, sons, exécutables, etc.), dont la manipulation est plus complexe. Les fichiers textuels ont généralement pour extension `.txt`, mais on trouve également des fichiers tabulés (extension : `.csv`) ou balisés (extension : `.html`, `.xml`, etc.), ainsi que d'autres types de formats (programmes dans divers langages, fichiers CSS, fichiers produits par des logiciels spécifiques, etc.)\n",
    "\n",
    "<!--<div class=\"alert alert-success\">\n",
    "\n",
    "Regarder les vidéos suivantes sur YouTube et tester le code Python dans la cellule ci-dessous, prévue à cet effet :\n",
    "\n",
    "- <a href=\"https://www.youtube.com/watch?v=VRdp_vaNRoY\">INTRODUCTION AU LANGAGE BINAIRE</a> - durée : 7 min 26 (présentation très simplifiée, clairement destinée à des personnes plus jeunes, mais qui a l'avantage d'être très compréhensible)\n",
    "- <a href=\"https://www.youtube.com/watch?v=IAbX7eUT2Qc\">conversion binaire décimal</a> - durée : 1 min 55\n",
    "- <a href=\"https://www.youtube.com/watch?v=q_F4ffWPUzE\">2.1 Codage, jeux de caractères et Unicode</a> - durée : 6 min 34\n",
    "- <a href=\"https://www.youtube.com/watch?v=WU8wry_x6-A\">3.1 Les fichiers 1/2</a> - durée : 10 min 13\n",
    "    - Pour tester, au lieu du chemin `r'c:\\temp\\'`, indiquez plutôt le chemin vers un dossier qui existe sur votre machine (le dossier `c:\\temp` n'existe peut-être pas sur votre machine). N'oubliez pas d'accoler le nom du fichier à créer, soit `spam.txt`, par exemple `C:\\Users\\dbernhard\\CoursPython\\spam.txt` (il s'agit d'un exemple, à remplacer par un chemin existant sur votre machine !). Vous pouvez aussi indiquer uniquement le nom du fichier, sous la forme `f = open(r'spam.txt', 'w', encoding='utf8')`. Dans ce cas, le fichier `spam.txt` sera créé dans le dossier dans lequel se trouve le notebook.\n",
    "- <a href=\"https://www.youtube.com/watch?v=hN0R0X70d5w\">3.1 Les fichiers 2/2</a> - durée : 5 min 42\n",
    "\n",
    "</div>-->\n"
   ]
  },
  {
   "cell_type": "markdown",
   "metadata": {},
   "source": [
    "## Utilisation de fichiers dans un programme Python\n",
    "\n",
    "### Étapes d'utilisation d'un fichier\n",
    "\n",
    "On distingue 3 étapes :\n",
    "1. Ouverture du fichier\n",
    "1. Lecture ou écriture\n",
    "1. Fermeture du fichier pour indiquer que le fichier ne sera plus utilisé par le programme\n",
    "\n",
    "### Accès à des fichiers : ouverture et fermeture\n",
    "\n",
    "Les accès aux fichiers s'effectuent par l'intermédiaire de variables particulières. L'ouverture d'un fichier se fait à l'aide de la fonction `open()`. Cette fonction prend trois paramètres :\n",
    "1. Une chaîne de caractères qui indique où trouver le fichier (chemin d'accès et nom du fichier)\n",
    "1. Le mode d'ouverture (lecture `r`, écriture `w`, ajout `a` ; l'ajout d'un `b` au mode indique un mode d'ouverture binaire, par exemple `bw` indique mode binaire et écriture)\n",
    "1. L'encodage des caractères du fichier (à toujours spécifier, pour éviter les problèmes de lecture des caractères non ascii)\n",
    "\n",
    "L'ouverture d'un fichier se fait avec un gestionnaire de contexte, qui va garantir que le fichier sera bien accessible à l'intérieur du contexte et fermé en sortie. Un contexte est introduit avec le mot clé `with` :"
   ]
  },
  {
   "cell_type": "code",
   "execution_count": null,
   "metadata": {},
   "outputs": [],
   "source": [
    "with open(\"input/doc.txt\", \"r\", encoding=\"utf8\") as f:\n",
    "    # Traitements utilisant f\n",
    "    pass"
   ]
  },
  {
   "cell_type": "markdown",
   "metadata": {},
   "source": [
    "<div class=\"alert alert-block alert-warning\">\n",
    "\n",
    "La portion de code ci-dessus cherche à ouvrir un fichier nommé `doc.txt` se trouvant dans le dossier `input`. Le dossier `input` est un sous-dossier du dossier dans lequel se trouve le notebook courant.\n",
    "\n",
    "Il faut donc :\n",
    "\n",
    "- créer un dossier appelé `input` dans le dossier contenant votre notebook. Vous pouvez aussi en profiter pour créer un dossier `output` qui sera nécessaire pour la suite.\n",
    "- y placer un fichier appelé `doc.txt` (vous pouvez télécharger le fichier `doc.txt` se trouvant ici : https://git.unistra.fr/dbernhard/pythonm1s1/-/tree/master/input). Vous pourrez procéder de même pour les autres fichiers du dossier `input` dans la suite du notebook.\n",
    "\n",
    "</div>"
   ]
  },
  {
   "cell_type": "markdown",
   "metadata": {},
   "source": [
    "Le chemin d'accès peut-être **absolu**, par rapport à la racine de l'arborescence de fichiers, ou **relatif**, par rapport au répertoire courant (*current working directory*). Le répertoire courant peut-être :\n",
    "- le répertoire qui contient le script Python\n",
    "- le répertoire utilisé au lancement (lancement via une console)\n",
    "- un autre répertoire, si le répertoire courant a été modifié dans le programme par exemple.\n",
    "\n",
    "Sous Windows, les chemins d'accès sont généralement séparés par la barre oblique inverse `\\`, qui est également\n",
    "le caractère d'échappement dans les chaînes de caractères. Il existe plusieurs solutions pour éviter d'éventuels\n",
    "problèmes :\n",
    "- doubler tous les \\ : `\"C:\\\\Users\\\\image\\\\Documents\\\\Python\\\\fichier.txt\"`\n",
    "- utiliser des chaînes littérales brutes (raw string) : dans ce cas, `\\` n'est pas considéré comme un caractère d'échappement mais tout simplement comme le caractère `\\`. Pour cela, il faut préfixer le premier guillemet avec r : `r\"C:\\Users\\image\\Documents\\Python\\fichier.txt\"`\n",
    "- utiliser le séparateur / comme sous Linux : `\"C:/Users/image/Documents/Python/fichier.txt\"`"
   ]
  },
  {
   "cell_type": "markdown",
   "metadata": {},
   "source": [
    "<div class=\"alert alert-block alert-danger\">\n",
    "\n",
    "⛔ D'une manière générale, IL FAUT ABSOLUMENT EVITER LES CHEMINS ABSOLUS DANS LES PROGRAMMES.\n",
    "\n",
    "</div>"
   ]
  },
  {
   "cell_type": "markdown",
   "metadata": {},
   "source": [
    "### Rappel : Notion d'encodage\n",
    "Les données de texte brut sont stockées en attribuant à chaque caractère une valeur numérique spécifique. Ces valeurs dépendent de normes établies ou codes.\n",
    "\n",
    "Il existe différents codes, souvent incompatibles entre eux :\n",
    "- ASCII : 128 caractères (aucun caractère accentué)\n",
    "- ISO-Latin1 ou ISO-8859-15 : codage des langues d'Europe occidentale\n",
    "- ISO-Latin9 ou ISO-8859-15 : mise à jour de Latin1 (euro, ligatures)\n",
    "- Cp1252 ou Windows-1252 : défini par Microsoft (caractères supplémentaires : guillemets, apostrophes, etc.)\n",
    "- UTF-8 (encodage Unicode) : codage universel"
   ]
  },
  {
   "cell_type": "markdown",
   "metadata": {},
   "source": [
    "### Lecture d'un fichier\n",
    "La lecture d'un fichier se fait de manière séquentielle, en commençant au début du fichier. Lorsque l'on ouvre un fichier en mode lecture, le curseur de lecture se place en tout début de fichier, avant le premier caractère. Il existe différentes manières de lire le contenu d'un fichier :"
   ]
  },
  {
   "cell_type": "code",
   "execution_count": null,
   "metadata": {},
   "outputs": [],
   "source": [
    "# Lecture du fichier dans sa totalité\n",
    "with open(\"input/doc.txt\", \"r\", encoding='utf8') as f:\n",
    "    s = f.read() #La chaîne de caractères s contient la totalité du contenu\n",
    "    print(s)"
   ]
  },
  {
   "cell_type": "code",
   "execution_count": null,
   "metadata": {},
   "outputs": [],
   "source": [
    "# Lecture du fichier dans sa totalité\n",
    "with open(\"input/doc.txt\", \"r\", encoding='utf8') as f:\n",
    "    t = f.readlines() #La liste t contient l'ensemble des lignes du fichier\n",
    "    print(t)"
   ]
  },
  {
   "cell_type": "code",
   "execution_count": null,
   "metadata": {},
   "outputs": [],
   "source": [
    "# Lecture du fichier en partie\n",
    "with open(\"input/doc.txt\", \"r\", encoding='utf8') as f:\n",
    "    s  = f.read(3) #Lit au plus 3 caractères en mode texte\n",
    "    print(s)\n",
    "    l = f.readline() #Lit la prochaine ligne disponible (la fin de ligne est lue également)\n",
    "    print(l)"
   ]
  },
  {
   "cell_type": "code",
   "execution_count": null,
   "metadata": {},
   "outputs": [],
   "source": [
    "# Lecture du fichier ligne par ligne \n",
    "# (méthode à privilégier dans la majorité des cas, notamment si le fichier est de grande taille)\n",
    "with open(\"input/doc.txt\", \"r\", encoding='utf8') as f:\n",
    "    for ligne in f :\n",
    "        print(ligne.rstrip()) # rstrip() permet de supprimer le retour chariot"
   ]
  },
  {
   "cell_type": "markdown",
   "metadata": {},
   "source": [
    "### Écriture dans un fichier\n",
    "\n",
    "Lors de l'écriture dans un fichier, les chaînes de caractères sont ajoutées les unes à la suite des autres :"
   ]
  },
  {
   "cell_type": "code",
   "execution_count": null,
   "metadata": {},
   "outputs": [],
   "source": [
    "with open(\"output/doc2.txt\", \"w\", encoding='utf8') as f: # Spécifier l'option w\n",
    "    s = \"ligne1\\n\"\n",
    "    f.write(s) # écrit la chaîne s dans f\n",
    "    l = [\"ligne2\\n\", \"ligne3\\n\", \"ligne4\\n\"]\n",
    "    f.writelines(l) # écrit les chaînes présentes dans la liste l dans f"
   ]
  },
  {
   "cell_type": "markdown",
   "metadata": {},
   "source": [
    "### Tests sur les fichiers\n",
    "\n",
    "Avant d'ouvrir un fichier, il peut être utile de vérifier son existence :"
   ]
  },
  {
   "cell_type": "code",
   "execution_count": null,
   "metadata": {},
   "outputs": [],
   "source": [
    "from pathlib import Path\n",
    "\n",
    "chemin = 'C:/Users/image/Python/test.txt'\n",
    "path = Path(chemin)\n",
    "if path.exists() and path.is_file() :\n",
    "    with open(chemin, 'r', encoding='utf8') as f:\n",
    "        # Traitements sur f\n",
    "        pass\n",
    "else:\n",
    "    print(f'Le fichier {chemin} est introuvable')"
   ]
  },
  {
   "cell_type": "markdown",
   "metadata": {},
   "source": [
    "## ✏️ Exercice : copie d'un fichier\n",
    "\n",
    "Écrire un programme Python qui copie un fichier. Afin de vérifier que la copie a bien été effectuée, le programme affichera également le contenu de la copie du fichier à l'écran."
   ]
  },
  {
   "cell_type": "code",
   "execution_count": null,
   "metadata": {},
   "outputs": [],
   "source": [
    "# Exercice : copie d'un fichier"
   ]
  },
  {
   "cell_type": "markdown",
   "metadata": {},
   "source": [
    "## ✏️ Exercice : moyenne\n",
    "\n",
    "On considère une séquence d'entiers sauvegardée dans un fichier (un entier par ligne). Écrire un programme qui calcule et affiche la moyenne des entiers positifs contenus dans la séquence.\n",
    "Pour tester le programme, vous pourrez utiliser le fichier `nombres.txt` qui contient un entier par ligne."
   ]
  },
  {
   "cell_type": "code",
   "execution_count": null,
   "metadata": {},
   "outputs": [],
   "source": [
    "# Exercice : moyenne"
   ]
  },
  {
   "cell_type": "markdown",
   "metadata": {},
   "source": [
    "## ✏️ Exercice : ajout dans un fichier\n",
    "Écrire un programme qui réalise les opérations suivantes :\n",
    "1. Ouvrir un fichier pour y écrire les lignes saisies par l'utilisateur au clavier ;\n",
    "2. Chaque ligne saisie au clavier est immédiatement écrite dans le fichier. L'utilisateur indique la fin de la saisie avec le caractère 'X' ;\n",
    "3. Après la sortie de boucle, afficher le contenu du fichier créé."
   ]
  },
  {
   "cell_type": "code",
   "execution_count": null,
   "metadata": {},
   "outputs": [],
   "source": [
    "# Exercice : ajout dans un fichier"
   ]
  },
  {
   "cell_type": "markdown",
   "metadata": {},
   "source": [
    "## ✏️ Exercice : minimum et maximum\n",
    "\n",
    "On considère une séquence d'entiers positifs représentée dans un fichier. Écrire un programme qui affiche les valeurs minimum et maximum de la séquence. En cas de séquence vide, un message d'erreur est affiché"
   ]
  },
  {
   "cell_type": "code",
   "execution_count": null,
   "metadata": {},
   "outputs": [],
   "source": [
    "# Exercice : minimum et maximum"
   ]
  },
  {
   "cell_type": "markdown",
   "metadata": {},
   "source": [
    "## ✏️ Exercice : cumul\n",
    "On considère une séquence d'entiers positifs représentée dans un fichier, avec un entier par ligne. L'objectif est d'écrire un programme qui écrit dans un fichier la somme cumulée des nombres à chaque ligne. \n",
    "\n",
    "Exemple de fichier source :\n",
    "```\n",
    "5\n",
    "8\n",
    "3\n",
    "20\n",
    "2\n",
    "1\n",
    "```\n",
    "\n",
    "Exemple de fichier résultat :\n",
    "```\n",
    "5\n",
    "13\n",
    "16\n",
    "36\n",
    "38\n",
    "39\n",
    "```"
   ]
  },
  {
   "cell_type": "code",
   "execution_count": null,
   "metadata": {},
   "outputs": [],
   "source": [
    "# Exercice : cumul"
   ]
  },
  {
   "cell_type": "markdown",
   "metadata": {},
   "source": [
    "## ✏️ Exercice : éclatement d'un fichier\n",
    "\n",
    "On considère une séquence d'entiers représentée dans un fichier. Écrire un programme qui recopie dans un fichier les entiers positifs ou nuls de la séquence, et dans un autre fichier les entiers négatifs."
   ]
  },
  {
   "cell_type": "code",
   "execution_count": null,
   "metadata": {},
   "outputs": [],
   "source": [
    "# Exercice : éclatement d'un fichier"
   ]
  },
  {
   "cell_type": "markdown",
   "metadata": {},
   "source": [
    "## ✏️ Exercice : écriture de conjugaisons\n",
    "\n",
    "Reprendre les exercices vus précédemment concernant la conjugaison des verbes du premier et du deuxième groupe :\n",
    "- Ajouter la conjugaison à l'imparfait de l'indicatif, en plus du présent de l'indicatif.\n",
    "- Lire les verbes à conjuguer dans un fichier appelé `verbes.txt` qui aura le format suivant (un verbe par ligne) :\n",
    "    ```\n",
    "    infinitif-verbe1 <espace> groupe-verbe1\n",
    "    infinitif-verbe2 <espace> groupe-verbe2`\n",
    "    ```\n",
    "    \n",
    "    Par exemple :\n",
    "    ```\n",
    "    cuisiner 1\n",
    "    finir 2\n",
    "    chanter 1\n",
    "    ```\n",
    "    \n",
    "- Pour chaque verbe, écrire les conjugaisons obtenues dans deux fichiers différents : `<infinitif>-present.txt` pour la conjugaison au présent et `<infinitif>-imparfait.txt` pour la conjugaison à l'imparfait. (Attention : il faudra remplacer `<infinitif>` par l'infinitif du verbe lu dans le fichier `verbes.txt`. Si le verbe est \"chanter\", il faudra écrire deux fichiers : `chanter-present.txt` et `chanter-imparfait.txt`)"
   ]
  },
  {
   "cell_type": "code",
   "execution_count": null,
   "metadata": {},
   "outputs": [],
   "source": [
    "# Exercice : écriture de conjugaisons"
   ]
  },
  {
   "cell_type": "markdown",
   "metadata": {},
   "source": [
    "## Exemple de manipulation de fichiers tabulés\n",
    "\n",
    "*Exemples inspirés de https://docs.google.com/document/d/1tj7dQLjychqBGmxHknbBxL1fA_amSKQy7Q5Xj-nQGQk/edit#!*\n",
    "\n",
    "### Décompte du nombre de villes par hémisphère\n",
    "\n",
    "Le fichier tabulé `CityLatitudeHemisphere.tsv` contient une liste de villes mondiales avec leur latitude et leur hémisphère. Observez le contenu de ce fichier.\n",
    "\n",
    "Étudiez le programme Python ci-dessous et essayez de comprendre son fonctionnement :"
   ]
  },
  {
   "cell_type": "code",
   "execution_count": null,
   "metadata": {},
   "outputs": [],
   "source": [
    "count_N = 0\n",
    "count_S = 0\n",
    "with open('input/CityLatitudeHemisphere.tsv', 'r', encoding='utf8') as data :\n",
    "    header = data.readline()\n",
    "\n",
    "    for line in data:\n",
    "        line = line.rstrip()\n",
    "        columns = line.split('\\t')\n",
    "        city = columns[0]\n",
    "        hemisphere = columns[2]\n",
    "        if hemisphere == 'N':\n",
    "            count_N += 1\n",
    "        elif hemisphere == 'S':\n",
    "            count_S += 1\n",
    "        print(city,',',hemisphere)\n",
    "\n",
    "    print(f\"Nombre de villes dans l'hémipshère nord : {count_N}\")\n",
    "    print(f\"Nombre de villes dans l'hémipshère sud : {count_S}\")"
   ]
  },
  {
   "cell_type": "markdown",
   "metadata": {},
   "source": [
    "Répondez aux questions suivantes :\n",
    "1. Quelles lignes de code permettent d'identifier et de compter les villes de l'hémisphère nord ?\n",
    "1. Que font les instructions `count_N += 1` et `count_S += 1` ?\n",
    "1. A quoi sert l'instruction de la ligne 4 ?\n",
    "1. Quel hémisphère a le plus de villes ? (vous pouvez exécuter le programme pour répondre à cette question)"
   ]
  },
  {
   "cell_type": "markdown",
   "metadata": {},
   "source": [
    "### Décompte du nombre de villes par latitude\n",
    "Étudiez le programme Python ci-dessous et essayez de comprendre son fonctionnement :"
   ]
  },
  {
   "cell_type": "code",
   "execution_count": null,
   "metadata": {},
   "outputs": [],
   "source": [
    "count = 0\n",
    "with open('input/CityLatitudeHemisphere.tsv', 'r', encoding='utf8') as data :\n",
    "    header = data.readline()\n",
    "\n",
    "    for line in data:\n",
    "        line = line.rstrip()\n",
    "        columns = line.split('\\t')\n",
    "        city = columns[0]\n",
    "        latitude = float(columns[1])\n",
    "        hemisphere = columns[2]\n",
    "        if latitude >= 20 and latitude <= 25:\n",
    "            print(city,\",\", latitude, \",\", hemisphere)\n",
    "            count += 1\n",
    "\n",
    "    print(f\"Nombre de villes entre les latitudes 20 et 25 : {count}\")\n"
   ]
  },
  {
   "cell_type": "markdown",
   "metadata": {},
   "source": [
    "Répondez aux questions suivantes :\n",
    "1. Modifiez le programme pour qu'il affiche les villes de l'hémisphère nord ayant une latitude supérieure ou égale à 30. Combien y en a-t-il ?\n",
    "1. Modifiez le programme pour qu'il compte le nombre de villes situées entre les latitudes 0 à 10 (inclus), 11 à 20, 21 à 30, 31 à 40, 41 à 50, 51 à 60, 61 à 70 et 71 à 76. Dans quel intervalle de latitudes y a-t-il le plus grand nombre de villes ?\n"
   ]
  }
 ],
 "metadata": {
  "kernelspec": {
   "display_name": "Python 3",
   "language": "python",
   "name": "python3"
  },
  "language_info": {
   "codemirror_mode": {
    "name": "ipython",
    "version": 3
   },
   "file_extension": ".py",
   "mimetype": "text/x-python",
   "name": "python",
   "nbconvert_exporter": "python",
   "pygments_lexer": "ipython3",
   "version": "3.7.10"
  }
 },
 "nbformat": 4,
 "nbformat_minor": 2
}
